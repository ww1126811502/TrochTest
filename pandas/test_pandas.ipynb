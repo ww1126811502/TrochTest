{
 "cells": [
  {
   "cell_type": "code",
   "execution_count": 1,
   "metadata": {
    "collapsed": true
   },
   "outputs": [],
   "source": [
    "import pandas as pd\n",
    "import numpy as np\n",
    "%matplotlib inline"
   ]
  },
  {
   "cell_type": "code",
   "execution_count": 2,
   "outputs": [
    {
     "data": {
      "text/plain": "   id                                  info_link  \\\n0   1  https://movie.douban.com/subject/1292052/   \n1   2  https://movie.douban.com/subject/1291546/   \n2   3  https://movie.douban.com/subject/1292720/   \n3   4  https://movie.douban.com/subject/1292722/   \n4   5  https://movie.douban.com/subject/1295644/   \n\n                                            pic_link    cname  \\\n0  https://img2.doubanio.com/view/photo/s_ratio_p...   肖申克的救赎   \n1  https://img3.doubanio.com/view/photo/s_ratio_p...     霸王别姬   \n2  https://img2.doubanio.com/view/photo/s_ratio_p...     阿甘正传   \n3  https://img9.doubanio.com/view/photo/s_ratio_p...    泰坦尼克号   \n4  https://img2.doubanio.com/view/photo/s_ratio_p...  这个杀手不太冷   \n\n                        ename  score    rated           instr  \\\n0    The Shawshank Redemption    9.7  2598133          希望让人自由   \n1                                9.6  1929614            风华绝代   \n2                Forrest Gump    9.5  1952565        一部美国近现代史   \n3                     Titanic    9.4  1913757       失去的才是永恒的    \n4                        Léon    9.4  2106540  怪蜀黍和小萝莉不得不说的故事   \n\n                                                info  \n0  导演: 弗兰克·德拉邦特 Frank Darabont   主演: 蒂姆·罗宾斯 Tim R...  \n1  导演: 陈凯歌 Kaige Chen   主演: 张国荣 Leslie Cheung   张...  \n2  导演: 罗伯特·泽米吉斯 Robert Zemeckis   主演: 汤姆·汉克斯 Tom ...  \n3  导演: 詹姆斯·卡梅隆 James Cameron   主演: 莱昂纳多·迪卡普里奥 Leo...  \n4  导演: 吕克·贝松 Luc Besson   主演: 让·雷诺 Jean Reno   娜塔...  ",
      "text/html": "<div>\n<style scoped>\n    .dataframe tbody tr th:only-of-type {\n        vertical-align: middle;\n    }\n\n    .dataframe tbody tr th {\n        vertical-align: top;\n    }\n\n    .dataframe thead th {\n        text-align: right;\n    }\n</style>\n<table border=\"1\" class=\"dataframe\">\n  <thead>\n    <tr style=\"text-align: right;\">\n      <th></th>\n      <th>id</th>\n      <th>info_link</th>\n      <th>pic_link</th>\n      <th>cname</th>\n      <th>ename</th>\n      <th>score</th>\n      <th>rated</th>\n      <th>instr</th>\n      <th>info</th>\n    </tr>\n  </thead>\n  <tbody>\n    <tr>\n      <th>0</th>\n      <td>1</td>\n      <td>https://movie.douban.com/subject/1292052/</td>\n      <td>https://img2.doubanio.com/view/photo/s_ratio_p...</td>\n      <td>肖申克的救赎</td>\n      <td>The Shawshank Redemption</td>\n      <td>9.7</td>\n      <td>2598133</td>\n      <td>希望让人自由</td>\n      <td>导演: 弗兰克·德拉邦特 Frank Darabont   主演: 蒂姆·罗宾斯 Tim R...</td>\n    </tr>\n    <tr>\n      <th>1</th>\n      <td>2</td>\n      <td>https://movie.douban.com/subject/1291546/</td>\n      <td>https://img3.doubanio.com/view/photo/s_ratio_p...</td>\n      <td>霸王别姬</td>\n      <td></td>\n      <td>9.6</td>\n      <td>1929614</td>\n      <td>风华绝代</td>\n      <td>导演: 陈凯歌 Kaige Chen   主演: 张国荣 Leslie Cheung   张...</td>\n    </tr>\n    <tr>\n      <th>2</th>\n      <td>3</td>\n      <td>https://movie.douban.com/subject/1292720/</td>\n      <td>https://img2.doubanio.com/view/photo/s_ratio_p...</td>\n      <td>阿甘正传</td>\n      <td>Forrest Gump</td>\n      <td>9.5</td>\n      <td>1952565</td>\n      <td>一部美国近现代史</td>\n      <td>导演: 罗伯特·泽米吉斯 Robert Zemeckis   主演: 汤姆·汉克斯 Tom ...</td>\n    </tr>\n    <tr>\n      <th>3</th>\n      <td>4</td>\n      <td>https://movie.douban.com/subject/1292722/</td>\n      <td>https://img9.doubanio.com/view/photo/s_ratio_p...</td>\n      <td>泰坦尼克号</td>\n      <td>Titanic</td>\n      <td>9.4</td>\n      <td>1913757</td>\n      <td>失去的才是永恒的</td>\n      <td>导演: 詹姆斯·卡梅隆 James Cameron   主演: 莱昂纳多·迪卡普里奥 Leo...</td>\n    </tr>\n    <tr>\n      <th>4</th>\n      <td>5</td>\n      <td>https://movie.douban.com/subject/1295644/</td>\n      <td>https://img2.doubanio.com/view/photo/s_ratio_p...</td>\n      <td>这个杀手不太冷</td>\n      <td>Léon</td>\n      <td>9.4</td>\n      <td>2106540</td>\n      <td>怪蜀黍和小萝莉不得不说的故事</td>\n      <td>导演: 吕克·贝松 Luc Besson   主演: 让·雷诺 Jean Reno   娜塔...</td>\n    </tr>\n  </tbody>\n</table>\n</div>"
     },
     "execution_count": 2,
     "metadata": {},
     "output_type": "execute_result"
    }
   ],
   "source": [
    "import sqlite3\n",
    "\n",
    "conn = sqlite3.connect('movie.db')\n",
    "db_data = pd.read_sql_query(\"select * from movie250\", conn)\n",
    "db_data.head()"
   ],
   "metadata": {
    "collapsed": false,
    "pycharm": {
     "name": "#%%\n"
    }
   }
  },
  {
   "cell_type": "code",
   "execution_count": 9,
   "outputs": [],
   "source": [
    "datas = pd.read_csv('HollywoodsMostProfitableStories.csv')"
   ],
   "metadata": {
    "collapsed": false,
    "pycharm": {
     "name": "#%%\n"
    }
   }
  },
  {
   "cell_type": "code",
   "execution_count": 10,
   "outputs": [
    {
     "data": {
      "text/plain": "Index(['Film', 'Genre', 'Lead Studio', 'Audience  score %', 'Profitability',\n       'Rotten Tomatoes %', 'Worldwide Gross', 'Year'],\n      dtype='object')"
     },
     "execution_count": 10,
     "metadata": {},
     "output_type": "execute_result"
    }
   ],
   "source": [
    "datas.columns"
   ],
   "metadata": {
    "collapsed": false,
    "pycharm": {
     "name": "#%%\n"
    }
   }
  },
  {
   "cell_type": "markdown",
   "source": [
    "# 查询相关"
   ],
   "metadata": {
    "collapsed": false
   }
  },
  {
   "cell_type": "code",
   "execution_count": 11,
   "outputs": [
    {
     "data": {
      "text/plain": "                      Film    Genre  Lead Studio  Audience  score %  \\\nYear                                                                  \n2008            27 Dresses   Comedy          Fox               71.0   \n2009  (500) Days of Summer   Comedy          Fox               81.0   \n2011    A Dangerous Method    Drama  Independent               89.0   \n2009         A Serious Man    Drama    Universal               64.0   \n2007   Across the Universe  Romance  Independent               84.0   \n\n      Profitability  Rotten Tomatoes %  Worldwide Gross  \nYear                                                     \n2008       5.343622               40.0       160.308654  \n2009       8.096000               87.0        60.720000  \n2011       0.448645               79.0         8.972895  \n2009       4.382857               89.0        30.680000  \n2007       0.652603               54.0        29.367143  ",
      "text/html": "<div>\n<style scoped>\n    .dataframe tbody tr th:only-of-type {\n        vertical-align: middle;\n    }\n\n    .dataframe tbody tr th {\n        vertical-align: top;\n    }\n\n    .dataframe thead th {\n        text-align: right;\n    }\n</style>\n<table border=\"1\" class=\"dataframe\">\n  <thead>\n    <tr style=\"text-align: right;\">\n      <th></th>\n      <th>Film</th>\n      <th>Genre</th>\n      <th>Lead Studio</th>\n      <th>Audience  score %</th>\n      <th>Profitability</th>\n      <th>Rotten Tomatoes %</th>\n      <th>Worldwide Gross</th>\n    </tr>\n    <tr>\n      <th>Year</th>\n      <th></th>\n      <th></th>\n      <th></th>\n      <th></th>\n      <th></th>\n      <th></th>\n      <th></th>\n    </tr>\n  </thead>\n  <tbody>\n    <tr>\n      <th>2008</th>\n      <td>27 Dresses</td>\n      <td>Comedy</td>\n      <td>Fox</td>\n      <td>71.0</td>\n      <td>5.343622</td>\n      <td>40.0</td>\n      <td>160.308654</td>\n    </tr>\n    <tr>\n      <th>2009</th>\n      <td>(500) Days of Summer</td>\n      <td>Comedy</td>\n      <td>Fox</td>\n      <td>81.0</td>\n      <td>8.096000</td>\n      <td>87.0</td>\n      <td>60.720000</td>\n    </tr>\n    <tr>\n      <th>2011</th>\n      <td>A Dangerous Method</td>\n      <td>Drama</td>\n      <td>Independent</td>\n      <td>89.0</td>\n      <td>0.448645</td>\n      <td>79.0</td>\n      <td>8.972895</td>\n    </tr>\n    <tr>\n      <th>2009</th>\n      <td>A Serious Man</td>\n      <td>Drama</td>\n      <td>Universal</td>\n      <td>64.0</td>\n      <td>4.382857</td>\n      <td>89.0</td>\n      <td>30.680000</td>\n    </tr>\n    <tr>\n      <th>2007</th>\n      <td>Across the Universe</td>\n      <td>Romance</td>\n      <td>Independent</td>\n      <td>84.0</td>\n      <td>0.652603</td>\n      <td>54.0</td>\n      <td>29.367143</td>\n    </tr>\n  </tbody>\n</table>\n</div>"
     },
     "execution_count": 11,
     "metadata": {},
     "output_type": "execute_result"
    }
   ],
   "source": [
    "datas.set_index('Year', inplace=True)\n",
    "datas.head()"
   ],
   "metadata": {
    "collapsed": false,
    "pycharm": {
     "name": "#%%\n"
    }
   }
  },
  {
   "cell_type": "code",
   "execution_count": 21,
   "outputs": [
    {
     "data": {
      "text/plain": "                   Film      Genre Lead Studio  Audience  score %  \\\nYear                                                                \n2007          Enchanted     Comedy      Disney               80.0   \n2007         Knocked Up     Comedy   Universal               83.0   \n2011  Midnight in Paris    Romance        Sony               84.0   \n2008             WALL-E  Animation      Disney               89.0   \n\n      Profitability  Rotten Tomatoes %  Worldwide Gross  \nYear                                                     \n2007       4.005737               93.0       340.487652  \n2007       6.636402               91.0       219.001261  \n2011       8.744706               93.0       148.660000  \n2008       2.896019               96.0       521.283432  ",
      "text/html": "<div>\n<style scoped>\n    .dataframe tbody tr th:only-of-type {\n        vertical-align: middle;\n    }\n\n    .dataframe tbody tr th {\n        vertical-align: top;\n    }\n\n    .dataframe thead th {\n        text-align: right;\n    }\n</style>\n<table border=\"1\" class=\"dataframe\">\n  <thead>\n    <tr style=\"text-align: right;\">\n      <th></th>\n      <th>Film</th>\n      <th>Genre</th>\n      <th>Lead Studio</th>\n      <th>Audience  score %</th>\n      <th>Profitability</th>\n      <th>Rotten Tomatoes %</th>\n      <th>Worldwide Gross</th>\n    </tr>\n    <tr>\n      <th>Year</th>\n      <th></th>\n      <th></th>\n      <th></th>\n      <th></th>\n      <th></th>\n      <th></th>\n      <th></th>\n    </tr>\n  </thead>\n  <tbody>\n    <tr>\n      <th>2007</th>\n      <td>Enchanted</td>\n      <td>Comedy</td>\n      <td>Disney</td>\n      <td>80.0</td>\n      <td>4.005737</td>\n      <td>93.0</td>\n      <td>340.487652</td>\n    </tr>\n    <tr>\n      <th>2007</th>\n      <td>Knocked Up</td>\n      <td>Comedy</td>\n      <td>Universal</td>\n      <td>83.0</td>\n      <td>6.636402</td>\n      <td>91.0</td>\n      <td>219.001261</td>\n    </tr>\n    <tr>\n      <th>2011</th>\n      <td>Midnight in Paris</td>\n      <td>Romance</td>\n      <td>Sony</td>\n      <td>84.0</td>\n      <td>8.744706</td>\n      <td>93.0</td>\n      <td>148.660000</td>\n    </tr>\n    <tr>\n      <th>2008</th>\n      <td>WALL-E</td>\n      <td>Animation</td>\n      <td>Disney</td>\n      <td>89.0</td>\n      <td>2.896019</td>\n      <td>96.0</td>\n      <td>521.283432</td>\n    </tr>\n  </tbody>\n</table>\n</div>"
     },
     "execution_count": 21,
     "metadata": {},
     "output_type": "execute_result"
    }
   ],
   "source": [
    "# datas.loc[ (datas['Audience  score %']>=80) & (datas['Rotten Tomatoes %']>=90) , :]\n",
    "datas.loc[ (datas['Audience  score %']>=80) & (datas['Rotten Tomatoes %']>=90) , :]"
   ],
   "metadata": {
    "collapsed": false,
    "pycharm": {
     "name": "#%%\n"
    }
   }
  },
  {
   "cell_type": "code",
   "execution_count": 11,
   "outputs": [
    {
     "data": {
      "text/plain": "                                     Film    Genre   Lead Studio  \\\nYear                                                               \n2011                   A Dangerous Method    Drama   Independent   \n2007                  Across the Universe  Romance   Independent   \n2007                      P.S. I Love You  Romance   Independent   \n2008                     Sex and the City   Comedy  Warner Bros.   \n2008  The Curious Case of Benjamin Button  Fantasy  Warner Bros.   \n2008                             Twilight  Romance        Summit   \n\n      Audience  score %  Profitability  Rotten Tomatoes %  Worldwide Gross  \nYear                                                                        \n2011               89.0       0.448645               79.0         8.972895  \n2007               84.0       0.652603               54.0        29.367143  \n2007               82.0       5.103117               21.0       153.093505  \n2008               81.0       7.221796               49.0       415.253258  \n2008               81.0       1.783944               73.0       285.431000  \n2008               82.0      10.180027               49.0       376.661000  ",
      "text/html": "<div>\n<style scoped>\n    .dataframe tbody tr th:only-of-type {\n        vertical-align: middle;\n    }\n\n    .dataframe tbody tr th {\n        vertical-align: top;\n    }\n\n    .dataframe thead th {\n        text-align: right;\n    }\n</style>\n<table border=\"1\" class=\"dataframe\">\n  <thead>\n    <tr style=\"text-align: right;\">\n      <th></th>\n      <th>Film</th>\n      <th>Genre</th>\n      <th>Lead Studio</th>\n      <th>Audience  score %</th>\n      <th>Profitability</th>\n      <th>Rotten Tomatoes %</th>\n      <th>Worldwide Gross</th>\n    </tr>\n    <tr>\n      <th>Year</th>\n      <th></th>\n      <th></th>\n      <th></th>\n      <th></th>\n      <th></th>\n      <th></th>\n      <th></th>\n    </tr>\n  </thead>\n  <tbody>\n    <tr>\n      <th>2011</th>\n      <td>A Dangerous Method</td>\n      <td>Drama</td>\n      <td>Independent</td>\n      <td>89.0</td>\n      <td>0.448645</td>\n      <td>79.0</td>\n      <td>8.972895</td>\n    </tr>\n    <tr>\n      <th>2007</th>\n      <td>Across the Universe</td>\n      <td>Romance</td>\n      <td>Independent</td>\n      <td>84.0</td>\n      <td>0.652603</td>\n      <td>54.0</td>\n      <td>29.367143</td>\n    </tr>\n    <tr>\n      <th>2007</th>\n      <td>P.S. I Love You</td>\n      <td>Romance</td>\n      <td>Independent</td>\n      <td>82.0</td>\n      <td>5.103117</td>\n      <td>21.0</td>\n      <td>153.093505</td>\n    </tr>\n    <tr>\n      <th>2008</th>\n      <td>Sex and the City</td>\n      <td>Comedy</td>\n      <td>Warner Bros.</td>\n      <td>81.0</td>\n      <td>7.221796</td>\n      <td>49.0</td>\n      <td>415.253258</td>\n    </tr>\n    <tr>\n      <th>2008</th>\n      <td>The Curious Case of Benjamin Button</td>\n      <td>Fantasy</td>\n      <td>Warner Bros.</td>\n      <td>81.0</td>\n      <td>1.783944</td>\n      <td>73.0</td>\n      <td>285.431000</td>\n    </tr>\n    <tr>\n      <th>2008</th>\n      <td>Twilight</td>\n      <td>Romance</td>\n      <td>Summit</td>\n      <td>82.0</td>\n      <td>10.180027</td>\n      <td>49.0</td>\n      <td>376.661000</td>\n    </tr>\n  </tbody>\n</table>\n</div>"
     },
     "execution_count": 11,
     "metadata": {},
     "output_type": "execute_result"
    }
   ],
   "source": [
    "datas.loc[lambda df:(datas['Audience  score %']>=80) & (datas['Rotten Tomatoes %']<=80) , :]"
   ],
   "metadata": {
    "collapsed": false,
    "pycharm": {
     "name": "#%%\n"
    }
   }
  },
  {
   "cell_type": "markdown",
   "source": [
    "# 新增数据列的方式"
   ],
   "metadata": {
    "collapsed": false
   }
  },
  {
   "cell_type": "code",
   "execution_count": 17,
   "outputs": [
    {
     "data": {
      "text/plain": "Film                  object\nGenre                 object\nLead Studio           object\nAudience  score %    float64\nProfitability        float64\nRotten Tomatoes %    float64\nWorldwide Gross      float64\ndtype: object"
     },
     "execution_count": 17,
     "metadata": {},
     "output_type": "execute_result"
    }
   ],
   "source": [
    "datas.dtypes"
   ],
   "metadata": {
    "collapsed": false,
    "pycharm": {
     "name": "#%%\n"
    }
   }
  },
  {
   "cell_type": "code",
   "execution_count": 33,
   "outputs": [
    {
     "data": {
      "text/plain": "                    Film    Genre  Lead Studio  Audience  score %  \\\nYear                                                                \n2011  Something Borrowed  Romance  Independent                  0   \n\n      Profitability  Rotten Tomatoes %  Worldwide Gross  分差  \nYear                                                         \n2011       1.719514                  0           60.183   0  ",
      "text/html": "<div>\n<style scoped>\n    .dataframe tbody tr th:only-of-type {\n        vertical-align: middle;\n    }\n\n    .dataframe tbody tr th {\n        vertical-align: top;\n    }\n\n    .dataframe thead th {\n        text-align: right;\n    }\n</style>\n<table border=\"1\" class=\"dataframe\">\n  <thead>\n    <tr style=\"text-align: right;\">\n      <th></th>\n      <th>Film</th>\n      <th>Genre</th>\n      <th>Lead Studio</th>\n      <th>Audience  score %</th>\n      <th>Profitability</th>\n      <th>Rotten Tomatoes %</th>\n      <th>Worldwide Gross</th>\n      <th>分差</th>\n    </tr>\n    <tr>\n      <th>Year</th>\n      <th></th>\n      <th></th>\n      <th></th>\n      <th></th>\n      <th></th>\n      <th></th>\n      <th></th>\n      <th></th>\n    </tr>\n  </thead>\n  <tbody>\n    <tr>\n      <th>2011</th>\n      <td>Something Borrowed</td>\n      <td>Romance</td>\n      <td>Independent</td>\n      <td>0</td>\n      <td>1.719514</td>\n      <td>0</td>\n      <td>60.183</td>\n      <td>0</td>\n    </tr>\n  </tbody>\n</table>\n</div>"
     },
     "execution_count": 33,
     "metadata": {},
     "output_type": "execute_result"
    }
   ],
   "source": [
    "datas.loc[datas['Film'] == 'Something Borrowed']"
   ],
   "metadata": {
    "collapsed": false,
    "pycharm": {
     "name": "#%%\n"
    }
   }
  },
  {
   "cell_type": "code",
   "execution_count": 26,
   "outputs": [],
   "source": [
    "datas.loc[datas['Film']=='Something Borrowed', ['Audience  score %', 'Rotten Tomatoes %']] = [0, 0]"
   ],
   "metadata": {
    "collapsed": false,
    "pycharm": {
     "name": "#%%\n"
    }
   }
  },
  {
   "cell_type": "code",
   "execution_count": 30,
   "outputs": [
    {
     "data": {
      "text/plain": "Film                  object\nGenre                 object\nLead Studio           object\nAudience  score %      int32\nProfitability        float64\nRotten Tomatoes %      int32\nWorldwide Gross      float64\ndtype: object"
     },
     "execution_count": 30,
     "metadata": {},
     "output_type": "execute_result"
    }
   ],
   "source": [
    "datas.loc[:, 'Audience  score %'] = datas['Audience  score %'].astype('int32')\n",
    "datas.loc[:, 'Rotten Tomatoes %'] = datas['Rotten Tomatoes %'].astype('int32')\n",
    "datas.dtypes"
   ],
   "metadata": {
    "collapsed": false,
    "pycharm": {
     "name": "#%%\n"
    }
   }
  },
  {
   "cell_type": "code",
   "execution_count": 32,
   "outputs": [
    {
     "data": {
      "text/plain": "                      Film    Genre  Lead Studio  Audience  score %  \\\nYear                                                                  \n2008            27 Dresses   Comedy          Fox                 71   \n2009  (500) Days of Summer   Comedy          Fox                 81   \n2011    A Dangerous Method    Drama  Independent                 89   \n2009         A Serious Man    Drama    Universal                 64   \n2007   Across the Universe  Romance  Independent                 84   \n\n      Profitability  Rotten Tomatoes %  Worldwide Gross  分差  \nYear                                                         \n2008       5.343622                 40       160.308654  31  \n2009       8.096000                 87        60.720000  -6  \n2011       0.448645                 79         8.972895  10  \n2009       4.382857                 89        30.680000 -25  \n2007       0.652603                 54        29.367143  30  ",
      "text/html": "<div>\n<style scoped>\n    .dataframe tbody tr th:only-of-type {\n        vertical-align: middle;\n    }\n\n    .dataframe tbody tr th {\n        vertical-align: top;\n    }\n\n    .dataframe thead th {\n        text-align: right;\n    }\n</style>\n<table border=\"1\" class=\"dataframe\">\n  <thead>\n    <tr style=\"text-align: right;\">\n      <th></th>\n      <th>Film</th>\n      <th>Genre</th>\n      <th>Lead Studio</th>\n      <th>Audience  score %</th>\n      <th>Profitability</th>\n      <th>Rotten Tomatoes %</th>\n      <th>Worldwide Gross</th>\n      <th>分差</th>\n    </tr>\n    <tr>\n      <th>Year</th>\n      <th></th>\n      <th></th>\n      <th></th>\n      <th></th>\n      <th></th>\n      <th></th>\n      <th></th>\n      <th></th>\n    </tr>\n  </thead>\n  <tbody>\n    <tr>\n      <th>2008</th>\n      <td>27 Dresses</td>\n      <td>Comedy</td>\n      <td>Fox</td>\n      <td>71</td>\n      <td>5.343622</td>\n      <td>40</td>\n      <td>160.308654</td>\n      <td>31</td>\n    </tr>\n    <tr>\n      <th>2009</th>\n      <td>(500) Days of Summer</td>\n      <td>Comedy</td>\n      <td>Fox</td>\n      <td>81</td>\n      <td>8.096000</td>\n      <td>87</td>\n      <td>60.720000</td>\n      <td>-6</td>\n    </tr>\n    <tr>\n      <th>2011</th>\n      <td>A Dangerous Method</td>\n      <td>Drama</td>\n      <td>Independent</td>\n      <td>89</td>\n      <td>0.448645</td>\n      <td>79</td>\n      <td>8.972895</td>\n      <td>10</td>\n    </tr>\n    <tr>\n      <th>2009</th>\n      <td>A Serious Man</td>\n      <td>Drama</td>\n      <td>Universal</td>\n      <td>64</td>\n      <td>4.382857</td>\n      <td>89</td>\n      <td>30.680000</td>\n      <td>-25</td>\n    </tr>\n    <tr>\n      <th>2007</th>\n      <td>Across the Universe</td>\n      <td>Romance</td>\n      <td>Independent</td>\n      <td>84</td>\n      <td>0.652603</td>\n      <td>54</td>\n      <td>29.367143</td>\n      <td>30</td>\n    </tr>\n  </tbody>\n</table>\n</div>"
     },
     "execution_count": 32,
     "metadata": {},
     "output_type": "execute_result"
    }
   ],
   "source": [
    "datas.loc[:, \"分差\"] = datas['Audience  score %'] - datas['Rotten Tomatoes %']\n",
    "datas.head()"
   ],
   "metadata": {
    "collapsed": false,
    "pycharm": {
     "name": "#%%\n"
    }
   }
  },
  {
   "cell_type": "code",
   "execution_count": 34,
   "outputs": [
    {
     "data": {
      "text/plain": "Comedy       41\nRomance      15\nDrama        13\nAnimation     3\nAction        1\nFantasy       1\nName: Genre, dtype: int64"
     },
     "execution_count": 34,
     "metadata": {},
     "output_type": "execute_result"
    }
   ],
   "source": [
    "#对某列的值进行计数：\n",
    "datas['Genre'].value_counts()"
   ],
   "metadata": {
    "collapsed": false,
    "pycharm": {
     "name": "#%%\n"
    }
   }
  },
  {
   "cell_type": "markdown",
   "source": [
    "# 内置统计函数"
   ],
   "metadata": {
    "collapsed": false
   }
  },
  {
   "cell_type": "code",
   "execution_count": 36,
   "outputs": [],
   "source": [
    "datas = pd.read_csv('HollywoodsMostProfitableStories.csv')"
   ],
   "metadata": {
    "collapsed": false,
    "pycharm": {
     "name": "#%%\n"
    }
   }
  },
  {
   "cell_type": "code",
   "execution_count": 37,
   "outputs": [
    {
     "data": {
      "text/plain": "       Audience  score %  Profitability  Rotten Tomatoes %  Worldwide Gross  \\\ncount          73.000000      71.000000          73.000000        74.000000   \nmean           64.136986       4.741610          47.356164       136.351979   \nstd            13.647665       8.292017          26.242655       157.067561   \nmin            35.000000       0.005000           3.000000         0.025000   \n25%            52.000000       1.790680          27.000000        32.447500   \n50%            64.000000       2.642353          45.000000        73.198612   \n75%            76.000000       4.850958          65.000000       190.185250   \nmax            89.000000      66.934000          96.000000       709.820000   \n\n              Year  \ncount    74.000000  \nmean   2009.054054  \nstd       1.353756  \nmin    2007.000000  \n25%    2008.000000  \n50%    2009.000000  \n75%    2010.000000  \nmax    2011.000000  ",
      "text/html": "<div>\n<style scoped>\n    .dataframe tbody tr th:only-of-type {\n        vertical-align: middle;\n    }\n\n    .dataframe tbody tr th {\n        vertical-align: top;\n    }\n\n    .dataframe thead th {\n        text-align: right;\n    }\n</style>\n<table border=\"1\" class=\"dataframe\">\n  <thead>\n    <tr style=\"text-align: right;\">\n      <th></th>\n      <th>Audience  score %</th>\n      <th>Profitability</th>\n      <th>Rotten Tomatoes %</th>\n      <th>Worldwide Gross</th>\n      <th>Year</th>\n    </tr>\n  </thead>\n  <tbody>\n    <tr>\n      <th>count</th>\n      <td>73.000000</td>\n      <td>71.000000</td>\n      <td>73.000000</td>\n      <td>74.000000</td>\n      <td>74.000000</td>\n    </tr>\n    <tr>\n      <th>mean</th>\n      <td>64.136986</td>\n      <td>4.741610</td>\n      <td>47.356164</td>\n      <td>136.351979</td>\n      <td>2009.054054</td>\n    </tr>\n    <tr>\n      <th>std</th>\n      <td>13.647665</td>\n      <td>8.292017</td>\n      <td>26.242655</td>\n      <td>157.067561</td>\n      <td>1.353756</td>\n    </tr>\n    <tr>\n      <th>min</th>\n      <td>35.000000</td>\n      <td>0.005000</td>\n      <td>3.000000</td>\n      <td>0.025000</td>\n      <td>2007.000000</td>\n    </tr>\n    <tr>\n      <th>25%</th>\n      <td>52.000000</td>\n      <td>1.790680</td>\n      <td>27.000000</td>\n      <td>32.447500</td>\n      <td>2008.000000</td>\n    </tr>\n    <tr>\n      <th>50%</th>\n      <td>64.000000</td>\n      <td>2.642353</td>\n      <td>45.000000</td>\n      <td>73.198612</td>\n      <td>2009.000000</td>\n    </tr>\n    <tr>\n      <th>75%</th>\n      <td>76.000000</td>\n      <td>4.850958</td>\n      <td>65.000000</td>\n      <td>190.185250</td>\n      <td>2010.000000</td>\n    </tr>\n    <tr>\n      <th>max</th>\n      <td>89.000000</td>\n      <td>66.934000</td>\n      <td>96.000000</td>\n      <td>709.820000</td>\n      <td>2011.000000</td>\n    </tr>\n  </tbody>\n</table>\n</div>"
     },
     "execution_count": 37,
     "metadata": {},
     "output_type": "execute_result"
    }
   ],
   "source": [
    "datas.describe()"
   ],
   "metadata": {
    "collapsed": false,
    "pycharm": {
     "name": "#%%\n"
    }
   }
  },
  {
   "cell_type": "code",
   "execution_count": 38,
   "outputs": [
    {
     "data": {
      "text/plain": "                   Audience  score %  Profitability  Rotten Tomatoes %  \\\nAudience  score %         186.258752       4.745558         215.603311   \nProfitability               4.745558      68.757551           5.215481   \nRotten Tomatoes %         215.603311       5.215481         688.676941   \nWorldwide Gross           851.959076     193.237626          81.830037   \nYear                       -3.364916      -1.821011          -2.343227   \n\n                   Worldwide Gross       Year  \nAudience  score %       851.959076  -3.364916  \nProfitability           193.237626  -1.821011  \nRotten Tomatoes %        81.830037  -2.343227  \nWorldwide Gross       24670.218767 -26.912686  \nYear                    -26.912686   1.832655  ",
      "text/html": "<div>\n<style scoped>\n    .dataframe tbody tr th:only-of-type {\n        vertical-align: middle;\n    }\n\n    .dataframe tbody tr th {\n        vertical-align: top;\n    }\n\n    .dataframe thead th {\n        text-align: right;\n    }\n</style>\n<table border=\"1\" class=\"dataframe\">\n  <thead>\n    <tr style=\"text-align: right;\">\n      <th></th>\n      <th>Audience  score %</th>\n      <th>Profitability</th>\n      <th>Rotten Tomatoes %</th>\n      <th>Worldwide Gross</th>\n      <th>Year</th>\n    </tr>\n  </thead>\n  <tbody>\n    <tr>\n      <th>Audience  score %</th>\n      <td>186.258752</td>\n      <td>4.745558</td>\n      <td>215.603311</td>\n      <td>851.959076</td>\n      <td>-3.364916</td>\n    </tr>\n    <tr>\n      <th>Profitability</th>\n      <td>4.745558</td>\n      <td>68.757551</td>\n      <td>5.215481</td>\n      <td>193.237626</td>\n      <td>-1.821011</td>\n    </tr>\n    <tr>\n      <th>Rotten Tomatoes %</th>\n      <td>215.603311</td>\n      <td>5.215481</td>\n      <td>688.676941</td>\n      <td>81.830037</td>\n      <td>-2.343227</td>\n    </tr>\n    <tr>\n      <th>Worldwide Gross</th>\n      <td>851.959076</td>\n      <td>193.237626</td>\n      <td>81.830037</td>\n      <td>24670.218767</td>\n      <td>-26.912686</td>\n    </tr>\n    <tr>\n      <th>Year</th>\n      <td>-3.364916</td>\n      <td>-1.821011</td>\n      <td>-2.343227</td>\n      <td>-26.912686</td>\n      <td>1.832655</td>\n    </tr>\n  </tbody>\n</table>\n</div>"
     },
     "execution_count": 38,
     "metadata": {},
     "output_type": "execute_result"
    }
   ],
   "source": [
    "datas.cov()"
   ],
   "metadata": {
    "collapsed": false,
    "pycharm": {
     "name": "#%%\n"
    }
   }
  },
  {
   "cell_type": "code",
   "execution_count": 39,
   "outputs": [
    {
     "data": {
      "text/plain": "                   Audience  score %  Profitability  Rotten Tomatoes %  \\\nAudience  score %           1.000000       0.042083           0.601990   \nProfitability               0.042083       1.000000           0.024210   \nRotten Tomatoes %           0.601990       0.024210           1.000000   \nWorldwide Gross             0.395357       0.146705           0.019748   \nYear                       -0.183528      -0.162404          -0.066465   \n\n                   Worldwide Gross      Year  \nAudience  score %         0.395357 -0.183528  \nProfitability             0.146705 -0.162404  \nRotten Tomatoes %         0.019748 -0.066465  \nWorldwide Gross           1.000000 -0.126570  \nYear                     -0.126570  1.000000  ",
      "text/html": "<div>\n<style scoped>\n    .dataframe tbody tr th:only-of-type {\n        vertical-align: middle;\n    }\n\n    .dataframe tbody tr th {\n        vertical-align: top;\n    }\n\n    .dataframe thead th {\n        text-align: right;\n    }\n</style>\n<table border=\"1\" class=\"dataframe\">\n  <thead>\n    <tr style=\"text-align: right;\">\n      <th></th>\n      <th>Audience  score %</th>\n      <th>Profitability</th>\n      <th>Rotten Tomatoes %</th>\n      <th>Worldwide Gross</th>\n      <th>Year</th>\n    </tr>\n  </thead>\n  <tbody>\n    <tr>\n      <th>Audience  score %</th>\n      <td>1.000000</td>\n      <td>0.042083</td>\n      <td>0.601990</td>\n      <td>0.395357</td>\n      <td>-0.183528</td>\n    </tr>\n    <tr>\n      <th>Profitability</th>\n      <td>0.042083</td>\n      <td>1.000000</td>\n      <td>0.024210</td>\n      <td>0.146705</td>\n      <td>-0.162404</td>\n    </tr>\n    <tr>\n      <th>Rotten Tomatoes %</th>\n      <td>0.601990</td>\n      <td>0.024210</td>\n      <td>1.000000</td>\n      <td>0.019748</td>\n      <td>-0.066465</td>\n    </tr>\n    <tr>\n      <th>Worldwide Gross</th>\n      <td>0.395357</td>\n      <td>0.146705</td>\n      <td>0.019748</td>\n      <td>1.000000</td>\n      <td>-0.126570</td>\n    </tr>\n    <tr>\n      <th>Year</th>\n      <td>-0.183528</td>\n      <td>-0.162404</td>\n      <td>-0.066465</td>\n      <td>-0.126570</td>\n      <td>1.000000</td>\n    </tr>\n  </tbody>\n</table>\n</div>"
     },
     "execution_count": 39,
     "metadata": {},
     "output_type": "execute_result"
    }
   ],
   "source": [
    "datas.corr()"
   ],
   "metadata": {
    "collapsed": false,
    "pycharm": {
     "name": "#%%\n"
    }
   }
  },
  {
   "cell_type": "code",
   "execution_count": 40,
   "outputs": [
    {
     "data": {
      "text/plain": "-3.3649162861491626"
     },
     "execution_count": 40,
     "metadata": {},
     "output_type": "execute_result"
    }
   ],
   "source": [
    "datas['Audience  score %'].cov(datas['Year'])"
   ],
   "metadata": {
    "collapsed": false,
    "pycharm": {
     "name": "#%%\n"
    }
   }
  },
  {
   "cell_type": "markdown",
   "source": [
    "# 排序函数："
   ],
   "metadata": {
    "collapsed": false
   }
  },
  {
   "cell_type": "markdown",
   "source": [
    "serise排序："
   ],
   "metadata": {
    "collapsed": false
   }
  },
  {
   "cell_type": "code",
   "execution_count": 25,
   "outputs": [
    {
     "data": {
      "text/plain": "Year\n2008    96.0\n2011    93.0\n2007    93.0\n2007    91.0\n2009    89.0\n        ... \n2007     8.0\n2011     8.0\n2011     6.0\n2007     3.0\n2011     NaN\nName: Rotten Tomatoes %, Length: 74, dtype: float64"
     },
     "execution_count": 25,
     "metadata": {},
     "output_type": "execute_result"
    }
   ],
   "source": [
    "datas['Rotten Tomatoes %'].sort_values(ascending=False, inplace=False)"
   ],
   "metadata": {
    "collapsed": false,
    "pycharm": {
     "name": "#%%\n"
    }
   }
  },
  {
   "cell_type": "markdown",
   "source": [
    "DF排序"
   ],
   "metadata": {
    "collapsed": false
   }
  },
  {
   "cell_type": "code",
   "execution_count": 26,
   "outputs": [
    {
     "data": {
      "text/plain": "                     Film      Genre   Lead Studio  Audience  score %  \\\nYear                                                                    \n2008               WALL-E  Animation        Disney               89.0   \n2011    Midnight in Paris    Romance          Sony               84.0   \n2007            Enchanted     Comedy        Disney               80.0   \n2007           Knocked Up     Comedy     Universal               83.0   \n2010              Tangled  Animation        Disney               88.0   \n...                   ...        ...           ...                ...   \n2007       License to Wed     Comedy  Warner Bros.               55.0   \n2011       New Year's Eve    Romance  Warner Bros.               48.0   \n2011  Waiting For Forever    Romance   Independent               53.0   \n2007      Good Luck Chuck     Comedy     Lionsgate               61.0   \n2011   Something Borrowed    Romance   Independent                NaN   \n\n      Profitability  Rotten Tomatoes %  Worldwide Gross  \nYear                                                     \n2008       2.896019               96.0       521.283432  \n2011       8.744706               93.0       148.660000  \n2007       4.005737               93.0       340.487652  \n2007       6.636402               91.0       219.001261  \n2010       1.365692               89.0       355.080000  \n...             ...                ...              ...  \n2007       1.980206                8.0        69.307224  \n2011       2.536429                8.0       142.040000  \n2011       0.005000                6.0         0.025000  \n2007       2.367685                3.0        59.192128  \n2011       1.719514                NaN        60.183000  \n\n[74 rows x 7 columns]",
      "text/html": "<div>\n<style scoped>\n    .dataframe tbody tr th:only-of-type {\n        vertical-align: middle;\n    }\n\n    .dataframe tbody tr th {\n        vertical-align: top;\n    }\n\n    .dataframe thead th {\n        text-align: right;\n    }\n</style>\n<table border=\"1\" class=\"dataframe\">\n  <thead>\n    <tr style=\"text-align: right;\">\n      <th></th>\n      <th>Film</th>\n      <th>Genre</th>\n      <th>Lead Studio</th>\n      <th>Audience  score %</th>\n      <th>Profitability</th>\n      <th>Rotten Tomatoes %</th>\n      <th>Worldwide Gross</th>\n    </tr>\n    <tr>\n      <th>Year</th>\n      <th></th>\n      <th></th>\n      <th></th>\n      <th></th>\n      <th></th>\n      <th></th>\n      <th></th>\n    </tr>\n  </thead>\n  <tbody>\n    <tr>\n      <th>2008</th>\n      <td>WALL-E</td>\n      <td>Animation</td>\n      <td>Disney</td>\n      <td>89.0</td>\n      <td>2.896019</td>\n      <td>96.0</td>\n      <td>521.283432</td>\n    </tr>\n    <tr>\n      <th>2011</th>\n      <td>Midnight in Paris</td>\n      <td>Romance</td>\n      <td>Sony</td>\n      <td>84.0</td>\n      <td>8.744706</td>\n      <td>93.0</td>\n      <td>148.660000</td>\n    </tr>\n    <tr>\n      <th>2007</th>\n      <td>Enchanted</td>\n      <td>Comedy</td>\n      <td>Disney</td>\n      <td>80.0</td>\n      <td>4.005737</td>\n      <td>93.0</td>\n      <td>340.487652</td>\n    </tr>\n    <tr>\n      <th>2007</th>\n      <td>Knocked Up</td>\n      <td>Comedy</td>\n      <td>Universal</td>\n      <td>83.0</td>\n      <td>6.636402</td>\n      <td>91.0</td>\n      <td>219.001261</td>\n    </tr>\n    <tr>\n      <th>2010</th>\n      <td>Tangled</td>\n      <td>Animation</td>\n      <td>Disney</td>\n      <td>88.0</td>\n      <td>1.365692</td>\n      <td>89.0</td>\n      <td>355.080000</td>\n    </tr>\n    <tr>\n      <th>...</th>\n      <td>...</td>\n      <td>...</td>\n      <td>...</td>\n      <td>...</td>\n      <td>...</td>\n      <td>...</td>\n      <td>...</td>\n    </tr>\n    <tr>\n      <th>2007</th>\n      <td>License to Wed</td>\n      <td>Comedy</td>\n      <td>Warner Bros.</td>\n      <td>55.0</td>\n      <td>1.980206</td>\n      <td>8.0</td>\n      <td>69.307224</td>\n    </tr>\n    <tr>\n      <th>2011</th>\n      <td>New Year's Eve</td>\n      <td>Romance</td>\n      <td>Warner Bros.</td>\n      <td>48.0</td>\n      <td>2.536429</td>\n      <td>8.0</td>\n      <td>142.040000</td>\n    </tr>\n    <tr>\n      <th>2011</th>\n      <td>Waiting For Forever</td>\n      <td>Romance</td>\n      <td>Independent</td>\n      <td>53.0</td>\n      <td>0.005000</td>\n      <td>6.0</td>\n      <td>0.025000</td>\n    </tr>\n    <tr>\n      <th>2007</th>\n      <td>Good Luck Chuck</td>\n      <td>Comedy</td>\n      <td>Lionsgate</td>\n      <td>61.0</td>\n      <td>2.367685</td>\n      <td>3.0</td>\n      <td>59.192128</td>\n    </tr>\n    <tr>\n      <th>2011</th>\n      <td>Something Borrowed</td>\n      <td>Romance</td>\n      <td>Independent</td>\n      <td>NaN</td>\n      <td>1.719514</td>\n      <td>NaN</td>\n      <td>60.183000</td>\n    </tr>\n  </tbody>\n</table>\n<p>74 rows × 7 columns</p>\n</div>"
     },
     "execution_count": 26,
     "metadata": {},
     "output_type": "execute_result"
    }
   ],
   "source": [
    "# 指定单列\n",
    "datas.sort_values(by='Rotten Tomatoes %', ascending=False)"
   ],
   "metadata": {
    "collapsed": false,
    "pycharm": {
     "name": "#%%\n"
    }
   }
  },
  {
   "cell_type": "code",
   "execution_count": 27,
   "outputs": [
    {
     "data": {
      "text/plain": "                     Film      Genre   Lead Studio  Audience  score %  \\\nYear                                                                    \n2008               WALL-E  Animation        Disney               89.0   \n2011    Midnight in Paris    Romance          Sony               84.0   \n2007            Enchanted     Comedy        Disney               80.0   \n2007           Knocked Up     Comedy     Universal               83.0   \n2010              Tangled  Animation        Disney               88.0   \n...                   ...        ...           ...                ...   \n2007       License to Wed     Comedy  Warner Bros.               55.0   \n2011       New Year's Eve    Romance  Warner Bros.               48.0   \n2011  Waiting For Forever    Romance   Independent               53.0   \n2007      Good Luck Chuck     Comedy     Lionsgate               61.0   \n2011   Something Borrowed    Romance   Independent                NaN   \n\n      Profitability  Rotten Tomatoes %  Worldwide Gross  \nYear                                                     \n2008       2.896019               96.0       521.283432  \n2011       8.744706               93.0       148.660000  \n2007       4.005737               93.0       340.487652  \n2007       6.636402               91.0       219.001261  \n2010       1.365692               89.0       355.080000  \n...             ...                ...              ...  \n2007       1.980206                8.0        69.307224  \n2011       2.536429                8.0       142.040000  \n2011       0.005000                6.0         0.025000  \n2007       2.367685                3.0        59.192128  \n2011       1.719514                NaN        60.183000  \n\n[74 rows x 7 columns]",
      "text/html": "<div>\n<style scoped>\n    .dataframe tbody tr th:only-of-type {\n        vertical-align: middle;\n    }\n\n    .dataframe tbody tr th {\n        vertical-align: top;\n    }\n\n    .dataframe thead th {\n        text-align: right;\n    }\n</style>\n<table border=\"1\" class=\"dataframe\">\n  <thead>\n    <tr style=\"text-align: right;\">\n      <th></th>\n      <th>Film</th>\n      <th>Genre</th>\n      <th>Lead Studio</th>\n      <th>Audience  score %</th>\n      <th>Profitability</th>\n      <th>Rotten Tomatoes %</th>\n      <th>Worldwide Gross</th>\n    </tr>\n    <tr>\n      <th>Year</th>\n      <th></th>\n      <th></th>\n      <th></th>\n      <th></th>\n      <th></th>\n      <th></th>\n      <th></th>\n    </tr>\n  </thead>\n  <tbody>\n    <tr>\n      <th>2008</th>\n      <td>WALL-E</td>\n      <td>Animation</td>\n      <td>Disney</td>\n      <td>89.0</td>\n      <td>2.896019</td>\n      <td>96.0</td>\n      <td>521.283432</td>\n    </tr>\n    <tr>\n      <th>2011</th>\n      <td>Midnight in Paris</td>\n      <td>Romance</td>\n      <td>Sony</td>\n      <td>84.0</td>\n      <td>8.744706</td>\n      <td>93.0</td>\n      <td>148.660000</td>\n    </tr>\n    <tr>\n      <th>2007</th>\n      <td>Enchanted</td>\n      <td>Comedy</td>\n      <td>Disney</td>\n      <td>80.0</td>\n      <td>4.005737</td>\n      <td>93.0</td>\n      <td>340.487652</td>\n    </tr>\n    <tr>\n      <th>2007</th>\n      <td>Knocked Up</td>\n      <td>Comedy</td>\n      <td>Universal</td>\n      <td>83.0</td>\n      <td>6.636402</td>\n      <td>91.0</td>\n      <td>219.001261</td>\n    </tr>\n    <tr>\n      <th>2010</th>\n      <td>Tangled</td>\n      <td>Animation</td>\n      <td>Disney</td>\n      <td>88.0</td>\n      <td>1.365692</td>\n      <td>89.0</td>\n      <td>355.080000</td>\n    </tr>\n    <tr>\n      <th>...</th>\n      <td>...</td>\n      <td>...</td>\n      <td>...</td>\n      <td>...</td>\n      <td>...</td>\n      <td>...</td>\n      <td>...</td>\n    </tr>\n    <tr>\n      <th>2007</th>\n      <td>License to Wed</td>\n      <td>Comedy</td>\n      <td>Warner Bros.</td>\n      <td>55.0</td>\n      <td>1.980206</td>\n      <td>8.0</td>\n      <td>69.307224</td>\n    </tr>\n    <tr>\n      <th>2011</th>\n      <td>New Year's Eve</td>\n      <td>Romance</td>\n      <td>Warner Bros.</td>\n      <td>48.0</td>\n      <td>2.536429</td>\n      <td>8.0</td>\n      <td>142.040000</td>\n    </tr>\n    <tr>\n      <th>2011</th>\n      <td>Waiting For Forever</td>\n      <td>Romance</td>\n      <td>Independent</td>\n      <td>53.0</td>\n      <td>0.005000</td>\n      <td>6.0</td>\n      <td>0.025000</td>\n    </tr>\n    <tr>\n      <th>2007</th>\n      <td>Good Luck Chuck</td>\n      <td>Comedy</td>\n      <td>Lionsgate</td>\n      <td>61.0</td>\n      <td>2.367685</td>\n      <td>3.0</td>\n      <td>59.192128</td>\n    </tr>\n    <tr>\n      <th>2011</th>\n      <td>Something Borrowed</td>\n      <td>Romance</td>\n      <td>Independent</td>\n      <td>NaN</td>\n      <td>1.719514</td>\n      <td>NaN</td>\n      <td>60.183000</td>\n    </tr>\n  </tbody>\n</table>\n<p>74 rows × 7 columns</p>\n</div>"
     },
     "execution_count": 27,
     "metadata": {},
     "output_type": "execute_result"
    }
   ],
   "source": [
    "# 指定多列,越靠前优先级越高：\n",
    "datas.sort_values(by=['Rotten Tomatoes %','Audience  score %'], ascending=[False, False])"
   ],
   "metadata": {
    "collapsed": false,
    "pycharm": {
     "name": "#%%\n"
    }
   }
  },
  {
   "cell_type": "markdown",
   "source": [
    "# 字符串操作"
   ],
   "metadata": {
    "collapsed": false
   }
  },
  {
   "cell_type": "code",
   "execution_count": 28,
   "outputs": [
    {
     "data": {
      "text/plain": "<pandas.core.strings.StringMethods at 0x13b427e7da0>"
     },
     "execution_count": 28,
     "metadata": {},
     "output_type": "execute_result"
    }
   ],
   "source": [
    "datas['Lead Studio'].str"
   ],
   "metadata": {
    "collapsed": false,
    "pycharm": {
     "name": "#%%\n"
    }
   }
  },
  {
   "cell_type": "code",
   "execution_count": 39,
   "outputs": [],
   "source": [
    "# 对str使用startswith、contains等得到bool的Serise，可用作条件查询\n",
    "condiction = datas['Lead Studio'].str.startswith('Sony', na=False)"
   ],
   "metadata": {
    "collapsed": false,
    "pycharm": {
     "name": "#%%\n"
    }
   }
  },
  {
   "cell_type": "code",
   "execution_count": 40,
   "outputs": [
    {
     "data": {
      "text/plain": "Year\n2008    False\n2009    False\n2011    False\n2009    False\n2007    False\n        ...  \n2008    False\n2010    False\n2010    False\n2010    False\n2008    False\nName: Lead Studio, Length: 74, dtype: bool"
     },
     "execution_count": 40,
     "metadata": {},
     "output_type": "execute_result"
    }
   ],
   "source": [
    "condiction"
   ],
   "metadata": {
    "collapsed": false,
    "pycharm": {
     "name": "#%%\n"
    }
   }
  },
  {
   "cell_type": "code",
   "execution_count": 41,
   "outputs": [
    {
     "data": {
      "text/plain": "                                    Film    Genre Lead Studio  \\\nYear                                                            \n2010                           Dear John    Drama        Sony   \n2008                       Made of Honor   Comedy        Sony   \n2011                   Midnight in Paris  Romance        Sony   \n2008  Nick and Norah's Infinite Playlist   Comedy        Sony   \n\n      Audience  score %  Profitability  Rotten Tomatoes %  Worldwide Gross  \nYear                                                                        \n2010               66.0       4.598800               29.0       114.970000  \n2008               61.0       2.649068               13.0       105.962734  \n2011               84.0       8.744706               93.0       148.660000  \n2008               67.0       3.352729               73.0        33.527293  ",
      "text/html": "<div>\n<style scoped>\n    .dataframe tbody tr th:only-of-type {\n        vertical-align: middle;\n    }\n\n    .dataframe tbody tr th {\n        vertical-align: top;\n    }\n\n    .dataframe thead th {\n        text-align: right;\n    }\n</style>\n<table border=\"1\" class=\"dataframe\">\n  <thead>\n    <tr style=\"text-align: right;\">\n      <th></th>\n      <th>Film</th>\n      <th>Genre</th>\n      <th>Lead Studio</th>\n      <th>Audience  score %</th>\n      <th>Profitability</th>\n      <th>Rotten Tomatoes %</th>\n      <th>Worldwide Gross</th>\n    </tr>\n    <tr>\n      <th>Year</th>\n      <th></th>\n      <th></th>\n      <th></th>\n      <th></th>\n      <th></th>\n      <th></th>\n      <th></th>\n    </tr>\n  </thead>\n  <tbody>\n    <tr>\n      <th>2010</th>\n      <td>Dear John</td>\n      <td>Drama</td>\n      <td>Sony</td>\n      <td>66.0</td>\n      <td>4.598800</td>\n      <td>29.0</td>\n      <td>114.970000</td>\n    </tr>\n    <tr>\n      <th>2008</th>\n      <td>Made of Honor</td>\n      <td>Comedy</td>\n      <td>Sony</td>\n      <td>61.0</td>\n      <td>2.649068</td>\n      <td>13.0</td>\n      <td>105.962734</td>\n    </tr>\n    <tr>\n      <th>2011</th>\n      <td>Midnight in Paris</td>\n      <td>Romance</td>\n      <td>Sony</td>\n      <td>84.0</td>\n      <td>8.744706</td>\n      <td>93.0</td>\n      <td>148.660000</td>\n    </tr>\n    <tr>\n      <th>2008</th>\n      <td>Nick and Norah's Infinite Playlist</td>\n      <td>Comedy</td>\n      <td>Sony</td>\n      <td>67.0</td>\n      <td>3.352729</td>\n      <td>73.0</td>\n      <td>33.527293</td>\n    </tr>\n  </tbody>\n</table>\n</div>"
     },
     "execution_count": 41,
     "metadata": {},
     "output_type": "execute_result"
    }
   ],
   "source": [
    "datas[condiction].head()"
   ],
   "metadata": {
    "collapsed": false,
    "pycharm": {
     "name": "#%%\n"
    }
   }
  },
  {
   "cell_type": "markdown",
   "source": [
    "Apply方法："
   ],
   "metadata": {
    "collapsed": false
   }
  },
  {
   "cell_type": "code",
   "execution_count": 2,
   "outputs": [
    {
     "data": {
      "text/plain": "         #       Name    Type  Total   HP  Attack  Defense  Special Attack  \\\n#                                                                            \n 001   001  Bulbasaur   GRASS    318   45      49       49              65   \n 001   001  Bulbasaur  POISON    318   45      49       49              65   \n 002   002    Ivysaur   GRASS    405   60      62       63              80   \n 002   002    Ivysaur  POISON    405   60      62       63              80   \n 003   003   Venusaur   GRASS    525   80      82       83             100   \n...    ...        ...     ...    ...  ...     ...      ...             ...   \n 716   716    Xerneas   FAIRY    680  126     131       95             131   \n 717   717    Yveltal    DARK    680  126     131       95             131   \n 717   717    Yveltal  FLYING    680  126     131       95             131   \n 718   718    Zygarde  DRAGON    600  108     100      121              81   \n 718   718    Zygarde  GROUND    600  108     100      121              81   \n\n      Special Defense  Speed  \n#                             \n 001               65     45  \n 001               65     45  \n 002               80     60  \n 002               80     60  \n 003              100     80  \n...               ...    ...  \n 716               98     99  \n 717               98     99  \n 717               98     99  \n 718               95     95  \n 718               95     95  \n\n[1168 rows x 10 columns]",
      "text/html": "<div>\n<style scoped>\n    .dataframe tbody tr th:only-of-type {\n        vertical-align: middle;\n    }\n\n    .dataframe tbody tr th {\n        vertical-align: top;\n    }\n\n    .dataframe thead th {\n        text-align: right;\n    }\n</style>\n<table border=\"1\" class=\"dataframe\">\n  <thead>\n    <tr style=\"text-align: right;\">\n      <th></th>\n      <th>#</th>\n      <th>Name</th>\n      <th>Type</th>\n      <th>Total</th>\n      <th>HP</th>\n      <th>Attack</th>\n      <th>Defense</th>\n      <th>Special Attack</th>\n      <th>Special Defense</th>\n      <th>Speed</th>\n    </tr>\n    <tr>\n      <th>#</th>\n      <th></th>\n      <th></th>\n      <th></th>\n      <th></th>\n      <th></th>\n      <th></th>\n      <th></th>\n      <th></th>\n      <th></th>\n      <th></th>\n    </tr>\n  </thead>\n  <tbody>\n    <tr>\n      <th>001</th>\n      <td>001</td>\n      <td>Bulbasaur</td>\n      <td>GRASS</td>\n      <td>318</td>\n      <td>45</td>\n      <td>49</td>\n      <td>49</td>\n      <td>65</td>\n      <td>65</td>\n      <td>45</td>\n    </tr>\n    <tr>\n      <th>001</th>\n      <td>001</td>\n      <td>Bulbasaur</td>\n      <td>POISON</td>\n      <td>318</td>\n      <td>45</td>\n      <td>49</td>\n      <td>49</td>\n      <td>65</td>\n      <td>65</td>\n      <td>45</td>\n    </tr>\n    <tr>\n      <th>002</th>\n      <td>002</td>\n      <td>Ivysaur</td>\n      <td>GRASS</td>\n      <td>405</td>\n      <td>60</td>\n      <td>62</td>\n      <td>63</td>\n      <td>80</td>\n      <td>80</td>\n      <td>60</td>\n    </tr>\n    <tr>\n      <th>002</th>\n      <td>002</td>\n      <td>Ivysaur</td>\n      <td>POISON</td>\n      <td>405</td>\n      <td>60</td>\n      <td>62</td>\n      <td>63</td>\n      <td>80</td>\n      <td>80</td>\n      <td>60</td>\n    </tr>\n    <tr>\n      <th>003</th>\n      <td>003</td>\n      <td>Venusaur</td>\n      <td>GRASS</td>\n      <td>525</td>\n      <td>80</td>\n      <td>82</td>\n      <td>83</td>\n      <td>100</td>\n      <td>100</td>\n      <td>80</td>\n    </tr>\n    <tr>\n      <th>...</th>\n      <td>...</td>\n      <td>...</td>\n      <td>...</td>\n      <td>...</td>\n      <td>...</td>\n      <td>...</td>\n      <td>...</td>\n      <td>...</td>\n      <td>...</td>\n      <td>...</td>\n    </tr>\n    <tr>\n      <th>716</th>\n      <td>716</td>\n      <td>Xerneas</td>\n      <td>FAIRY</td>\n      <td>680</td>\n      <td>126</td>\n      <td>131</td>\n      <td>95</td>\n      <td>131</td>\n      <td>98</td>\n      <td>99</td>\n    </tr>\n    <tr>\n      <th>717</th>\n      <td>717</td>\n      <td>Yveltal</td>\n      <td>DARK</td>\n      <td>680</td>\n      <td>126</td>\n      <td>131</td>\n      <td>95</td>\n      <td>131</td>\n      <td>98</td>\n      <td>99</td>\n    </tr>\n    <tr>\n      <th>717</th>\n      <td>717</td>\n      <td>Yveltal</td>\n      <td>FLYING</td>\n      <td>680</td>\n      <td>126</td>\n      <td>131</td>\n      <td>95</td>\n      <td>131</td>\n      <td>98</td>\n      <td>99</td>\n    </tr>\n    <tr>\n      <th>718</th>\n      <td>718</td>\n      <td>Zygarde</td>\n      <td>DRAGON</td>\n      <td>600</td>\n      <td>108</td>\n      <td>100</td>\n      <td>121</td>\n      <td>81</td>\n      <td>95</td>\n      <td>95</td>\n    </tr>\n    <tr>\n      <th>718</th>\n      <td>718</td>\n      <td>Zygarde</td>\n      <td>GROUND</td>\n      <td>600</td>\n      <td>108</td>\n      <td>100</td>\n      <td>121</td>\n      <td>81</td>\n      <td>95</td>\n      <td>95</td>\n    </tr>\n  </tbody>\n</table>\n<p>1168 rows × 10 columns</p>\n</div>"
     },
     "execution_count": 2,
     "metadata": {},
     "output_type": "execute_result"
    }
   ],
   "source": [
    "pokemon = pd.read_excel('pokemon.xlsx')\n",
    "pokemon.set_index('#', inplace=True, drop=False)\n",
    "pokemon"
   ],
   "metadata": {
    "collapsed": false,
    "pycharm": {
     "name": "#%%\n"
    }
   }
  },
  {
   "cell_type": "code",
   "execution_count": 10,
   "outputs": [
    {
     "name": "stdout",
     "output_type": "stream",
     "text": [
      "<class 'pandas.core.frame.DataFrame'>\n",
      "Index: 1168 entries,  001 to  718\n",
      "Data columns (total 11 columns):\n",
      " #   Column           Non-Null Count  Dtype \n",
      "---  ------           --------------  ----- \n",
      " 0   #                1168 non-null   object\n",
      " 1   Name             1168 non-null   object\n",
      " 2   Type             1168 non-null   object\n",
      " 3   Total            1168 non-null   int64 \n",
      " 4   HP               1168 non-null   int64 \n",
      " 5   Attack           1168 non-null   int64 \n",
      " 6   Defense          1168 non-null   int64 \n",
      " 7   Special Attack   1168 non-null   int64 \n",
      " 8   Special Defense  1168 non-null   int64 \n",
      " 9   Speed            1168 non-null   int64 \n",
      " 10  攻击与特攻的差值         1168 non-null   int64 \n",
      "dtypes: int64(8), object(3)\n",
      "memory usage: 149.5+ KB\n"
     ]
    }
   ],
   "source": [
    "pokemon['攻击与特攻的差值'] = pokemon.apply(lambda x : x['Attack']-x['Special Attack'],axis = 1)\n",
    "pokemon.info()"
   ],
   "metadata": {
    "collapsed": false,
    "pycharm": {
     "name": "#%%\n"
    }
   }
  },
  {
   "cell_type": "markdown",
   "source": [
    "# 聚合操作"
   ],
   "metadata": {
    "collapsed": false
   }
  },
  {
   "cell_type": "code",
   "execution_count": 4,
   "outputs": [
    {
     "data": {
      "text/plain": "               Total         HP      Attack     Defense  Special Attack  \\\nType                                                                      \nBUG       377.197183  56.619718   70.380282   71.549296       53.830986   \nDARK      455.938776  70.346939   95.938776   69.653061       75.510204   \nDRAGON    522.454545  82.727273  102.568182   84.000000       91.295455   \nELECTRIC  446.607843  63.333333   69.627451   66.411765       89.862745   \nFAIRY     395.647059  69.441176   57.029412   63.970588       72.529412   \nFIGHTING  464.862745  74.882353  102.666667   73.254902       67.215686   \nFIRE      458.790323  70.080645   82.467742   67.112903       89.629032   \nFLYING    448.780000  70.830000   79.030000   67.310000       74.930000   \nGHOST     434.911111  62.755556   77.977778   80.888889       76.044444   \nGRASS     414.935484  66.075269   73.225806   72.892473       71.989247   \nGROUND    427.467742  75.145161   88.951613   83.241935       58.016129   \nICE       464.405405  78.594595   81.027027   76.567568       82.108108   \nNORMAL    398.370000  76.810000   72.400000   58.800000       56.030000   \nPOISON    394.950820  62.557377   68.836066   63.967213       68.590164   \nPSYCHIC   465.710843  70.819277   69.337349   71.795181       92.831325   \nROCK      441.607143  66.589286   89.142857  106.267857       57.910714   \nSTEEL     484.659574  64.638298   92.361702  116.361702       71.574468   \nWATER     422.221311  70.352459   71.680328   73.040984       72.967213   \n\n          Special Defense      Speed   攻击与特攻的差值  \nType                                             \nBUG             64.309859  60.507042  16.549296  \nDARK            67.387755  77.102041  20.428571  \nDRAGON          83.977273  77.886364  11.272727  \nELECTRIC        73.607843  83.764706 -20.235294  \nFAIRY           79.676471  53.000000 -15.500000  \nFIGHTING        72.117647  74.725490  35.450980  \nFIRE            73.016129  76.483871  -7.161290  \nFLYING          70.770000  85.910000   4.100000  \nGHOST           75.066667  62.177778   1.933333  \nGRASS           70.677419  60.075269   1.236559  \nGROUND          62.241935  59.870968  30.935484  \nICE             79.405405  66.702703  -1.081081  \nNORMAL          62.800000  71.530000  16.370000  \nPOISON          67.049180  63.950820   0.245902  \nPSYCHIC         84.373494  76.554217 -23.493976  \nROCK            71.625000  50.071429  31.232143  \nSTEEL           82.021277  57.702128  20.787234  \nWATER           69.418033  64.762295  -1.286885  ",
      "text/html": "<div>\n<style scoped>\n    .dataframe tbody tr th:only-of-type {\n        vertical-align: middle;\n    }\n\n    .dataframe tbody tr th {\n        vertical-align: top;\n    }\n\n    .dataframe thead th {\n        text-align: right;\n    }\n</style>\n<table border=\"1\" class=\"dataframe\">\n  <thead>\n    <tr style=\"text-align: right;\">\n      <th></th>\n      <th>Total</th>\n      <th>HP</th>\n      <th>Attack</th>\n      <th>Defense</th>\n      <th>Special Attack</th>\n      <th>Special Defense</th>\n      <th>Speed</th>\n      <th>攻击与特攻的差值</th>\n    </tr>\n    <tr>\n      <th>Type</th>\n      <th></th>\n      <th></th>\n      <th></th>\n      <th></th>\n      <th></th>\n      <th></th>\n      <th></th>\n      <th></th>\n    </tr>\n  </thead>\n  <tbody>\n    <tr>\n      <th>BUG</th>\n      <td>377.197183</td>\n      <td>56.619718</td>\n      <td>70.380282</td>\n      <td>71.549296</td>\n      <td>53.830986</td>\n      <td>64.309859</td>\n      <td>60.507042</td>\n      <td>16.549296</td>\n    </tr>\n    <tr>\n      <th>DARK</th>\n      <td>455.938776</td>\n      <td>70.346939</td>\n      <td>95.938776</td>\n      <td>69.653061</td>\n      <td>75.510204</td>\n      <td>67.387755</td>\n      <td>77.102041</td>\n      <td>20.428571</td>\n    </tr>\n    <tr>\n      <th>DRAGON</th>\n      <td>522.454545</td>\n      <td>82.727273</td>\n      <td>102.568182</td>\n      <td>84.000000</td>\n      <td>91.295455</td>\n      <td>83.977273</td>\n      <td>77.886364</td>\n      <td>11.272727</td>\n    </tr>\n    <tr>\n      <th>ELECTRIC</th>\n      <td>446.607843</td>\n      <td>63.333333</td>\n      <td>69.627451</td>\n      <td>66.411765</td>\n      <td>89.862745</td>\n      <td>73.607843</td>\n      <td>83.764706</td>\n      <td>-20.235294</td>\n    </tr>\n    <tr>\n      <th>FAIRY</th>\n      <td>395.647059</td>\n      <td>69.441176</td>\n      <td>57.029412</td>\n      <td>63.970588</td>\n      <td>72.529412</td>\n      <td>79.676471</td>\n      <td>53.000000</td>\n      <td>-15.500000</td>\n    </tr>\n    <tr>\n      <th>FIGHTING</th>\n      <td>464.862745</td>\n      <td>74.882353</td>\n      <td>102.666667</td>\n      <td>73.254902</td>\n      <td>67.215686</td>\n      <td>72.117647</td>\n      <td>74.725490</td>\n      <td>35.450980</td>\n    </tr>\n    <tr>\n      <th>FIRE</th>\n      <td>458.790323</td>\n      <td>70.080645</td>\n      <td>82.467742</td>\n      <td>67.112903</td>\n      <td>89.629032</td>\n      <td>73.016129</td>\n      <td>76.483871</td>\n      <td>-7.161290</td>\n    </tr>\n    <tr>\n      <th>FLYING</th>\n      <td>448.780000</td>\n      <td>70.830000</td>\n      <td>79.030000</td>\n      <td>67.310000</td>\n      <td>74.930000</td>\n      <td>70.770000</td>\n      <td>85.910000</td>\n      <td>4.100000</td>\n    </tr>\n    <tr>\n      <th>GHOST</th>\n      <td>434.911111</td>\n      <td>62.755556</td>\n      <td>77.977778</td>\n      <td>80.888889</td>\n      <td>76.044444</td>\n      <td>75.066667</td>\n      <td>62.177778</td>\n      <td>1.933333</td>\n    </tr>\n    <tr>\n      <th>GRASS</th>\n      <td>414.935484</td>\n      <td>66.075269</td>\n      <td>73.225806</td>\n      <td>72.892473</td>\n      <td>71.989247</td>\n      <td>70.677419</td>\n      <td>60.075269</td>\n      <td>1.236559</td>\n    </tr>\n    <tr>\n      <th>GROUND</th>\n      <td>427.467742</td>\n      <td>75.145161</td>\n      <td>88.951613</td>\n      <td>83.241935</td>\n      <td>58.016129</td>\n      <td>62.241935</td>\n      <td>59.870968</td>\n      <td>30.935484</td>\n    </tr>\n    <tr>\n      <th>ICE</th>\n      <td>464.405405</td>\n      <td>78.594595</td>\n      <td>81.027027</td>\n      <td>76.567568</td>\n      <td>82.108108</td>\n      <td>79.405405</td>\n      <td>66.702703</td>\n      <td>-1.081081</td>\n    </tr>\n    <tr>\n      <th>NORMAL</th>\n      <td>398.370000</td>\n      <td>76.810000</td>\n      <td>72.400000</td>\n      <td>58.800000</td>\n      <td>56.030000</td>\n      <td>62.800000</td>\n      <td>71.530000</td>\n      <td>16.370000</td>\n    </tr>\n    <tr>\n      <th>POISON</th>\n      <td>394.950820</td>\n      <td>62.557377</td>\n      <td>68.836066</td>\n      <td>63.967213</td>\n      <td>68.590164</td>\n      <td>67.049180</td>\n      <td>63.950820</td>\n      <td>0.245902</td>\n    </tr>\n    <tr>\n      <th>PSYCHIC</th>\n      <td>465.710843</td>\n      <td>70.819277</td>\n      <td>69.337349</td>\n      <td>71.795181</td>\n      <td>92.831325</td>\n      <td>84.373494</td>\n      <td>76.554217</td>\n      <td>-23.493976</td>\n    </tr>\n    <tr>\n      <th>ROCK</th>\n      <td>441.607143</td>\n      <td>66.589286</td>\n      <td>89.142857</td>\n      <td>106.267857</td>\n      <td>57.910714</td>\n      <td>71.625000</td>\n      <td>50.071429</td>\n      <td>31.232143</td>\n    </tr>\n    <tr>\n      <th>STEEL</th>\n      <td>484.659574</td>\n      <td>64.638298</td>\n      <td>92.361702</td>\n      <td>116.361702</td>\n      <td>71.574468</td>\n      <td>82.021277</td>\n      <td>57.702128</td>\n      <td>20.787234</td>\n    </tr>\n    <tr>\n      <th>WATER</th>\n      <td>422.221311</td>\n      <td>70.352459</td>\n      <td>71.680328</td>\n      <td>73.040984</td>\n      <td>72.967213</td>\n      <td>69.418033</td>\n      <td>64.762295</td>\n      <td>-1.286885</td>\n    </tr>\n  </tbody>\n</table>\n</div>"
     },
     "execution_count": 4,
     "metadata": {},
     "output_type": "execute_result"
    }
   ],
   "source": [
    "# 单列聚合\n",
    "pokemon.groupby(['Type']).mean()"
   ],
   "metadata": {
    "collapsed": false,
    "pycharm": {
     "name": "#%%\n"
    }
   }
  },
  {
   "cell_type": "code",
   "execution_count": 5,
   "outputs": [
    {
     "data": {
      "text/plain": "          Total                                 HP                             \\\n            sum        mean         std size   sum       mean        std size   \nType                                                                            \nBUG       26781  377.197183  116.040463   71  4020  56.619718  16.394569   71   \nDARK      22341  455.938776  110.911641   49  3447  70.346939  20.440514   49   \nDRAGON    22988  522.454545  140.238245   44  3640  82.727273  27.005911   44   \nELECTRIC  22777  446.607843  108.346865   51  3230  63.333333  20.525756   51   \nFAIRY     13452  395.647059  126.217677   34  2361  69.441176  27.731605   34   \nFIGHTING  23708  464.862745  113.101197   51  3819  74.882353  22.379139   51   \nFIRE      28445  458.790323  111.549612   62  4345  70.080645  19.939497   62   \nFLYING    44878  448.780000  117.756432  100  7083  70.830000  21.213230  100   \nGHOST     19571  434.911111  105.938409   45  2824  62.755556  29.349892   45   \nGRASS     38589  414.935484  101.490394   93  6145  66.075269  19.050982   93   \nGROUND    26503  427.467742  110.858456   62  4659  75.145161  25.044123   62   \nICE       17183  464.405405  116.910094   37  2908  78.594595  26.636920   37   \nNORMAL    39837  398.370000  113.361374  100  7681  76.810000  36.083432  100   \nPOISON    24092  394.950820   98.808304   61  3816  62.557377  18.934558   61   \nPSYCHIC   38654  465.710843  132.285218   83  5878  70.819277  26.428987   83   \nROCK      24730  441.607143   94.436256   56  3729  66.589286  22.035324   56   \nSTEEL     22779  484.659574  101.401543   47  3038  64.638298  17.324807   47   \nWATER     51511  422.221311  106.344949  122  8583  70.352459  27.193194  122   \n\n         Attack              ... Special Defense      Speed             \\\n            sum        mean  ...             std size   sum       mean   \nType                         ...                                         \nBUG        4997   70.380282  ...       31.685324   71  4296  60.507042   \nDARK       4701   95.938776  ...       25.886625   49  3778  77.102041   \nDRAGON     4513  102.568182  ...       28.174282   44  3427  77.886364   \nELECTRIC   3551   69.627451  ...       22.350909   51  4272  83.764706   \nFAIRY      1939   57.029412  ...       34.421382   34  1802  53.000000   \nFIGHTING   5236  102.666667  ...       23.553893   51  3811  74.725490   \nFIRE       5113   82.467742  ...       22.985735   62  4742  76.483871   \nFLYING     7903   79.030000  ...       26.834643  100  8591  85.910000   \nGHOST      3509   77.977778  ...       27.520571   45  2798  62.177778   \nGRASS      6810   73.225806  ...       20.477539   93  5587  60.075269   \nGROUND     5515   88.951613  ...       20.428753   62  3712  59.870968   \nICE        2998   81.027027  ...       31.930880   37  2468  66.702703   \nNORMAL     7240   72.400000  ...       24.391587  100  7153  71.530000   \nPOISON     4199   68.836066  ...       23.101534   61  3901  63.950820   \nPSYCHIC    5755   69.337349  ...       28.692529   83  6354  76.554217   \nROCK       4992   89.142857  ...       35.557668   56  2804  50.071429   \nSTEEL      4341   92.361702  ...       28.356802   47  2712  57.702128   \nWATER      8745   71.680328  ...       26.674295  122  7901  64.762295   \n\n                         攻击与特攻的差值                             \n                std size      sum       mean        std size  \nType                                                          \nBUG       31.282982   71     1175  16.549296  36.053052   71  \nDARK      24.281547   49     1001  20.428571  29.037332   49  \nDRAGON    22.881104   44      496  11.272727  34.609693   44  \nELECTRIC  27.232031   51    -1032 -20.235294  26.803424   51  \nFAIRY     25.580532   34     -527 -15.500000  31.064205   34  \nFIGHTING  26.754498   51     1808  35.450980  36.535087   51  \nFIRE      24.663467   62     -444  -7.161290  37.396938   62  \nFLYING    24.158607  100      410   4.100000  30.728035  100  \nGHOST     26.805095   45       87   1.933333  43.457607   45  \nGRASS     26.117309   93      115   1.236559  23.610700   93  \nGROUND    25.081169   62     1918  30.935484  23.934248   62  \nICE       25.889578   37      -40  -1.081081  36.762283   37  \nNORMAL    27.385558  100     1637  16.370000  29.290484  100  \nPOISON    25.063537   61       15   0.245902  28.529316   61  \nPSYCHIC   36.250905   83    -1950 -23.493976  34.864677   83  \nROCK      27.484116   56     1749  31.232143  35.691604   56  \nSTEEL     26.703619   47      977  20.787234  38.018266   47  \nWATER     22.428971  122     -157  -1.286885  27.274691  122  \n\n[18 rows x 32 columns]",
      "text/html": "<div>\n<style scoped>\n    .dataframe tbody tr th:only-of-type {\n        vertical-align: middle;\n    }\n\n    .dataframe tbody tr th {\n        vertical-align: top;\n    }\n\n    .dataframe thead tr th {\n        text-align: left;\n    }\n\n    .dataframe thead tr:last-of-type th {\n        text-align: right;\n    }\n</style>\n<table border=\"1\" class=\"dataframe\">\n  <thead>\n    <tr>\n      <th></th>\n      <th colspan=\"4\" halign=\"left\">Total</th>\n      <th colspan=\"4\" halign=\"left\">HP</th>\n      <th colspan=\"2\" halign=\"left\">Attack</th>\n      <th>...</th>\n      <th colspan=\"2\" halign=\"left\">Special Defense</th>\n      <th colspan=\"4\" halign=\"left\">Speed</th>\n      <th colspan=\"4\" halign=\"left\">攻击与特攻的差值</th>\n    </tr>\n    <tr>\n      <th></th>\n      <th>sum</th>\n      <th>mean</th>\n      <th>std</th>\n      <th>size</th>\n      <th>sum</th>\n      <th>mean</th>\n      <th>std</th>\n      <th>size</th>\n      <th>sum</th>\n      <th>mean</th>\n      <th>...</th>\n      <th>std</th>\n      <th>size</th>\n      <th>sum</th>\n      <th>mean</th>\n      <th>std</th>\n      <th>size</th>\n      <th>sum</th>\n      <th>mean</th>\n      <th>std</th>\n      <th>size</th>\n    </tr>\n    <tr>\n      <th>Type</th>\n      <th></th>\n      <th></th>\n      <th></th>\n      <th></th>\n      <th></th>\n      <th></th>\n      <th></th>\n      <th></th>\n      <th></th>\n      <th></th>\n      <th></th>\n      <th></th>\n      <th></th>\n      <th></th>\n      <th></th>\n      <th></th>\n      <th></th>\n      <th></th>\n      <th></th>\n      <th></th>\n      <th></th>\n    </tr>\n  </thead>\n  <tbody>\n    <tr>\n      <th>BUG</th>\n      <td>26781</td>\n      <td>377.197183</td>\n      <td>116.040463</td>\n      <td>71</td>\n      <td>4020</td>\n      <td>56.619718</td>\n      <td>16.394569</td>\n      <td>71</td>\n      <td>4997</td>\n      <td>70.380282</td>\n      <td>...</td>\n      <td>31.685324</td>\n      <td>71</td>\n      <td>4296</td>\n      <td>60.507042</td>\n      <td>31.282982</td>\n      <td>71</td>\n      <td>1175</td>\n      <td>16.549296</td>\n      <td>36.053052</td>\n      <td>71</td>\n    </tr>\n    <tr>\n      <th>DARK</th>\n      <td>22341</td>\n      <td>455.938776</td>\n      <td>110.911641</td>\n      <td>49</td>\n      <td>3447</td>\n      <td>70.346939</td>\n      <td>20.440514</td>\n      <td>49</td>\n      <td>4701</td>\n      <td>95.938776</td>\n      <td>...</td>\n      <td>25.886625</td>\n      <td>49</td>\n      <td>3778</td>\n      <td>77.102041</td>\n      <td>24.281547</td>\n      <td>49</td>\n      <td>1001</td>\n      <td>20.428571</td>\n      <td>29.037332</td>\n      <td>49</td>\n    </tr>\n    <tr>\n      <th>DRAGON</th>\n      <td>22988</td>\n      <td>522.454545</td>\n      <td>140.238245</td>\n      <td>44</td>\n      <td>3640</td>\n      <td>82.727273</td>\n      <td>27.005911</td>\n      <td>44</td>\n      <td>4513</td>\n      <td>102.568182</td>\n      <td>...</td>\n      <td>28.174282</td>\n      <td>44</td>\n      <td>3427</td>\n      <td>77.886364</td>\n      <td>22.881104</td>\n      <td>44</td>\n      <td>496</td>\n      <td>11.272727</td>\n      <td>34.609693</td>\n      <td>44</td>\n    </tr>\n    <tr>\n      <th>ELECTRIC</th>\n      <td>22777</td>\n      <td>446.607843</td>\n      <td>108.346865</td>\n      <td>51</td>\n      <td>3230</td>\n      <td>63.333333</td>\n      <td>20.525756</td>\n      <td>51</td>\n      <td>3551</td>\n      <td>69.627451</td>\n      <td>...</td>\n      <td>22.350909</td>\n      <td>51</td>\n      <td>4272</td>\n      <td>83.764706</td>\n      <td>27.232031</td>\n      <td>51</td>\n      <td>-1032</td>\n      <td>-20.235294</td>\n      <td>26.803424</td>\n      <td>51</td>\n    </tr>\n    <tr>\n      <th>FAIRY</th>\n      <td>13452</td>\n      <td>395.647059</td>\n      <td>126.217677</td>\n      <td>34</td>\n      <td>2361</td>\n      <td>69.441176</td>\n      <td>27.731605</td>\n      <td>34</td>\n      <td>1939</td>\n      <td>57.029412</td>\n      <td>...</td>\n      <td>34.421382</td>\n      <td>34</td>\n      <td>1802</td>\n      <td>53.000000</td>\n      <td>25.580532</td>\n      <td>34</td>\n      <td>-527</td>\n      <td>-15.500000</td>\n      <td>31.064205</td>\n      <td>34</td>\n    </tr>\n    <tr>\n      <th>FIGHTING</th>\n      <td>23708</td>\n      <td>464.862745</td>\n      <td>113.101197</td>\n      <td>51</td>\n      <td>3819</td>\n      <td>74.882353</td>\n      <td>22.379139</td>\n      <td>51</td>\n      <td>5236</td>\n      <td>102.666667</td>\n      <td>...</td>\n      <td>23.553893</td>\n      <td>51</td>\n      <td>3811</td>\n      <td>74.725490</td>\n      <td>26.754498</td>\n      <td>51</td>\n      <td>1808</td>\n      <td>35.450980</td>\n      <td>36.535087</td>\n      <td>51</td>\n    </tr>\n    <tr>\n      <th>FIRE</th>\n      <td>28445</td>\n      <td>458.790323</td>\n      <td>111.549612</td>\n      <td>62</td>\n      <td>4345</td>\n      <td>70.080645</td>\n      <td>19.939497</td>\n      <td>62</td>\n      <td>5113</td>\n      <td>82.467742</td>\n      <td>...</td>\n      <td>22.985735</td>\n      <td>62</td>\n      <td>4742</td>\n      <td>76.483871</td>\n      <td>24.663467</td>\n      <td>62</td>\n      <td>-444</td>\n      <td>-7.161290</td>\n      <td>37.396938</td>\n      <td>62</td>\n    </tr>\n    <tr>\n      <th>FLYING</th>\n      <td>44878</td>\n      <td>448.780000</td>\n      <td>117.756432</td>\n      <td>100</td>\n      <td>7083</td>\n      <td>70.830000</td>\n      <td>21.213230</td>\n      <td>100</td>\n      <td>7903</td>\n      <td>79.030000</td>\n      <td>...</td>\n      <td>26.834643</td>\n      <td>100</td>\n      <td>8591</td>\n      <td>85.910000</td>\n      <td>24.158607</td>\n      <td>100</td>\n      <td>410</td>\n      <td>4.100000</td>\n      <td>30.728035</td>\n      <td>100</td>\n    </tr>\n    <tr>\n      <th>GHOST</th>\n      <td>19571</td>\n      <td>434.911111</td>\n      <td>105.938409</td>\n      <td>45</td>\n      <td>2824</td>\n      <td>62.755556</td>\n      <td>29.349892</td>\n      <td>45</td>\n      <td>3509</td>\n      <td>77.977778</td>\n      <td>...</td>\n      <td>27.520571</td>\n      <td>45</td>\n      <td>2798</td>\n      <td>62.177778</td>\n      <td>26.805095</td>\n      <td>45</td>\n      <td>87</td>\n      <td>1.933333</td>\n      <td>43.457607</td>\n      <td>45</td>\n    </tr>\n    <tr>\n      <th>GRASS</th>\n      <td>38589</td>\n      <td>414.935484</td>\n      <td>101.490394</td>\n      <td>93</td>\n      <td>6145</td>\n      <td>66.075269</td>\n      <td>19.050982</td>\n      <td>93</td>\n      <td>6810</td>\n      <td>73.225806</td>\n      <td>...</td>\n      <td>20.477539</td>\n      <td>93</td>\n      <td>5587</td>\n      <td>60.075269</td>\n      <td>26.117309</td>\n      <td>93</td>\n      <td>115</td>\n      <td>1.236559</td>\n      <td>23.610700</td>\n      <td>93</td>\n    </tr>\n    <tr>\n      <th>GROUND</th>\n      <td>26503</td>\n      <td>427.467742</td>\n      <td>110.858456</td>\n      <td>62</td>\n      <td>4659</td>\n      <td>75.145161</td>\n      <td>25.044123</td>\n      <td>62</td>\n      <td>5515</td>\n      <td>88.951613</td>\n      <td>...</td>\n      <td>20.428753</td>\n      <td>62</td>\n      <td>3712</td>\n      <td>59.870968</td>\n      <td>25.081169</td>\n      <td>62</td>\n      <td>1918</td>\n      <td>30.935484</td>\n      <td>23.934248</td>\n      <td>62</td>\n    </tr>\n    <tr>\n      <th>ICE</th>\n      <td>17183</td>\n      <td>464.405405</td>\n      <td>116.910094</td>\n      <td>37</td>\n      <td>2908</td>\n      <td>78.594595</td>\n      <td>26.636920</td>\n      <td>37</td>\n      <td>2998</td>\n      <td>81.027027</td>\n      <td>...</td>\n      <td>31.930880</td>\n      <td>37</td>\n      <td>2468</td>\n      <td>66.702703</td>\n      <td>25.889578</td>\n      <td>37</td>\n      <td>-40</td>\n      <td>-1.081081</td>\n      <td>36.762283</td>\n      <td>37</td>\n    </tr>\n    <tr>\n      <th>NORMAL</th>\n      <td>39837</td>\n      <td>398.370000</td>\n      <td>113.361374</td>\n      <td>100</td>\n      <td>7681</td>\n      <td>76.810000</td>\n      <td>36.083432</td>\n      <td>100</td>\n      <td>7240</td>\n      <td>72.400000</td>\n      <td>...</td>\n      <td>24.391587</td>\n      <td>100</td>\n      <td>7153</td>\n      <td>71.530000</td>\n      <td>27.385558</td>\n      <td>100</td>\n      <td>1637</td>\n      <td>16.370000</td>\n      <td>29.290484</td>\n      <td>100</td>\n    </tr>\n    <tr>\n      <th>POISON</th>\n      <td>24092</td>\n      <td>394.950820</td>\n      <td>98.808304</td>\n      <td>61</td>\n      <td>3816</td>\n      <td>62.557377</td>\n      <td>18.934558</td>\n      <td>61</td>\n      <td>4199</td>\n      <td>68.836066</td>\n      <td>...</td>\n      <td>23.101534</td>\n      <td>61</td>\n      <td>3901</td>\n      <td>63.950820</td>\n      <td>25.063537</td>\n      <td>61</td>\n      <td>15</td>\n      <td>0.245902</td>\n      <td>28.529316</td>\n      <td>61</td>\n    </tr>\n    <tr>\n      <th>PSYCHIC</th>\n      <td>38654</td>\n      <td>465.710843</td>\n      <td>132.285218</td>\n      <td>83</td>\n      <td>5878</td>\n      <td>70.819277</td>\n      <td>26.428987</td>\n      <td>83</td>\n      <td>5755</td>\n      <td>69.337349</td>\n      <td>...</td>\n      <td>28.692529</td>\n      <td>83</td>\n      <td>6354</td>\n      <td>76.554217</td>\n      <td>36.250905</td>\n      <td>83</td>\n      <td>-1950</td>\n      <td>-23.493976</td>\n      <td>34.864677</td>\n      <td>83</td>\n    </tr>\n    <tr>\n      <th>ROCK</th>\n      <td>24730</td>\n      <td>441.607143</td>\n      <td>94.436256</td>\n      <td>56</td>\n      <td>3729</td>\n      <td>66.589286</td>\n      <td>22.035324</td>\n      <td>56</td>\n      <td>4992</td>\n      <td>89.142857</td>\n      <td>...</td>\n      <td>35.557668</td>\n      <td>56</td>\n      <td>2804</td>\n      <td>50.071429</td>\n      <td>27.484116</td>\n      <td>56</td>\n      <td>1749</td>\n      <td>31.232143</td>\n      <td>35.691604</td>\n      <td>56</td>\n    </tr>\n    <tr>\n      <th>STEEL</th>\n      <td>22779</td>\n      <td>484.659574</td>\n      <td>101.401543</td>\n      <td>47</td>\n      <td>3038</td>\n      <td>64.638298</td>\n      <td>17.324807</td>\n      <td>47</td>\n      <td>4341</td>\n      <td>92.361702</td>\n      <td>...</td>\n      <td>28.356802</td>\n      <td>47</td>\n      <td>2712</td>\n      <td>57.702128</td>\n      <td>26.703619</td>\n      <td>47</td>\n      <td>977</td>\n      <td>20.787234</td>\n      <td>38.018266</td>\n      <td>47</td>\n    </tr>\n    <tr>\n      <th>WATER</th>\n      <td>51511</td>\n      <td>422.221311</td>\n      <td>106.344949</td>\n      <td>122</td>\n      <td>8583</td>\n      <td>70.352459</td>\n      <td>27.193194</td>\n      <td>122</td>\n      <td>8745</td>\n      <td>71.680328</td>\n      <td>...</td>\n      <td>26.674295</td>\n      <td>122</td>\n      <td>7901</td>\n      <td>64.762295</td>\n      <td>22.428971</td>\n      <td>122</td>\n      <td>-157</td>\n      <td>-1.286885</td>\n      <td>27.274691</td>\n      <td>122</td>\n    </tr>\n  </tbody>\n</table>\n<p>18 rows × 32 columns</p>\n</div>"
     },
     "execution_count": 5,
     "metadata": {},
     "output_type": "execute_result"
    }
   ],
   "source": [
    "pokemon.groupby(['Type']).agg([np.sum, np.mean, np.std, np.size])"
   ],
   "metadata": {
    "collapsed": false,
    "pycharm": {
     "name": "#%%\n"
    }
   }
  },
  {
   "cell_type": "code",
   "execution_count": 6,
   "outputs": [
    {
     "name": "stdout",
     "output_type": "stream",
     "text": [
      "BUG\n",
      "         #        Name Type  Total  HP  Attack  Defense  Special Attack  \\\n",
      "#                                                                         \n",
      " 010   010    Caterpie  BUG    195  45      30       35              20   \n",
      " 011   011     Metapod  BUG    205  50      20       55              25   \n",
      " 012   012  Butterfree  BUG    385  60      45       50              80   \n",
      " 013   013      Weedle  BUG    195  40      35       30              20   \n",
      " 014   014      Kakuna  BUG    205  45      25       50              25   \n",
      "...    ...         ...  ...    ...  ..     ...      ...             ...   \n",
      " 637   637   Volcarona  BUG    550  85      60       65             135   \n",
      " 649   649    Genesect  BUG    600  71     120       95             120   \n",
      " 664   664  Scatterbug  BUG    200  38      35       40              27   \n",
      " 665   665      Spewpa  BUG    213  45      22       60              27   \n",
      " 666   666    Vivillon  BUG    411  80      52       50              90   \n",
      "\n",
      "      Special Defense  Speed  攻击与特攻的差值  \n",
      "#                                       \n",
      " 010               20     45        10  \n",
      " 011               25     30        -5  \n",
      " 012               80     70       -35  \n",
      " 013               20     50        15  \n",
      " 014               25     35         0  \n",
      "...               ...    ...       ...  \n",
      " 637              105    100       -75  \n",
      " 649               95     99         0  \n",
      " 664               25     35         8  \n",
      " 665               30     29        -5  \n",
      " 666               50     89       -38  \n",
      "\n",
      "[71 rows x 11 columns]\n",
      "\n",
      "DARK\n",
      "             #            Name  Type  Total   HP  Attack  Defense  \\\n",
      "#                                                                   \n",
      " 130.1   130.1   Mega Gyarados  DARK    640   95     155      109   \n",
      " 197       197         Umbreon  DARK    525   95      65      110   \n",
      " 198       198         Murkrow  DARK    405   60      85       42   \n",
      " 215       215         Sneasel  DARK    430   55      95       55   \n",
      " 228       228        Houndour  DARK    330   45      60       30   \n",
      " 229       229        Houndoom  DARK    500   75      90       50   \n",
      " 229.1   229.1   Mega Houndoom  DARK    600   75      90       90   \n",
      " 248       248       Tyranitar  DARK    600  100     134      110   \n",
      " 248.1   248.1  Mega Tyranitar  DARK    700  100     164      150   \n",
      " 261       261       Poochyena  DARK    220   35      55       35   \n",
      " 262       262       Mightyena  DARK    420   70      90       70   \n",
      " 274       274         Nuzleaf  DARK    340   70      70       40   \n",
      " 275       275         Shiftry  DARK    480   90     100       60   \n",
      " 302       302         Sableye  DARK    380   50      75       75   \n",
      " 318       318        Carvanha  DARK    305   45      90       20   \n",
      " 319       319        Sharpedo  DARK    460   70     120       40   \n",
      " 332       332        Cacturne  DARK    475   70     115       60   \n",
      " 342       342       Crawdaunt  DARK    468   63     120       85   \n",
      " 359       359           Absol  DARK    465   65     130       60   \n",
      " 359.1   359.1      Mega Absol  DARK    565   65     150       60   \n",
      " 359.1   359.1      Mega Absol  DARK    565   65     150       60   \n",
      " 430       430       Honchkrow  DARK    505  100     125       52   \n",
      " 434       434          Stunky  DARK    329   63      63       47   \n",
      " 435       435        Skuntank  DARK    479  103      93       67   \n",
      " 442       442       Spiritomb  DARK    485   50      92      108   \n",
      " 452       452         Drapion  DARK    500   70      90      110   \n",
      " 461       461         Weavile  DARK    510   70     120       65   \n",
      " 491       491         Darkrai  DARK    600   70      90       90   \n",
      " 509       509        Purrloin  DARK    281   41      50       37   \n",
      " 510       510         Liepard  DARK    446   64      88       50   \n",
      " 551       551         Sandile  DARK    292   50      72       35   \n",
      " 552       552        Krokorok  DARK    351   60      82       45   \n",
      " 553       553      Krookodile  DARK    509   95     117       70   \n",
      " 559       559         Scraggy  DARK    348   50      75       70   \n",
      " 560       560         Scrafty  DARK    488   65      90      115   \n",
      " 570       570           Zorua  DARK    330   40      65       40   \n",
      " 571       571         Zoroark  DARK    510   60     105       60   \n",
      " 624       624        Pawniard  DARK    340   45      85       70   \n",
      " 625       625         Bisharp  DARK    490   65     125      100   \n",
      " 629       629         Vullaby  DARK    370   70      55       75   \n",
      " 630       630       Mandibuzz  DARK    510  110      65      105   \n",
      " 633       633           Deino  DARK    300   52      65       50   \n",
      " 634       634        Zweilous  DARK    420   72      85       70   \n",
      " 635       635       Hydreigon  DARK    600   92     105       90   \n",
      " 658       658        Greninja  DARK    530   72      95       67   \n",
      " 675       675         Pangoro  DARK    495   95     124       78   \n",
      " 686       686           Inkay  DARK    288   53      54       53   \n",
      " 687       687         Malamar  DARK    482   86      92       88   \n",
      " 717       717         Yveltal  DARK    680  126     131       95   \n",
      "\n",
      "        Special Attack  Special Defense  Speed  攻击与特攻的差值  \n",
      "#                                                         \n",
      " 130.1              70              130     81        85  \n",
      " 197                60              130     65         5  \n",
      " 198                85               42     91         0  \n",
      " 215                35               75    115        60  \n",
      " 228                80               50     65       -20  \n",
      " 229               110               80     95       -20  \n",
      " 229.1             140               90    115       -50  \n",
      " 248                95              100     61        39  \n",
      " 248.1              95              120     71        69  \n",
      " 261                30               30     35        25  \n",
      " 262                60               60     70        30  \n",
      " 274                60               40     60        10  \n",
      " 275                90               60     80        10  \n",
      " 302                65               65     50        10  \n",
      " 318                65               20     65        25  \n",
      " 319                95               40     95        25  \n",
      " 332               115               60     55         0  \n",
      " 342                90               55     55        30  \n",
      " 359                75               60     75        55  \n",
      " 359.1             115               60    115        35  \n",
      " 359.1             115               60    115        35  \n",
      " 430               105               52     71        20  \n",
      " 434                41               41     74        22  \n",
      " 435                71               61     84        22  \n",
      " 442                92              108     35         0  \n",
      " 452                60               75     95        30  \n",
      " 461                45               85    125        75  \n",
      " 491               135               90    125       -45  \n",
      " 509                50               37     66         0  \n",
      " 510                88               50    106         0  \n",
      " 551                35               35     65        37  \n",
      " 552                45               45     74        37  \n",
      " 553                65               70     92        52  \n",
      " 559                35               70     48        40  \n",
      " 560                45              115     58        45  \n",
      " 570                80               40     65       -15  \n",
      " 571               120               60    105       -15  \n",
      " 624                40               40     60        45  \n",
      " 625                60               70     70        65  \n",
      " 629                45               65     60        10  \n",
      " 630                55               95     80        10  \n",
      " 633                45               50     38        20  \n",
      " 634                65               70     58        20  \n",
      " 635               125               90     98       -20  \n",
      " 658               103               71    122        -8  \n",
      " 675                69               71     58        55  \n",
      " 686                37               46     45        17  \n",
      " 687                68               75     73        24  \n",
      " 717               131               98     99         0  \n",
      "\n",
      "DRAGON\n",
      "             #                     Name    Type  Total   HP  Attack  Defense  \\\n",
      "#                                                                              \n",
      " 006.1   006.1         Mega Charizard X  DRAGON    634   78     130      111   \n",
      " 147       147                  Dratini  DRAGON    300   41      64       45   \n",
      " 148       148                Dragonair  DRAGON    420   61      84       65   \n",
      " 149       149                Dragonite  DRAGON    600   91     134       95   \n",
      " 181.1   181.1            Mega Ampharos  DRAGON    610   90      95      105   \n",
      " 230       230                  Kingdra  DRAGON    540   75      95       95   \n",
      " 329       329                  Vibrava  DRAGON    340   50      70       50   \n",
      " 330       330                   Flygon  DRAGON    520   80     100       80   \n",
      " 334       334                  Altaria  DRAGON    490   75      70       90   \n",
      " 371       371                    Bagon  DRAGON    300   45      75       60   \n",
      " 372       372                  Shelgon  DRAGON    420   65      95      100   \n",
      " 373       373                Salamence  DRAGON    600   95     135       80   \n",
      " 380       380                   Latias  DRAGON    600   80      80       90   \n",
      " 381       381                   Latios  DRAGON    600   80      90       80   \n",
      " 384       384                 Rayquaza  DRAGON    680  105     150       90   \n",
      " 443       443                    Gible  DRAGON    300   58      70       45   \n",
      " 444       444                   Gabite  DRAGON    410   68      90       65   \n",
      " 445       445                 Garchomp  DRAGON    600  108     130       95   \n",
      " 445.1   445.1            Mega Garchomp  DRAGON    700  108     170      115   \n",
      " 483       483                   Dialga  DRAGON    680  100     120      120   \n",
      " 484       484                   Palkia  DRAGON    680   90     120      100   \n",
      " 487       487  Giratina- Altered Forme  DRAGON    680  150     100      120   \n",
      " 487.1   487.1   Giratina- Origin Forme  DRAGON    680  150     120      100   \n",
      " 610       610                     Axew  DRAGON    320   46      87       60   \n",
      " 611       611                  Fraxure  DRAGON    410   66     117       70   \n",
      " 612       612                  Haxorus  DRAGON    540   76     147       90   \n",
      " 621       621                Druddigon  DRAGON    485   77     120       90   \n",
      " 633       633                    Deino  DRAGON    300   52      65       50   \n",
      " 634       634                 Zweilous  DRAGON    420   72      85       70   \n",
      " 635       635                Hydreigon  DRAGON    600   92     105       90   \n",
      " 643       643                 Reshiram  DRAGON    680  100     120      100   \n",
      " 644       644                   Zekrom  DRAGON    680  100     150      120   \n",
      " 646       646                   Kyurem  DRAGON    660  125     130       90   \n",
      " 646.1   646.1             White Kyurem  DRAGON    700  125     120       90   \n",
      " 646.2   646.2             Black Kyurem  DRAGON    700  125     170      100   \n",
      " 691       691                 Dragalge  DRAGON    494   65      75       90   \n",
      " 696       696                   Tyrunt  DRAGON    362   58      89       77   \n",
      " 697       697                Tyrantrum  DRAGON    521   82     121      119   \n",
      " 704       704                    Goomy  DRAGON    300   45      50       35   \n",
      " 705       705                  Sliggoo  DRAGON    452   68      75       53   \n",
      " 706       706                   Goodra  DRAGON    600   90     100       70   \n",
      " 714       714                   Noibat  DRAGON    245   40      30       35   \n",
      " 715       715                  Noivern  DRAGON    535   85      70       80   \n",
      " 718       718                  Zygarde  DRAGON    600  108     100      121   \n",
      "\n",
      "        Special Attack  Special Defense  Speed  攻击与特攻的差值  \n",
      "#                                                         \n",
      " 006.1             130               85    100         0  \n",
      " 147                50               50     50        14  \n",
      " 148                70               70     70        14  \n",
      " 149               100              100     80        34  \n",
      " 181.1             165              110     45       -70  \n",
      " 230                95               95     85         0  \n",
      " 329                50               50     70        20  \n",
      " 330                80               80    100        20  \n",
      " 334                70              105     80         0  \n",
      " 371                40               30     50        35  \n",
      " 372                60               50     50        35  \n",
      " 373               110               80    100        25  \n",
      " 380               110              130    110       -30  \n",
      " 381               130              110    110       -40  \n",
      " 384               150               90     95         0  \n",
      " 443                40               45     42        30  \n",
      " 444                50               55     82        40  \n",
      " 445                80               85    102        50  \n",
      " 445.1             120               95     92        50  \n",
      " 483               150              100     90       -30  \n",
      " 484               150              120    100       -30  \n",
      " 487               100              120     90         0  \n",
      " 487.1             120              100     90         0  \n",
      " 610                30               40     57        57  \n",
      " 611                40               50     67        77  \n",
      " 612                60               70     97        87  \n",
      " 621                60               90     48        60  \n",
      " 633                45               50     38        20  \n",
      " 634                65               70     58        20  \n",
      " 635               125               90     98       -20  \n",
      " 643               150              120     90       -30  \n",
      " 644               120              100     90        30  \n",
      " 646               130               90     95         0  \n",
      " 646.1             170              100     95       -50  \n",
      " 646.2             120               90     95        50  \n",
      " 691                97              123     44       -22  \n",
      " 696                45               45     48        44  \n",
      " 697                69               59     71        52  \n",
      " 704                55               75     40        -5  \n",
      " 705                83              113     60        -8  \n",
      " 706               110              150     80       -10  \n",
      " 714                45               40     55       -15  \n",
      " 715                97               80    123       -27  \n",
      " 718                81               95     95        19  \n",
      "\n",
      "ELECTRIC\n",
      "             #                        Name      Type  Total   HP  Attack  \\\n",
      "#                                                                          \n",
      " 025       025                     Pikachu  ELECTRIC    300   35      55   \n",
      " 026       026                      Raichu  ELECTRIC    475   60      90   \n",
      " 081       081                   Magnemite  ELECTRIC    325   25      35   \n",
      " 082       082                    Magneton  ELECTRIC    465   50      60   \n",
      " 100       100                     Voltorb  ELECTRIC    330   40      30   \n",
      " 101       101                   Electrode  ELECTRIC    480   60      50   \n",
      " 125       125                  Electabuzz  ELECTRIC    490   65      83   \n",
      " 135       135                     Jolteon  ELECTRIC    525   65      65   \n",
      " 145       145                      Zapdos  ELECTRIC    580   90      90   \n",
      " 170       170                    Chinchou  ELECTRIC    330   75      38   \n",
      " 171       171                     Lanturn  ELECTRIC    460  125      58   \n",
      " 172       172                       Pichu  ELECTRIC    205   20      40   \n",
      " 179       179                      Mareep  ELECTRIC    280   55      40   \n",
      " 180       180                     Flaaffy  ELECTRIC    365   70      55   \n",
      " 181       181                    Ampharos  ELECTRIC    500   90      75   \n",
      " 181.1   181.1               Mega Ampharos  ELECTRIC    610   90      95   \n",
      " 239       239                      Elekid  ELECTRIC    360   45      63   \n",
      " 243       243                      Raikou  ELECTRIC    580   90      85   \n",
      " 309       309                   Electrike  ELECTRIC    295   40      45   \n",
      " 310       310                   Manectric  ELECTRIC    475   70      75   \n",
      " 310.1   310.1              Mega Manectric  ELECTRIC    575   70      75   \n",
      " 310.1   310.1              Mega Manectric  ELECTRIC    575   70      75   \n",
      " 311       311                      Plusle  ELECTRIC    405   60      50   \n",
      " 312       312                       Minun  ELECTRIC    405   60      40   \n",
      " 403       403                       Shinx  ELECTRIC    263   45      65   \n",
      " 404       404                       Luxio  ELECTRIC    363   60      85   \n",
      " 405       405                      Luxray  ELECTRIC    523   80     120   \n",
      " 417       417                   Pachirisu  ELECTRIC    405   60      45   \n",
      " 462       462                   Magnezone  ELECTRIC    535   70      70   \n",
      " 466       466                  Electivire  ELECTRIC    540   75     123   \n",
      " 479       479                       Rotom  ELECTRIC    440   50      50   \n",
      " 479.1   479.1                  Heat Rotom  ELECTRIC    520   50      65   \n",
      " 479.2   479.2                  Wash Rotom  ELECTRIC    520   50      65   \n",
      " 479.3   479.3                 Frost Rotom  ELECTRIC    520   50      65   \n",
      " 479.4   479.4                   Fan Rotom  ELECTRIC    520   50      65   \n",
      " 479.5   479.5                   Mow Rotom  ELECTRIC    520   50      65   \n",
      " 522       522                     Blitzle  ELECTRIC    295   45      60   \n",
      " 523       523                   Zebstrika  ELECTRIC    497   75     100   \n",
      " 587       587                      Emolga  ELECTRIC    428   55      75   \n",
      " 595       595                      Joltik  ELECTRIC    319   50      47   \n",
      " 596       596                  Galvantula  ELECTRIC    472   70      77   \n",
      " 602       602                      Tynamo  ELECTRIC    275   35      55   \n",
      " 603       603                   Eelektrik  ELECTRIC    405   65      85   \n",
      " 604       604                  Eelektross  ELECTRIC    515   85     115   \n",
      " 618       618                    Stunfisk  ELECTRIC    471  109      66   \n",
      " 642       642  Thundurus- Incarnate Forme  ELECTRIC    580   79     115   \n",
      " 642.1   642.1    Thundurus- Therian Forme  ELECTRIC    580   79     105   \n",
      " 644       644                      Zekrom  ELECTRIC    680  100     150   \n",
      " 694       694                  Helioptile  ELECTRIC    289   44      38   \n",
      " 695       695                   Heliolisk  ELECTRIC    481   62      55   \n",
      " 702       702                     Dedenne  ELECTRIC    431   67      58   \n",
      "\n",
      "        Defense  Special Attack  Special Defense  Speed  攻击与特攻的差值  \n",
      "#                                                                  \n",
      " 025         30              50               40     90         5  \n",
      " 026         55              90               80    100         0  \n",
      " 081         70              95               55     45       -60  \n",
      " 082         95             120               70     70       -60  \n",
      " 100         50              55               55    100       -25  \n",
      " 101         70              80               80    140       -30  \n",
      " 125         57              95               85    105       -12  \n",
      " 135         60             110               95    130       -45  \n",
      " 145         85             125               90    100       -35  \n",
      " 170         38              56               56     67       -18  \n",
      " 171         58              76               76     67       -18  \n",
      " 172         15              35               35     60         5  \n",
      " 179         40              65               45     35       -25  \n",
      " 180         55              80               60     45       -25  \n",
      " 181         75             115               90     55       -40  \n",
      " 181.1      105             165              110     45       -70  \n",
      " 239         37              65               55     95        -2  \n",
      " 243         75             115              100    115       -30  \n",
      " 309         40              65               40     65       -20  \n",
      " 310         60             105               60    105       -30  \n",
      " 310.1       80             135               80    135       -60  \n",
      " 310.1       80             135               80    135       -60  \n",
      " 311         40              85               75     95       -35  \n",
      " 312         50              75               85     95       -35  \n",
      " 403         34              40               34     45        25  \n",
      " 404         49              60               49     60        25  \n",
      " 405         79              95               79     70        25  \n",
      " 417         70              45               90     95         0  \n",
      " 462        115             130               90     60       -60  \n",
      " 466         67              95               85     95        28  \n",
      " 479         77              95               77     91       -45  \n",
      " 479.1      107             105              107     86       -40  \n",
      " 479.2      107             105              107     86       -40  \n",
      " 479.3      107             105              107     86       -40  \n",
      " 479.4      107             105              107     86       -40  \n",
      " 479.5      107             105              107     86       -40  \n",
      " 522         32              50               32     76        10  \n",
      " 523         63              80               63    116        20  \n",
      " 587         60              75               60    103         0  \n",
      " 595         50              57               50     65       -10  \n",
      " 596         60              97               60    108       -20  \n",
      " 602         40              45               40     60        10  \n",
      " 603         70              75               70     40        10  \n",
      " 604         80             105               80     50        10  \n",
      " 618         84              81               99     32       -15  \n",
      " 642         70             125               80    111       -10  \n",
      " 642.1       70             145               80    101       -40  \n",
      " 644        120             120              100     90        30  \n",
      " 694         33              61               43     70       -23  \n",
      " 695         52             109               94    109       -54  \n",
      " 702         57              81               67    101       -23  \n",
      "\n",
      "FAIRY\n",
      "             #            Name   Type  Total   HP  Attack  Defense  \\\n",
      "#                                                                    \n",
      " 035       035        Clefairy  FAIRY    323   70      45       48   \n",
      " 036       036        Clefable  FAIRY    473   95      70       73   \n",
      " 039       039      Jigglypuff  FAIRY    270  115      45       20   \n",
      " 040       040      Wigglytuff  FAIRY    425  140      70       45   \n",
      " 122       122        Mr. Mime  FAIRY    460   40      45       65   \n",
      " 173       173          Cleffa  FAIRY    218   50      25       28   \n",
      " 174       174       Igglybuff  FAIRY    210   90      30       15   \n",
      " 175       175          Togepi  FAIRY    245   35      20       65   \n",
      " 176       176         Togetic  FAIRY    405   55      40       85   \n",
      " 183       183          Marill  FAIRY    250   70      20       50   \n",
      " 184       184       Azumarill  FAIRY    410  100      50       80   \n",
      " 209       209        Snubbull  FAIRY    300   60      80       50   \n",
      " 210       210        Granbull  FAIRY    450   90     120       75   \n",
      " 280       280           Ralts  FAIRY    198   28      25       25   \n",
      " 281       281          Kirlia  FAIRY    278   38      35       35   \n",
      " 282       282       Gardevoir  FAIRY    518   68      65       65   \n",
      " 282.1   282.1  Mega Gardevoir  FAIRY    618   68      85       65   \n",
      " 298       298         Azurill  FAIRY    190   50      20       40   \n",
      " 303       303          Mawile  FAIRY    380   50      85       85   \n",
      " 303.1   303.1     Mega Mawile  FAIRY    520   50     105      125   \n",
      " 439       439        Mime Jr.  FAIRY    310   20      25       45   \n",
      " 468       468        Togekiss  FAIRY    545   85      50       95   \n",
      " 669       669         Flabébé  FAIRY    303   44      38       39   \n",
      " 670       670         Floette  FAIRY    371   54      45       47   \n",
      " 671       671         Florges  FAIRY    552   78      65       68   \n",
      " 682       682        Spritzee  FAIRY    341   78      52       60   \n",
      " 683       683      Aromatisse  FAIRY    462  101      72       72   \n",
      " 684       684         Swirlix  FAIRY    341   62      48       66   \n",
      " 685       685        Slurpuff  FAIRY    480   82      80       86   \n",
      " 700       700         Sylveon  FAIRY    525   95      65       65   \n",
      " 702       702         Dedenne  FAIRY    431   67      58       57   \n",
      " 703       703         Carbink  FAIRY    500   50      50      150   \n",
      " 707       707          Klefki  FAIRY    470   57      80       91   \n",
      " 716       716         Xerneas  FAIRY    680  126     131       95   \n",
      "\n",
      "        Special Attack  Special Defense  Speed  攻击与特攻的差值  \n",
      "#                                                         \n",
      " 035                60               65     35       -15  \n",
      " 036                85               90     60       -15  \n",
      " 039                45               25     20         0  \n",
      " 040                75               50     45        -5  \n",
      " 122               100              120     90       -55  \n",
      " 173                45               55     15       -20  \n",
      " 174                40               20     15       -10  \n",
      " 175                40               65     20       -20  \n",
      " 176                80              105     40       -40  \n",
      " 183                20               50     40         0  \n",
      " 184                50               80     50         0  \n",
      " 209                40               40     30        40  \n",
      " 210                60               60     45        60  \n",
      " 280                45               35     40       -20  \n",
      " 281                65               55     50       -30  \n",
      " 282               125              115     80       -60  \n",
      " 282.1             165              135    100       -80  \n",
      " 298                20               40     20         0  \n",
      " 303                55               55     50        30  \n",
      " 303.1              55               95     90        50  \n",
      " 439                70               90     60       -45  \n",
      " 468               120              115     80       -70  \n",
      " 669                61               79     42       -23  \n",
      " 670                75               98     52       -30  \n",
      " 671               112              154     75       -47  \n",
      " 682                63               65     23       -11  \n",
      " 683                99               89     29       -27  \n",
      " 684                59               57     49       -11  \n",
      " 685                85               75     72        -5  \n",
      " 700               110              130     60       -45  \n",
      " 702                81               67    101       -23  \n",
      " 703                50              150     50         0  \n",
      " 707                80               87     75         0  \n",
      " 716               131               98     99         0  \n",
      "\n",
      "FIGHTING\n",
      "             #                       Name      Type  Total   HP  Attack  \\\n",
      "#                                                                         \n",
      " 056       056                     Mankey  FIGHTING    305   40      80   \n",
      " 057       057                   Primeape  FIGHTING    455   65     105   \n",
      " 062       062                  Poliwrath  FIGHTING    500   90      85   \n",
      " 066       066                     Machop  FIGHTING    305   70      80   \n",
      " 067       067                    Machoke  FIGHTING    405   80     100   \n",
      " 068       068                    Machamp  FIGHTING    505   90     130   \n",
      " 106       106                  Hitmonlee  FIGHTING    455   50     120   \n",
      " 107       107                 Hitmonchan  FIGHTING    455   50     105   \n",
      " 150.1   150.1              Mega Mewtwo X  FIGHTING    780  106     190   \n",
      " 214       214                  Heracross  FIGHTING    500   80     125   \n",
      " 214.1   214.1             Mega Heracross  FIGHTING    600   80     185   \n",
      " 236       236                    Tyrogue  FIGHTING    210   35      35   \n",
      " 237       237                  Hitmontop  FIGHTING    455   50      95   \n",
      " 256       256                  Combusken  FIGHTING    405   60      85   \n",
      " 257       257                   Blaziken  FIGHTING    530   80     120   \n",
      " 257.1   257.1              Mega Blaziken  FIGHTING    630   80     160   \n",
      " 286       286                    Breloom  FIGHTING    460   60     130   \n",
      " 296       296                   Makuhita  FIGHTING    237   72      60   \n",
      " 297       297                   Hariyama  FIGHTING    474  144     120   \n",
      " 307       307                   Meditite  FIGHTING    280   30      40   \n",
      " 308       308                   Medicham  FIGHTING    410   60      60   \n",
      " 308.1   308.1              Mega Medicham  FIGHTING    510   60     100   \n",
      " 391       391                   Monferno  FIGHTING    405   64      78   \n",
      " 392       392                  Infernape  FIGHTING    534   76     104   \n",
      " 447       447                      Riolu  FIGHTING    285   40      70   \n",
      " 448       448                    Lucario  FIGHTING    525   70     110   \n",
      " 448.1   448.1               Mega Lucario  FIGHTING    625   70     145   \n",
      " 453       453                   Croagunk  FIGHTING    300   48      61   \n",
      " 454       454                  Toxicroak  FIGHTING    490   83     106   \n",
      " 475       475                    Gallade  FIGHTING    518   68     125   \n",
      " 499       499                    Pignite  FIGHTING    418   90      93   \n",
      " 500       500                     Emboar  FIGHTING    528  110     123   \n",
      " 532       532                    Timburr  FIGHTING    305   75      80   \n",
      " 533       533                    Gurdurr  FIGHTING    405   85     105   \n",
      " 534       534                 Conkeldurr  FIGHTING    505  105     140   \n",
      " 538       538                      Throh  FIGHTING    465  120     100   \n",
      " 539       539                       Sawk  FIGHTING    465   75     125   \n",
      " 559       559                    Scraggy  FIGHTING    348   50      75   \n",
      " 560       560                    Scrafty  FIGHTING    488   65      90   \n",
      " 619       619                    Mienfoo  FIGHTING    350   45      85   \n",
      " 620       620                   Mienshao  FIGHTING    510   65     125   \n",
      " 638       638                   Cobalion  FIGHTING    580   91      90   \n",
      " 639       639                  Terrakion  FIGHTING    580   91     129   \n",
      " 640       640                   Virizion  FIGHTING    580   91      90   \n",
      " 647       647     Keldeo- Ordinary Forme  FIGHTING    580   91      72   \n",
      "647.1    647.1     Keldeo- Resolute Forme  FIGHTING    580   91      72   \n",
      "648.1    648.1  Meloetta- Pirouette Forme  FIGHTING    600  100     128   \n",
      " 652       652                 Chesnaught  FIGHTING    530   88     107   \n",
      " 674       674                    Pancham  FIGHTING    348   67      82   \n",
      " 675       675                    Pangoro  FIGHTING    495   95     124   \n",
      " 701       701                   Hawlucha  FIGHTING    500   78      92   \n",
      "\n",
      "        Defense  Special Attack  Special Defense  Speed  攻击与特攻的差值  \n",
      "#                                                                  \n",
      " 056         35              35               45     70        45  \n",
      " 057         60              60               70     95        45  \n",
      " 062         95              70               90     70        15  \n",
      " 066         50              35               35     35        45  \n",
      " 067         70              50               60     45        50  \n",
      " 068         80              65               85     55        65  \n",
      " 106         53              35              110     87        85  \n",
      " 107         79              35              110     76        70  \n",
      " 150.1      100             154              100    130        36  \n",
      " 214         75              40               95     85        85  \n",
      " 214.1      115              40              105     75       145  \n",
      " 236         35              35               35     35         0  \n",
      " 237         95              35              110     70        60  \n",
      " 256         60              85               60     55         0  \n",
      " 257         70             110               70     80        10  \n",
      " 257.1       80             130               80    100        30  \n",
      " 286         80              60               60     70        70  \n",
      " 296         30              20               30     25        40  \n",
      " 297         60              40               60     50        80  \n",
      " 307         55              40               55     60         0  \n",
      " 308         75              60               75     80         0  \n",
      " 308.1       85              80               85    100        20  \n",
      " 391         52              78               52     81         0  \n",
      " 392         71             104               71    108         0  \n",
      " 447         40              35               40     60        35  \n",
      " 448         70             115               70     90        -5  \n",
      " 448.1       88             140               70    112         5  \n",
      " 453         40              61               40     50         0  \n",
      " 454         65              86               65     85        20  \n",
      " 475         65              65              115     80        60  \n",
      " 499         55              70               55     55        23  \n",
      " 500         65             100               65     65        23  \n",
      " 532         55              25               35     35        55  \n",
      " 533         85              40               50     40        65  \n",
      " 534         95              55               65     45        85  \n",
      " 538         85              30               85     45        70  \n",
      " 539         75              30               75     85        95  \n",
      " 559         70              35               70     48        40  \n",
      " 560        115              45              115     58        45  \n",
      " 619         50              55               50     65        30  \n",
      " 620         60              95               60    105        30  \n",
      " 638        129              90               72    108         0  \n",
      " 639         90              72               90    108        57  \n",
      " 640         72              90              129    108         0  \n",
      " 647         90             129               90    108       -57  \n",
      "647.1        90             129               90    108       -57  \n",
      "648.1        90              77               77    128        51  \n",
      " 652        122              74               75     64        33  \n",
      " 674         62              46               48     43        36  \n",
      " 675         78              69               71     58        55  \n",
      " 701         75              74               63    118        18  \n",
      "\n",
      "FIRE\n",
      "             #              Name  Type  Total  HP  Attack  Defense  \\\n",
      "#                                                                    \n",
      " 004       004        Charmander  FIRE    309  39      52       43   \n",
      " 005       005        Charmeleon  FIRE    405  58      64       58   \n",
      " 006       006         Charizard  FIRE    534  78      84       78   \n",
      " 006.1   006.1  Mega Charizard X  FIRE    634  78     130      111   \n",
      " 006.2   006.2  Mega Charizard Y  FIRE    634  78     104       78   \n",
      "...        ...               ...   ...    ...  ..     ...      ...   \n",
      " 655       655           Delphox  FIRE    534  75      69       72   \n",
      " 662       662       Fletchinder  FIRE    382  62      73       55   \n",
      " 663       663        Talonflame  FIRE    499  78      81       71   \n",
      " 667       667            Litleo  FIRE    369  62      50       58   \n",
      " 668       668            Pyroar  FIRE    507  86      68       72   \n",
      "\n",
      "        Special Attack  Special Defense  Speed  攻击与特攻的差值  \n",
      "#                                                         \n",
      " 004                60               50     65        -8  \n",
      " 005                80               65     80       -16  \n",
      " 006               109               85    100       -25  \n",
      " 006.1             130               85    100         0  \n",
      " 006.2             159              115    100       -55  \n",
      "...                ...              ...    ...       ...  \n",
      " 655               114              100    104       -45  \n",
      " 662                56               52     84        17  \n",
      " 663                74               69    126         7  \n",
      " 667                73               54     72       -23  \n",
      " 668               109               66    106       -41  \n",
      "\n",
      "[62 rows x 11 columns]\n",
      "\n",
      "FLYING\n",
      "             #              Name    Type  Total   HP  Attack  Defense  \\\n",
      "#                                                                       \n",
      " 006       006         Charizard  FLYING    534   78      84       78   \n",
      " 006.2   006.2  Mega Charizard Y  FLYING    634   78     104       78   \n",
      " 012       012        Butterfree  FLYING    385   60      45       50   \n",
      " 016       016            Pidgey  FLYING    251   40      45       40   \n",
      " 017       017         Pidgeotto  FLYING    349   63      60       55   \n",
      "...        ...               ...     ...    ...  ...     ...      ...   \n",
      " 666       666          Vivillon  FLYING    411   80      52       50   \n",
      " 701       701          Hawlucha  FLYING    500   78      92       75   \n",
      " 714       714            Noibat  FLYING    245   40      30       35   \n",
      " 715       715           Noivern  FLYING    535   85      70       80   \n",
      " 717       717           Yveltal  FLYING    680  126     131       95   \n",
      "\n",
      "        Special Attack  Special Defense  Speed  攻击与特攻的差值  \n",
      "#                                                         \n",
      " 006               109               85    100       -25  \n",
      " 006.2             159              115    100       -55  \n",
      " 012                80               80     70       -35  \n",
      " 016                35               35     56        10  \n",
      " 017                50               50     71        10  \n",
      "...                ...              ...    ...       ...  \n",
      " 666                90               50     89       -38  \n",
      " 701                74               63    118        18  \n",
      " 714                45               40     55       -15  \n",
      " 715                97               80    123       -27  \n",
      " 717               131               98     99         0  \n",
      "\n",
      "[100 rows x 11 columns]\n",
      "\n",
      "GHOST\n",
      "             #                     Name   Type  Total   HP  Attack  Defense  \\\n",
      "#                                                                             \n",
      " 092       092                   Gastly  GHOST    310   30      35       30   \n",
      " 093       093                  Haunter  GHOST    405   45      50       45   \n",
      " 094       094                   Gengar  GHOST    500   60      65       60   \n",
      " 094.1   094.1              Mega Gengar  GHOST    600   60      65       80   \n",
      " 200       200               Misdreavus  GHOST    435   60      60       60   \n",
      " 292       292                 Shedinja  GHOST    236    1      90       45   \n",
      " 302       302                  Sableye  GHOST    380   50      75       75   \n",
      " 353       353                  Shuppet  GHOST    295   44      75       35   \n",
      " 354       354                  Banette  GHOST    455   64     115       65   \n",
      " 354.1   354.1             Mega Banette  GHOST    555   64     165       75   \n",
      " 354.1   354.1             Mega Banette  GHOST    555   64     165       75   \n",
      " 355       355                  Duskull  GHOST    295   20      40       90   \n",
      " 356       356                 Dusclops  GHOST    455   40      70      130   \n",
      " 425       425                 Drifloon  GHOST    348   90      50       34   \n",
      " 426       426                 Drifblim  GHOST    498  150      80       44   \n",
      " 429       429                Mismagius  GHOST    495   60      60       60   \n",
      " 442       442                Spiritomb  GHOST    485   50      92      108   \n",
      " 477       477                 Dusknoir  GHOST    525   45     100      135   \n",
      " 478       478                 Froslass  GHOST    480   70      80       70   \n",
      " 479       479                    Rotom  GHOST    440   50      50       77   \n",
      " 487       487  Giratina- Altered Forme  GHOST    680  150     100      120   \n",
      " 487.1   487.1   Giratina- Origin Forme  GHOST    680  150     120      100   \n",
      " 562       562                   Yamask  GHOST    303   38      30       85   \n",
      " 563       563               Cofagrigus  GHOST    483   58      50      145   \n",
      " 592       592                 Frillish  GHOST    335   55      40       50   \n",
      " 593       593                Jellicent  GHOST    480  100      60       70   \n",
      " 607       607                  Litwick  GHOST    275   50      30       55   \n",
      " 608       608                  Lampent  GHOST    370   60      40       60   \n",
      " 609       609               Chandelure  GHOST    520   60      55       90   \n",
      " 622       622                   Golett  GHOST    303   59      74       50   \n",
      " 623       623                   Golurk  GHOST    483   89     124       80   \n",
      " 679       679                  Honedge  GHOST    325   45      80      100   \n",
      " 680       680                 Doublade  GHOST    448   59     110      150   \n",
      " 681       681   Aegislash- Blade Forme  GHOST    520   60     150       50   \n",
      "681.1    681.1  Aegislash- Shield Forme  GHOST    520   60      50      150   \n",
      " 708       708                 Phantump  GHOST    309   43      70       48   \n",
      " 709       709                Trevenant  GHOST    474   85     110       76   \n",
      " 710       710  Pumpkaboo- Average Size  GHOST    335   49      66       70   \n",
      "710.1    710.1    Pumpkaboo- Small Size  GHOST    335   44      66       70   \n",
      "710.2    710.2    Pumpkaboo- Large Size  GHOST    335   54      66       70   \n",
      "710.3    710.3    Pumpkaboo- Super Size  GHOST    335   59      66       70   \n",
      " 711       711  Gourgeist- Average Size  GHOST    494   65      90      122   \n",
      "711.1    711.1    Gourgeist- Small Size  GHOST    494   55      85      122   \n",
      "711.2    711.2    Gourgeist- Large Size  GHOST    494   75      95      122   \n",
      "711.3    711.3     Gourgeist-Super Size  GHOST    494   85     100      122   \n",
      "\n",
      "        Special Attack  Special Defense  Speed  攻击与特攻的差值  \n",
      "#                                                         \n",
      " 092               100               35     80       -65  \n",
      " 093               115               55     95       -65  \n",
      " 094               130               75    110       -65  \n",
      " 094.1             170               95    130      -105  \n",
      " 200                85               85     85       -25  \n",
      " 292                30               30     40        60  \n",
      " 302                65               65     50        10  \n",
      " 353                63               33     45        12  \n",
      " 354                83               63     65        32  \n",
      " 354.1              93               83     75        72  \n",
      " 354.1              93               83     75        72  \n",
      " 355                30               90     25        10  \n",
      " 356                60              130     25        10  \n",
      " 425                60               44     70       -10  \n",
      " 426                90               54     80       -10  \n",
      " 429               105              105    105       -45  \n",
      " 442                92              108     35         0  \n",
      " 477                65              135     45        35  \n",
      " 478                80               70    110         0  \n",
      " 479                95               77     91       -45  \n",
      " 487               100              120     90         0  \n",
      " 487.1             120              100     90         0  \n",
      " 562                55               65     30       -25  \n",
      " 563                95              105     30       -45  \n",
      " 592                65               85     40       -25  \n",
      " 593                85              105     60       -25  \n",
      " 607                65               55     20       -35  \n",
      " 608                95               60     55       -55  \n",
      " 609               145               90     80       -90  \n",
      " 622                35               50     35        39  \n",
      " 623                55               80     55        69  \n",
      " 679                35               37     28        45  \n",
      " 680                45               49     35        65  \n",
      " 681               150               50     60         0  \n",
      "681.1               50              150     60         0  \n",
      " 708                50               60     38        20  \n",
      " 709                65               82     56        45  \n",
      " 710                44               55     51        22  \n",
      "710.1               44               55     56        22  \n",
      "710.2               44               55     46        22  \n",
      "710.3               44               55     41        22  \n",
      " 711                58               75     84        32  \n",
      "711.1               58               75     99        27  \n",
      "711.2               58               75     69        37  \n",
      "711.3               58               75     54        42  \n",
      "\n",
      "GRASS\n",
      "             #                     Name   Type  Total  HP  Attack  Defense  \\\n",
      "#                                                                            \n",
      " 001       001                Bulbasaur  GRASS    318  45      49       49   \n",
      " 002       002                  Ivysaur  GRASS    405  60      62       63   \n",
      " 003       003                 Venusaur  GRASS    525  80      82       83   \n",
      " 003.1   003.1            Mega Venusaur  GRASS    625  80     100      123   \n",
      " 043       043                   Oddish  GRASS    320  45      50       55   \n",
      "...        ...                      ...    ...    ...  ..     ...      ...   \n",
      "710.3    710.3    Pumpkaboo- Super Size  GRASS    335  59      66       70   \n",
      " 711       711  Gourgeist- Average Size  GRASS    494  65      90      122   \n",
      "711.1    711.1    Gourgeist- Small Size  GRASS    494  55      85      122   \n",
      "711.2    711.2    Gourgeist- Large Size  GRASS    494  75      95      122   \n",
      "711.3    711.3     Gourgeist-Super Size  GRASS    494  85     100      122   \n",
      "\n",
      "        Special Attack  Special Defense  Speed  攻击与特攻的差值  \n",
      "#                                                         \n",
      " 001                65               65     45       -16  \n",
      " 002                80               80     60       -18  \n",
      " 003               100              100     80       -18  \n",
      " 003.1             122              120     80       -22  \n",
      " 043                75               65     30       -25  \n",
      "...                ...              ...    ...       ...  \n",
      "710.3               44               55     41        22  \n",
      " 711                58               75     84        32  \n",
      "711.1               58               75     99        27  \n",
      "711.2               58               75     69        37  \n",
      "711.3               58               75     54        42  \n",
      "\n",
      "[93 rows x 11 columns]\n",
      "\n",
      "GROUND\n",
      "             #                       Name    Type  Total   HP  Attack  \\\n",
      "#                                                                       \n",
      " 027       027                  Sandshrew  GROUND    300   50      75   \n",
      " 028       028                  Sandslash  GROUND    450   75     100   \n",
      " 031       031                  Nidoqueen  GROUND    495   90      82   \n",
      " 034       034                   Nidoking  GROUND    495   81      92   \n",
      " 050       050                    Diglett  GROUND    265   10      55   \n",
      "...        ...                        ...     ...    ...  ...     ...   \n",
      " 623       623                     Golurk  GROUND    483   89     124   \n",
      " 645       645  Landorus- Incarnate Forme  GROUND    600   89     125   \n",
      " 645.1   645.1    Landorus- Therian Forme  GROUND    600   89     145   \n",
      " 660       660                  Diggersby  GROUND    423   85      56   \n",
      " 718       718                    Zygarde  GROUND    600  108     100   \n",
      "\n",
      "        Defense  Special Attack  Special Defense  Speed  攻击与特攻的差值  \n",
      "#                                                                  \n",
      " 027         85              20               30     40        55  \n",
      " 028        110              45               55     65        55  \n",
      " 031         87              75               85     76         7  \n",
      " 034         77              85               75     85         7  \n",
      " 050         25              35               45     95        20  \n",
      "...         ...             ...              ...    ...       ...  \n",
      " 623         80              55               80     55        69  \n",
      " 645         90             115               80    101        10  \n",
      " 645.1       90             105               80     91        40  \n",
      " 660         77              50               77     78         6  \n",
      " 718        121              81               95     95        19  \n",
      "\n",
      "[62 rows x 11 columns]\n",
      "\n",
      "ICE\n",
      "             #            Name Type  Total   HP  Attack  Defense  \\\n",
      "#                                                                  \n",
      " 087       087         Dewgong  ICE    475   90      70       80   \n",
      " 091       091        Cloyster  ICE    525   50      95      180   \n",
      " 124       124            Jynx  ICE    455   65      50       35   \n",
      " 131       131          Lapras  ICE    535  130      85       80   \n",
      " 144       144        Articuno  ICE    580   90      85      100   \n",
      " 215       215         Sneasel  ICE    430   55      95       55   \n",
      " 220       220          Swinub  ICE    250   50      50       40   \n",
      " 221       221       Piloswine  ICE    450  100     100       80   \n",
      " 225       225        Delibird  ICE    330   45      55       45   \n",
      " 238       238        Smoochum  ICE    305   45      30       15   \n",
      " 361       361         Snorunt  ICE    300   50      50       50   \n",
      " 362       362          Glalie  ICE    480   80      80       80   \n",
      " 363       363          Spheal  ICE    290   70      40       50   \n",
      " 364       364          Sealeo  ICE    410   90      60       70   \n",
      " 365       365         Walrein  ICE    530  110      80       90   \n",
      " 378       378          Regice  ICE    580   80      50      100   \n",
      " 459       459          Snover  ICE    334   60      62       50   \n",
      " 460       460       Abomasnow  ICE    494   90      92       75   \n",
      " 460.1   460.1  Mega Abomasnow  ICE    594   90     132      105   \n",
      " 461       461         Weavile  ICE    510   70     120       65   \n",
      " 471       471         Glaceon  ICE    525   65      60      110   \n",
      " 473       473       Mamoswine  ICE    530  110     130       80   \n",
      " 478       478        Froslass  ICE    480   70      80       70   \n",
      " 479.3   479.3     Frost Rotom  ICE    520   50      65      107   \n",
      " 582       582       Vanillite  ICE    305   36      50       50   \n",
      " 583       583       Vanillish  ICE    395   51      65       65   \n",
      " 584       584       Vanilluxe  ICE    535   71      95       85   \n",
      " 613       613         Cubchoo  ICE    305   55      70       40   \n",
      " 614       614         Beartic  ICE    485   95     110       80   \n",
      " 615       615       Cryogonal  ICE    485   70      50       30   \n",
      " 646       646          Kyurem  ICE    660  125     130       90   \n",
      " 646.1   646.1    White Kyurem  ICE    700  125     120       90   \n",
      " 646.2   646.2    Black Kyurem  ICE    700  125     170      100   \n",
      " 698       698          Amaura  ICE    362   77      59       50   \n",
      " 699       699         Aurorus  ICE    521  123      77       72   \n",
      " 712       712        Bergmite  ICE    304   55      69       85   \n",
      " 713       713         Avalugg  ICE    514   95     117      184   \n",
      "\n",
      "        Special Attack  Special Defense  Speed  攻击与特攻的差值  \n",
      "#                                                         \n",
      " 087                70               95     70         0  \n",
      " 091                85               45     70        10  \n",
      " 124               115               95     95       -65  \n",
      " 131                85               95     60         0  \n",
      " 144                95              125     85       -10  \n",
      " 215                35               75    115        60  \n",
      " 220                30               30     50        20  \n",
      " 221                60               60     50        40  \n",
      " 225                65               45     75       -10  \n",
      " 238                85               65     65       -55  \n",
      " 361                50               50     50         0  \n",
      " 362                80               80     80         0  \n",
      " 363                55               50     25       -15  \n",
      " 364                75               70     45       -15  \n",
      " 365                95               90     65       -15  \n",
      " 378               100              200     50       -50  \n",
      " 459                62               60     40         0  \n",
      " 460                92               85     60         0  \n",
      " 460.1             132              105     30         0  \n",
      " 461                45               85    125        75  \n",
      " 471               130               95     65       -70  \n",
      " 473                70               60     80        60  \n",
      " 478                80               70    110         0  \n",
      " 479.3             105              107     86       -40  \n",
      " 582                65               60     44       -15  \n",
      " 583                80               75     59       -15  \n",
      " 584               110               95     79       -15  \n",
      " 613                60               40     40        10  \n",
      " 614                70               80     50        40  \n",
      " 615                95              135    105       -45  \n",
      " 646               130               90     95         0  \n",
      " 646.1             170              100     95       -50  \n",
      " 646.2             120               90     95        50  \n",
      " 698                67               63     46        -8  \n",
      " 699                99               92     58       -22  \n",
      " 712                32               35     28        37  \n",
      " 713                44               46     28        73  \n",
      "\n",
      "NORMAL\n",
      "         #        Name    Type  Total  HP  Attack  Defense  Special Attack  \\\n",
      "#                                                                            \n",
      " 016   016      Pidgey  NORMAL    251  40      45       40              35   \n",
      " 017   017   Pidgeotto  NORMAL    349  63      60       55              50   \n",
      " 018   018     Pidgeot  NORMAL    469  83      80       75              70   \n",
      " 019   019     Rattata  NORMAL    253  30      56       35              25   \n",
      " 020   020    Raticate  NORMAL    413  55      81       60              50   \n",
      "...    ...         ...     ...    ...  ..     ...      ...             ...   \n",
      " 667   667      Litleo  NORMAL    369  62      50       58              73   \n",
      " 668   668      Pyroar  NORMAL    507  86      68       72             109   \n",
      " 676   676     Furfrou  NORMAL    472  75      80       60              65   \n",
      " 694   694  Helioptile  NORMAL    289  44      38       33              61   \n",
      " 695   695   Heliolisk  NORMAL    481  62      55       52             109   \n",
      "\n",
      "      Special Defense  Speed  攻击与特攻的差值  \n",
      "#                                       \n",
      " 016               35     56        10  \n",
      " 017               50     71        10  \n",
      " 018               70     91        10  \n",
      " 019               35     72        31  \n",
      " 020               70     97        31  \n",
      "...               ...    ...       ...  \n",
      " 667               54     72       -23  \n",
      " 668               66    106       -41  \n",
      " 676               90    102        15  \n",
      " 694               43     70       -23  \n",
      " 695               94    109       -54  \n",
      "\n",
      "[100 rows x 11 columns]\n",
      "\n",
      "POISON\n",
      "             #           Name    Type  Total   HP  Attack  Defense  \\\n",
      "#                                                                    \n",
      " 001       001      Bulbasaur  POISON    318   45      49       49   \n",
      " 002       002        Ivysaur  POISON    405   60      62       63   \n",
      " 003       003       Venusaur  POISON    525   80      82       83   \n",
      " 003.1   003.1  Mega Venusaur  POISON    625   80     100      123   \n",
      " 013       013         Weedle  POISON    195   40      35       30   \n",
      "...        ...            ...     ...    ...  ...     ...      ...   \n",
      " 569       569       Garbodor  POISON    474   80      95       82   \n",
      " 590       590        Foongus  POISON    294   69      55       45   \n",
      " 591       591      Amoonguss  POISON    464  114      85       70   \n",
      " 690       690         Skrelp  POISON    320   50      60       60   \n",
      " 691       691       Dragalge  POISON    494   65      75       90   \n",
      "\n",
      "        Special Attack  Special Defense  Speed  攻击与特攻的差值  \n",
      "#                                                         \n",
      " 001                65               65     45       -16  \n",
      " 002                80               80     60       -18  \n",
      " 003               100              100     80       -18  \n",
      " 003.1             122              120     80       -22  \n",
      " 013                20               20     50        15  \n",
      "...                ...              ...    ...       ...  \n",
      " 569                60               82     75        35  \n",
      " 590                55               55     15         0  \n",
      " 591                85               80     30         0  \n",
      " 690                60               60     30         0  \n",
      " 691                97              123     44       -22  \n",
      "\n",
      "[61 rows x 11 columns]\n",
      "\n",
      "PSYCHIC\n",
      "             #           Name     Type  Total  HP  Attack  Defense  \\\n",
      "#                                                                    \n",
      " 063       063           Abra  PSYCHIC    310  25      20       15   \n",
      " 064       064        Kadabra  PSYCHIC    400  40      35       30   \n",
      " 065       065       Alakazam  PSYCHIC    490  55      50       45   \n",
      " 065.1   065.1  Mega Alakazam  PSYCHIC    590  55      50       65   \n",
      " 079       079       Slowpoke  PSYCHIC    315  90      65       65   \n",
      "...        ...            ...      ...    ...  ..     ...      ...   \n",
      " 655       655        Delphox  PSYCHIC    534  75      69       72   \n",
      " 677       677         Espurr  PSYCHIC    355  62      48       54   \n",
      " 678       678       Meowstic  PSYCHIC    466  74      48       76   \n",
      " 686       686          Inkay  PSYCHIC    288  53      54       53   \n",
      " 687       687        Malamar  PSYCHIC    482  86      92       88   \n",
      "\n",
      "        Special Attack  Special Defense  Speed  攻击与特攻的差值  \n",
      "#                                                         \n",
      " 063               105               55     90       -85  \n",
      " 064               120               70    105       -85  \n",
      " 065               135               85    120       -85  \n",
      " 065.1             175               95    150      -125  \n",
      " 079                40               40     15        25  \n",
      "...                ...              ...    ...       ...  \n",
      " 655               114              100    104       -45  \n",
      " 677                63               60     68       -15  \n",
      " 678                83               81    104       -35  \n",
      " 686                37               46     45        17  \n",
      " 687                68               75     73        24  \n",
      "\n",
      "[83 rows x 11 columns]\n",
      "\n",
      "ROCK\n",
      "             #             Name  Type  Total   HP  Attack  Defense  \\\n",
      "#                                                                    \n",
      " 074       074          Geodude  ROCK    300   40      80      100   \n",
      " 075       075         Graveler  ROCK    390   55      95      115   \n",
      " 076       076            Golem  ROCK    485   80     110      130   \n",
      " 095       095             Onix  ROCK    385   35      45      160   \n",
      " 111       111          Rhyhorn  ROCK    345   80      85       95   \n",
      " 112       112           Rhydon  ROCK    485  105     130      120   \n",
      " 138       138          Omanyte  ROCK    355   35      40      100   \n",
      " 139       139          Omastar  ROCK    495   70      60      125   \n",
      " 140       140           Kabuto  ROCK    355   30      80       90   \n",
      " 141       141         Kabutops  ROCK    495   60     115      105   \n",
      " 142       142       Aerodactyl  ROCK    515   80     105       65   \n",
      " 142.1   142.1  Mega Aerodactyl  ROCK    615   80     135       85   \n",
      " 185       185        Sudowoodo  ROCK    410   70     100      115   \n",
      " 213       213          Shuckle  ROCK    505   20      10      230   \n",
      " 219       219         Magcargo  ROCK    410   50      50      120   \n",
      " 222       222          Corsola  ROCK    380   55      55       85   \n",
      " 246       246         Larvitar  ROCK    300   50      64       50   \n",
      " 247       247          Pupitar  ROCK    410   70      84       70   \n",
      " 248       248        Tyranitar  ROCK    600  100     134      110   \n",
      " 248.1   248.1   Mega Tyranitar  ROCK    700  100     164      150   \n",
      " 299       299         Nosepass  ROCK    375   30      45      135   \n",
      " 304       304             Aron  ROCK    330   50      70      100   \n",
      " 305       305           Lairon  ROCK    430   60      90      140   \n",
      " 306       306           Aggron  ROCK    530   70     110      180   \n",
      " 337       337         Lunatone  ROCK    440   70      55       65   \n",
      " 338       338          Solrock  ROCK    440   70      95       85   \n",
      " 345       345           Lileep  ROCK    355   66      41       77   \n",
      " 346       346          Cradily  ROCK    495   86      81       97   \n",
      " 347       347          Anorith  ROCK    355   45      95       50   \n",
      " 348       348          Armaldo  ROCK    495   75     125      100   \n",
      " 369       369        Relicanth  ROCK    485  100      90      130   \n",
      " 377       377         Regirock  ROCK    580   80     100      200   \n",
      " 408       408         Cranidos  ROCK    350   67     125       40   \n",
      " 409       409        Rampardos  ROCK    495   97     165       60   \n",
      " 410       410         Shieldon  ROCK    350   30      42      118   \n",
      " 411       411        Bastiodon  ROCK    495   60      52      168   \n",
      " 438       438           Bonsly  ROCK    290   50      80       95   \n",
      " 464       464        Rhyperior  ROCK    535  115     140      130   \n",
      " 476       476        Probopass  ROCK    525   60      55      145   \n",
      " 524       524       Roggenrola  ROCK    280   55      75       85   \n",
      " 525       525          Boldore  ROCK    390   70     105      105   \n",
      " 526       526         Gigalith  ROCK    505   85     135      130   \n",
      " 557       557          Dwebble  ROCK    325   50      65       85   \n",
      " 558       558          Crustle  ROCK    475   70      95      125   \n",
      " 564       564         Tirtouga  ROCK    355   54      78      103   \n",
      " 565       565       Carracosta  ROCK    495   74     108      133   \n",
      " 566       566           Archen  ROCK    401   55     112       45   \n",
      " 567       567         Archeops  ROCK    567   75     140       65   \n",
      " 639       639        Terrakion  ROCK    580   91     129       90   \n",
      " 688       688          Binacle  ROCK    306   42      52       67   \n",
      " 689       689       Barbaracle  ROCK    500   72     105      115   \n",
      " 696       696           Tyrunt  ROCK    362   58      89       77   \n",
      " 697       697        Tyrantrum  ROCK    521   82     121      119   \n",
      " 698       698           Amaura  ROCK    362   77      59       50   \n",
      " 699       699          Aurorus  ROCK    521  123      77       72   \n",
      " 703       703          Carbink  ROCK    500   50      50      150   \n",
      "\n",
      "        Special Attack  Special Defense  Speed  攻击与特攻的差值  \n",
      "#                                                         \n",
      " 074                30               30     20        50  \n",
      " 075                45               45     35        50  \n",
      " 076                55               65     45        55  \n",
      " 095                30               45     70        15  \n",
      " 111                30               30     25        55  \n",
      " 112                45               45     40        85  \n",
      " 138                90               55     35       -50  \n",
      " 139               115               70     55       -55  \n",
      " 140                55               45     55        25  \n",
      " 141                65               70     80        50  \n",
      " 142                60               75    130        45  \n",
      " 142.1              70               95    150        65  \n",
      " 185                30               65     30        70  \n",
      " 213                10              230      5         0  \n",
      " 219                80               80     30       -30  \n",
      " 222                65               85     35       -10  \n",
      " 246                45               50     41        19  \n",
      " 247                65               70     51        19  \n",
      " 248                95              100     61        39  \n",
      " 248.1              95              120     71        69  \n",
      " 299                45               90     30         0  \n",
      " 304                40               40     30        30  \n",
      " 305                50               50     40        40  \n",
      " 306                60               60     50        50  \n",
      " 337                95               85     70       -40  \n",
      " 338                55               65     70        40  \n",
      " 345                61               87     23       -20  \n",
      " 346                81              107     43         0  \n",
      " 347                40               50     75        55  \n",
      " 348                70               80     45        55  \n",
      " 369                45               65     55        45  \n",
      " 377                50              100     50        50  \n",
      " 408                30               30     58        95  \n",
      " 409                65               50     58       100  \n",
      " 410                42               88     30         0  \n",
      " 411                47              138     30         5  \n",
      " 438                10               45     10        70  \n",
      " 464                55               55     40        85  \n",
      " 476                75              150     40       -20  \n",
      " 524                25               25     15        50  \n",
      " 525                50               40     20        55  \n",
      " 526                60               70     25        75  \n",
      " 557                35               35     55        30  \n",
      " 558                65               75     45        30  \n",
      " 564                53               45     22        25  \n",
      " 565                83               65     32        25  \n",
      " 566                74               45     70        38  \n",
      " 567               112               65    110        28  \n",
      " 639                72               90    108        57  \n",
      " 688                39               56     50        13  \n",
      " 689                54               86     68        51  \n",
      " 696                45               45     48        44  \n",
      " 697                69               59     71        52  \n",
      " 698                67               63     46        -8  \n",
      " 699                99               92     58       -22  \n",
      " 703                50              150     50         0  \n",
      "\n",
      "STEEL\n",
      "             #                     Name   Type  Total   HP  Attack  Defense  \\\n",
      "#                                                                             \n",
      " 081       081                Magnemite  STEEL    325   25      35       70   \n",
      " 082       082                 Magneton  STEEL    465   50      60       95   \n",
      " 205       205               Forretress  STEEL    465   75      90      140   \n",
      " 208       208                  Steelix  STEEL    510   75      85      200   \n",
      " 212       212                   Scizor  STEEL    500   70     130      100   \n",
      " 212.1   212.1              Mega Scizor  STEEL    600   70     150      140   \n",
      " 227       227                 Skarmory  STEEL    465   65      80      140   \n",
      " 303       303                   Mawile  STEEL    380   50      85       85   \n",
      " 303.1   303.1              Mega Mawile  STEEL    520   50     105      125   \n",
      " 304       304                     Aron  STEEL    330   50      70      100   \n",
      " 305       305                   Lairon  STEEL    430   60      90      140   \n",
      " 306       306                   Aggron  STEEL    530   70     110      180   \n",
      " 306.1   306.1              Mega Aggron  STEEL    630   70     140      230   \n",
      " 306.1   306.1              Mega Aggron  STEEL    630   70     140      230   \n",
      " 374       374                   Beldum  STEEL    300   40      55       80   \n",
      " 375       375                   Metang  STEEL    420   60      75      100   \n",
      " 376       376                Metagross  STEEL    600   80     135      130   \n",
      " 379       379                Registeel  STEEL    580   80      75      150   \n",
      " 385       385                  Jirachi  STEEL    600  100     100      100   \n",
      " 395       395                 Empoleon  STEEL    530   84      86       88   \n",
      " 410       410                 Shieldon  STEEL    350   30      42      118   \n",
      " 411       411                Bastiodon  STEEL    495   60      52      168   \n",
      " 436       436                  Bronzor  STEEL    300   57      24       86   \n",
      " 437       437                 Bronzong  STEEL    500   67      89      116   \n",
      " 448       448                  Lucario  STEEL    525   70     110       70   \n",
      " 448.1   448.1             Mega Lucario  STEEL    625   70     145       88   \n",
      " 462       462                Magnezone  STEEL    535   70      70      115   \n",
      " 476       476                Probopass  STEEL    525   60      55      145   \n",
      " 483       483                   Dialga  STEEL    680  100     120      120   \n",
      " 485       485                  Heatran  STEEL    600   91      90      106   \n",
      " 530       530                Excadrill  STEEL    508  110     135       60   \n",
      " 589       589               Escavalier  STEEL    495   70     135      105   \n",
      " 597       597                Ferroseed  STEEL    305   44      50       91   \n",
      " 598       598               Ferrothorn  STEEL    489   74      94      131   \n",
      " 599       599                    Klink  STEEL    300   40      55       70   \n",
      " 600       600                    Klang  STEEL    440   60      80       95   \n",
      " 601       601                Klinklang  STEEL    520   60     100      115   \n",
      " 624       624                 Pawniard  STEEL    340   45      85       70   \n",
      " 625       625                  Bisharp  STEEL    490   65     125      100   \n",
      " 632       632                   Durant  STEEL    484   58     109      112   \n",
      " 638       638                 Cobalion  STEEL    580   91      90      129   \n",
      " 649       649                 Genesect  STEEL    600   71     120       95   \n",
      " 679       679                  Honedge  STEEL    325   45      80      100   \n",
      " 680       680                 Doublade  STEEL    448   59     110      150   \n",
      " 681       681   Aegislash- Blade Forme  STEEL    520   60     150       50   \n",
      "681.1    681.1  Aegislash- Shield Forme  STEEL    520   60      50      150   \n",
      " 707       707                   Klefki  STEEL    470   57      80       91   \n",
      "\n",
      "        Special Attack  Special Defense  Speed  攻击与特攻的差值  \n",
      "#                                                         \n",
      " 081                95               55     45       -60  \n",
      " 082               120               70     70       -60  \n",
      " 205                60               60     40        30  \n",
      " 208                55               65     30        30  \n",
      " 212                55               80     65        75  \n",
      " 212.1              65              100     75        85  \n",
      " 227                40               70     70        40  \n",
      " 303                55               55     50        30  \n",
      " 303.1              55               95     90        50  \n",
      " 304                40               40     30        30  \n",
      " 305                50               50     40        40  \n",
      " 306                60               60     50        50  \n",
      " 306.1              60               80     50        80  \n",
      " 306.1              60               80     50        80  \n",
      " 374                35               60     30        20  \n",
      " 375                55               80     50        20  \n",
      " 376                95               90     70        40  \n",
      " 379                75              150     50         0  \n",
      " 385               100              100    100         0  \n",
      " 395               111              101     60       -25  \n",
      " 410                42               88     30         0  \n",
      " 411                47              138     30         5  \n",
      " 436                24               86     23         0  \n",
      " 437                79              116     33        10  \n",
      " 448               115               70     90        -5  \n",
      " 448.1             140               70    112         5  \n",
      " 462               130               90     60       -60  \n",
      " 476                75              150     40       -20  \n",
      " 483               150              100     90       -30  \n",
      " 485               130              106     77       -40  \n",
      " 530                50               65     88        85  \n",
      " 589                60              105     20        75  \n",
      " 597                24               86     10        26  \n",
      " 598                54              116     20        40  \n",
      " 599                45               60     30        10  \n",
      " 600                70               85     50        10  \n",
      " 601                70               85     90        30  \n",
      " 624                40               40     60        45  \n",
      " 625                60               70     70        65  \n",
      " 632                48               48    109        61  \n",
      " 638                90               72    108         0  \n",
      " 649               120               95     99         0  \n",
      " 679                35               37     28        45  \n",
      " 680                45               49     35        65  \n",
      " 681               150               50     60         0  \n",
      "681.1               50              150     60         0  \n",
      " 707                80               87     75         0  \n",
      "\n",
      "WATER\n",
      "             #            Name   Type  Total  HP  Attack  Defense  \\\n",
      "#                                                                   \n",
      " 007       007        Squirtle  WATER    314  44      48       65   \n",
      " 008       008       Wartortle  WATER    405  59      63       80   \n",
      " 009       009       Blastoise  WATER    530  79      83      100   \n",
      " 009.1   009.1  Mega Blastoise  WATER    630  79     103      120   \n",
      " 009.1   009.1  Mega Blastoise  WATER    630  79     103      120   \n",
      "...        ...             ...    ...    ...  ..     ...      ...   \n",
      " 688       688         Binacle  WATER    306  42      52       67   \n",
      " 689       689      Barbaracle  WATER    500  72     105      115   \n",
      " 690       690          Skrelp  WATER    320  50      60       60   \n",
      " 692       692       Clauncher  WATER    330  50      53       62   \n",
      " 693       693       Clawitzer  WATER    500  71      73       88   \n",
      "\n",
      "        Special Attack  Special Defense  Speed  攻击与特攻的差值  \n",
      "#                                                         \n",
      " 007                50               64     43        -2  \n",
      " 008                65               80     58        -2  \n",
      " 009                85              105     78        -2  \n",
      " 009.1             135              115     78       -32  \n",
      " 009.1             135              115     78       -32  \n",
      "...                ...              ...    ...       ...  \n",
      " 688                39               56     50        13  \n",
      " 689                54               86     68        51  \n",
      " 690                60               60     30         0  \n",
      " 692                58               63     44        -5  \n",
      " 693               120               89     59       -47  \n",
      "\n",
      "[122 rows x 11 columns]\n",
      "\n"
     ]
    }
   ],
   "source": [
    "group_result = pokemon.groupby(['Type'])\n",
    "for name, group in group_result:\n",
    "    print(name)\n",
    "    print(group)\n",
    "    print()"
   ],
   "metadata": {
    "collapsed": false,
    "pycharm": {
     "name": "#%%\n"
    }
   }
  },
  {
   "cell_type": "code",
   "execution_count": 62,
   "outputs": [
    {
     "data": {
      "text/plain": "         #        Name Type  Total  HP  Attack  Defense  Special Attack  \\\n#                                                                         \n 010   010    Caterpie  BUG    195  45      30       35              20   \n 011   011     Metapod  BUG    205  50      20       55              25   \n 012   012  Butterfree  BUG    385  60      45       50              80   \n 013   013      Weedle  BUG    195  40      35       30              20   \n 014   014      Kakuna  BUG    205  45      25       50              25   \n...    ...         ...  ...    ...  ..     ...      ...             ...   \n 637   637   Volcarona  BUG    550  85      60       65             135   \n 649   649    Genesect  BUG    600  71     120       95             120   \n 664   664  Scatterbug  BUG    200  38      35       40              27   \n 665   665      Spewpa  BUG    213  45      22       60              27   \n 666   666    Vivillon  BUG    411  80      52       50              90   \n\n      Special Defense  Speed  \n#                             \n 010               20     45  \n 011               25     30  \n 012               80     70  \n 013               20     50  \n 014               25     35  \n...               ...    ...  \n 637              105    100  \n 649               95     99  \n 664               25     35  \n 665               30     29  \n 666               50     89  \n\n[71 rows x 10 columns]",
      "text/html": "<div>\n<style scoped>\n    .dataframe tbody tr th:only-of-type {\n        vertical-align: middle;\n    }\n\n    .dataframe tbody tr th {\n        vertical-align: top;\n    }\n\n    .dataframe thead th {\n        text-align: right;\n    }\n</style>\n<table border=\"1\" class=\"dataframe\">\n  <thead>\n    <tr style=\"text-align: right;\">\n      <th></th>\n      <th>#</th>\n      <th>Name</th>\n      <th>Type</th>\n      <th>Total</th>\n      <th>HP</th>\n      <th>Attack</th>\n      <th>Defense</th>\n      <th>Special Attack</th>\n      <th>Special Defense</th>\n      <th>Speed</th>\n    </tr>\n    <tr>\n      <th>#</th>\n      <th></th>\n      <th></th>\n      <th></th>\n      <th></th>\n      <th></th>\n      <th></th>\n      <th></th>\n      <th></th>\n      <th></th>\n      <th></th>\n    </tr>\n  </thead>\n  <tbody>\n    <tr>\n      <th>010</th>\n      <td>010</td>\n      <td>Caterpie</td>\n      <td>BUG</td>\n      <td>195</td>\n      <td>45</td>\n      <td>30</td>\n      <td>35</td>\n      <td>20</td>\n      <td>20</td>\n      <td>45</td>\n    </tr>\n    <tr>\n      <th>011</th>\n      <td>011</td>\n      <td>Metapod</td>\n      <td>BUG</td>\n      <td>205</td>\n      <td>50</td>\n      <td>20</td>\n      <td>55</td>\n      <td>25</td>\n      <td>25</td>\n      <td>30</td>\n    </tr>\n    <tr>\n      <th>012</th>\n      <td>012</td>\n      <td>Butterfree</td>\n      <td>BUG</td>\n      <td>385</td>\n      <td>60</td>\n      <td>45</td>\n      <td>50</td>\n      <td>80</td>\n      <td>80</td>\n      <td>70</td>\n    </tr>\n    <tr>\n      <th>013</th>\n      <td>013</td>\n      <td>Weedle</td>\n      <td>BUG</td>\n      <td>195</td>\n      <td>40</td>\n      <td>35</td>\n      <td>30</td>\n      <td>20</td>\n      <td>20</td>\n      <td>50</td>\n    </tr>\n    <tr>\n      <th>014</th>\n      <td>014</td>\n      <td>Kakuna</td>\n      <td>BUG</td>\n      <td>205</td>\n      <td>45</td>\n      <td>25</td>\n      <td>50</td>\n      <td>25</td>\n      <td>25</td>\n      <td>35</td>\n    </tr>\n    <tr>\n      <th>...</th>\n      <td>...</td>\n      <td>...</td>\n      <td>...</td>\n      <td>...</td>\n      <td>...</td>\n      <td>...</td>\n      <td>...</td>\n      <td>...</td>\n      <td>...</td>\n      <td>...</td>\n    </tr>\n    <tr>\n      <th>637</th>\n      <td>637</td>\n      <td>Volcarona</td>\n      <td>BUG</td>\n      <td>550</td>\n      <td>85</td>\n      <td>60</td>\n      <td>65</td>\n      <td>135</td>\n      <td>105</td>\n      <td>100</td>\n    </tr>\n    <tr>\n      <th>649</th>\n      <td>649</td>\n      <td>Genesect</td>\n      <td>BUG</td>\n      <td>600</td>\n      <td>71</td>\n      <td>120</td>\n      <td>95</td>\n      <td>120</td>\n      <td>95</td>\n      <td>99</td>\n    </tr>\n    <tr>\n      <th>664</th>\n      <td>664</td>\n      <td>Scatterbug</td>\n      <td>BUG</td>\n      <td>200</td>\n      <td>38</td>\n      <td>35</td>\n      <td>40</td>\n      <td>27</td>\n      <td>25</td>\n      <td>35</td>\n    </tr>\n    <tr>\n      <th>665</th>\n      <td>665</td>\n      <td>Spewpa</td>\n      <td>BUG</td>\n      <td>213</td>\n      <td>45</td>\n      <td>22</td>\n      <td>60</td>\n      <td>27</td>\n      <td>30</td>\n      <td>29</td>\n    </tr>\n    <tr>\n      <th>666</th>\n      <td>666</td>\n      <td>Vivillon</td>\n      <td>BUG</td>\n      <td>411</td>\n      <td>80</td>\n      <td>52</td>\n      <td>50</td>\n      <td>90</td>\n      <td>50</td>\n      <td>89</td>\n    </tr>\n  </tbody>\n</table>\n<p>71 rows × 10 columns</p>\n</div>"
     },
     "execution_count": 62,
     "metadata": {},
     "output_type": "execute_result"
    }
   ],
   "source": [
    "group_result.get_group('BUG')"
   ],
   "metadata": {
    "collapsed": false,
    "pycharm": {
     "name": "#%%\n"
    }
   }
  },
  {
   "cell_type": "code",
   "execution_count": 7,
   "outputs": [
    {
     "data": {
      "text/plain": "<AxesSubplot:xlabel='#'>"
     },
     "execution_count": 7,
     "metadata": {},
     "output_type": "execute_result"
    },
    {
     "name": "stderr",
     "output_type": "stream",
     "text": [
      "F:\\AIAbnou\\ANACONDA\\envs\\pytorch\\lib\\site-packages\\matplotlib\\backends\\backend_agg.py:238: RuntimeWarning: Glyph 25915 missing from current font.\n",
      "  font.set_text(s, 0.0, flags=flags)\n",
      "F:\\AIAbnou\\ANACONDA\\envs\\pytorch\\lib\\site-packages\\matplotlib\\backends\\backend_agg.py:238: RuntimeWarning: Glyph 20987 missing from current font.\n",
      "  font.set_text(s, 0.0, flags=flags)\n",
      "F:\\AIAbnou\\ANACONDA\\envs\\pytorch\\lib\\site-packages\\matplotlib\\backends\\backend_agg.py:238: RuntimeWarning: Glyph 19982 missing from current font.\n",
      "  font.set_text(s, 0.0, flags=flags)\n",
      "F:\\AIAbnou\\ANACONDA\\envs\\pytorch\\lib\\site-packages\\matplotlib\\backends\\backend_agg.py:238: RuntimeWarning: Glyph 29305 missing from current font.\n",
      "  font.set_text(s, 0.0, flags=flags)\n",
      "F:\\AIAbnou\\ANACONDA\\envs\\pytorch\\lib\\site-packages\\matplotlib\\backends\\backend_agg.py:238: RuntimeWarning: Glyph 30340 missing from current font.\n",
      "  font.set_text(s, 0.0, flags=flags)\n",
      "F:\\AIAbnou\\ANACONDA\\envs\\pytorch\\lib\\site-packages\\matplotlib\\backends\\backend_agg.py:238: RuntimeWarning: Glyph 24046 missing from current font.\n",
      "  font.set_text(s, 0.0, flags=flags)\n",
      "F:\\AIAbnou\\ANACONDA\\envs\\pytorch\\lib\\site-packages\\matplotlib\\backends\\backend_agg.py:238: RuntimeWarning: Glyph 20540 missing from current font.\n",
      "  font.set_text(s, 0.0, flags=flags)\n",
      "F:\\AIAbnou\\ANACONDA\\envs\\pytorch\\lib\\site-packages\\matplotlib\\backends\\backend_agg.py:201: RuntimeWarning: Glyph 25915 missing from current font.\n",
      "  font.set_text(s, 0, flags=flags)\n",
      "F:\\AIAbnou\\ANACONDA\\envs\\pytorch\\lib\\site-packages\\matplotlib\\backends\\backend_agg.py:201: RuntimeWarning: Glyph 20987 missing from current font.\n",
      "  font.set_text(s, 0, flags=flags)\n",
      "F:\\AIAbnou\\ANACONDA\\envs\\pytorch\\lib\\site-packages\\matplotlib\\backends\\backend_agg.py:201: RuntimeWarning: Glyph 19982 missing from current font.\n",
      "  font.set_text(s, 0, flags=flags)\n",
      "F:\\AIAbnou\\ANACONDA\\envs\\pytorch\\lib\\site-packages\\matplotlib\\backends\\backend_agg.py:201: RuntimeWarning: Glyph 29305 missing from current font.\n",
      "  font.set_text(s, 0, flags=flags)\n",
      "F:\\AIAbnou\\ANACONDA\\envs\\pytorch\\lib\\site-packages\\matplotlib\\backends\\backend_agg.py:201: RuntimeWarning: Glyph 30340 missing from current font.\n",
      "  font.set_text(s, 0, flags=flags)\n",
      "F:\\AIAbnou\\ANACONDA\\envs\\pytorch\\lib\\site-packages\\matplotlib\\backends\\backend_agg.py:201: RuntimeWarning: Glyph 24046 missing from current font.\n",
      "  font.set_text(s, 0, flags=flags)\n",
      "F:\\AIAbnou\\ANACONDA\\envs\\pytorch\\lib\\site-packages\\matplotlib\\backends\\backend_agg.py:201: RuntimeWarning: Glyph 20540 missing from current font.\n",
      "  font.set_text(s, 0, flags=flags)\n"
     ]
    },
    {
     "data": {
      "text/plain": "<Figure size 432x288 with 1 Axes>",
      "image/png": "[encoded data removed]"
     },
     "metadata": {},
     "output_type": "display_data"
    }
   ],
   "source": [
    "group_result.get_group('BUG').plot()"
   ],
   "metadata": {
    "collapsed": false,
    "pycharm": {
     "name": "#%%\n"
    }
   }
  },
  {
   "cell_type": "code",
   "execution_count": 8,
   "outputs": [],
   "source": [
    "# 最大显示行数\n",
    "pd.set_option('display.max_rows', 100000)\n",
    "# 最大显示列数\n",
    "pd.set_option('display.max_columns', 1000)\n",
    "# 自动对齐\n",
    "pd.set_option('display.unicode.east_asian_width', True)"
   ],
   "metadata": {
    "collapsed": false,
    "pycharm": {
     "name": "#%%\n"
    }
   }
  },
  {
   "cell_type": "markdown",
   "source": [
    "query查询"
   ],
   "metadata": {
    "collapsed": false
   }
  },
  {
   "cell_type": "code",
   "execution_count": 3,
   "outputs": [
    {
     "data": {
      "text/plain": "         #       Name    Type  Total   HP  Attack  Defense  Special Attack  \\\n#                                                                            \n 018   018    Pidgeot  NORMAL    469   83      80       75              70   \n 018   018    Pidgeot  FLYING    469   83      80       75              70   \n 031   031  Nidoqueen  POISON    495   90      82       87              75   \n 031   031  Nidoqueen  GROUND    495   90      82       87              75   \n 034   034   Nidoking  POISON    495   81      92       77              85   \n...    ...        ...     ...    ...  ...     ...      ...             ...   \n 716   716    Xerneas   FAIRY    680  126     131       95             131   \n 717   717    Yveltal    DARK    680  126     131       95             131   \n 717   717    Yveltal  FLYING    680  126     131       95             131   \n 718   718    Zygarde  DRAGON    600  108     100      121              81   \n 718   718    Zygarde  GROUND    600  108     100      121              81   \n\n      Special Defense  Speed  \n#                             \n 018               70     91  \n 018               70     91  \n 031               85     76  \n 031               85     76  \n 034               75     85  \n...               ...    ...  \n 716               98     99  \n 717               98     99  \n 717               98     99  \n 718               95     95  \n 718               95     95  \n\n[296 rows x 10 columns]",
      "text/html": "<div>\n<style scoped>\n    .dataframe tbody tr th:only-of-type {\n        vertical-align: middle;\n    }\n\n    .dataframe tbody tr th {\n        vertical-align: top;\n    }\n\n    .dataframe thead th {\n        text-align: right;\n    }\n</style>\n<table border=\"1\" class=\"dataframe\">\n  <thead>\n    <tr style=\"text-align: right;\">\n      <th></th>\n      <th>#</th>\n      <th>Name</th>\n      <th>Type</th>\n      <th>Total</th>\n      <th>HP</th>\n      <th>Attack</th>\n      <th>Defense</th>\n      <th>Special Attack</th>\n      <th>Special Defense</th>\n      <th>Speed</th>\n    </tr>\n    <tr>\n      <th>#</th>\n      <th></th>\n      <th></th>\n      <th></th>\n      <th></th>\n      <th></th>\n      <th></th>\n      <th></th>\n      <th></th>\n      <th></th>\n      <th></th>\n    </tr>\n  </thead>\n  <tbody>\n    <tr>\n      <th>018</th>\n      <td>018</td>\n      <td>Pidgeot</td>\n      <td>NORMAL</td>\n      <td>469</td>\n      <td>83</td>\n      <td>80</td>\n      <td>75</td>\n      <td>70</td>\n      <td>70</td>\n      <td>91</td>\n    </tr>\n    <tr>\n      <th>018</th>\n      <td>018</td>\n      <td>Pidgeot</td>\n      <td>FLYING</td>\n      <td>469</td>\n      <td>83</td>\n      <td>80</td>\n      <td>75</td>\n      <td>70</td>\n      <td>70</td>\n      <td>91</td>\n    </tr>\n    <tr>\n      <th>031</th>\n      <td>031</td>\n      <td>Nidoqueen</td>\n      <td>POISON</td>\n      <td>495</td>\n      <td>90</td>\n      <td>82</td>\n      <td>87</td>\n      <td>75</td>\n      <td>85</td>\n      <td>76</td>\n    </tr>\n    <tr>\n      <th>031</th>\n      <td>031</td>\n      <td>Nidoqueen</td>\n      <td>GROUND</td>\n      <td>495</td>\n      <td>90</td>\n      <td>82</td>\n      <td>87</td>\n      <td>75</td>\n      <td>85</td>\n      <td>76</td>\n    </tr>\n    <tr>\n      <th>034</th>\n      <td>034</td>\n      <td>Nidoking</td>\n      <td>POISON</td>\n      <td>495</td>\n      <td>81</td>\n      <td>92</td>\n      <td>77</td>\n      <td>85</td>\n      <td>75</td>\n      <td>85</td>\n    </tr>\n    <tr>\n      <th>...</th>\n      <td>...</td>\n      <td>...</td>\n      <td>...</td>\n      <td>...</td>\n      <td>...</td>\n      <td>...</td>\n      <td>...</td>\n      <td>...</td>\n      <td>...</td>\n      <td>...</td>\n    </tr>\n    <tr>\n      <th>716</th>\n      <td>716</td>\n      <td>Xerneas</td>\n      <td>FAIRY</td>\n      <td>680</td>\n      <td>126</td>\n      <td>131</td>\n      <td>95</td>\n      <td>131</td>\n      <td>98</td>\n      <td>99</td>\n    </tr>\n    <tr>\n      <th>717</th>\n      <td>717</td>\n      <td>Yveltal</td>\n      <td>DARK</td>\n      <td>680</td>\n      <td>126</td>\n      <td>131</td>\n      <td>95</td>\n      <td>131</td>\n      <td>98</td>\n      <td>99</td>\n    </tr>\n    <tr>\n      <th>717</th>\n      <td>717</td>\n      <td>Yveltal</td>\n      <td>FLYING</td>\n      <td>680</td>\n      <td>126</td>\n      <td>131</td>\n      <td>95</td>\n      <td>131</td>\n      <td>98</td>\n      <td>99</td>\n    </tr>\n    <tr>\n      <th>718</th>\n      <td>718</td>\n      <td>Zygarde</td>\n      <td>DRAGON</td>\n      <td>600</td>\n      <td>108</td>\n      <td>100</td>\n      <td>121</td>\n      <td>81</td>\n      <td>95</td>\n      <td>95</td>\n    </tr>\n    <tr>\n      <th>718</th>\n      <td>718</td>\n      <td>Zygarde</td>\n      <td>GROUND</td>\n      <td>600</td>\n      <td>108</td>\n      <td>100</td>\n      <td>121</td>\n      <td>81</td>\n      <td>95</td>\n      <td>95</td>\n    </tr>\n  </tbody>\n</table>\n<p>296 rows × 10 columns</p>\n</div>"
     },
     "execution_count": 3,
     "metadata": {},
     "output_type": "execute_result"
    }
   ],
   "source": [
    "HPdf = pokemon.query(\"HP > 80\", inplace = False)\n",
    "HPdf"
   ],
   "metadata": {
    "collapsed": false,
    "pycharm": {
     "name": "#%%\n"
    }
   }
  },
  {
   "cell_type": "code",
   "execution_count": null,
   "outputs": [],
   "source": [],
   "metadata": {
    "collapsed": false,
    "pycharm": {
     "name": "#%%\n"
    }
   }
  }
 ],
 "metadata": {
  "kernelspec": {
   "display_name": "Python 3",
   "language": "python",
   "name": "python3"
  },
  "language_info": {
   "codemirror_mode": {
    "name": "ipython",
    "version": 2
   },
   "file_extension": ".py",
   "mimetype": "text/x-python",
   "name": "python",
   "nbconvert_exporter": "python",
   "pygments_lexer": "ipython2",
   "version": "2.7.6"
  }
 },
 "nbformat": 4,
 "nbformat_minor": 0
}