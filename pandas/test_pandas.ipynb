{
 "cells": [
  {
   "cell_type": "code",
   "execution_count": 1,
   "metadata": {
    "collapsed": true
   },
   "outputs": [],
   "source": [
    "import pandas as pd\n",
    "import numpy as np"
   ]
  },
  {
   "cell_type": "code",
   "execution_count": 2,
   "outputs": [
    {
     "data": {
      "text/plain": "   id                                  info_link  \\\n0   1  https://movie.douban.com/subject/1292052/   \n1   2  https://movie.douban.com/subject/1291546/   \n2   3  https://movie.douban.com/subject/1292720/   \n3   4  https://movie.douban.com/subject/1292722/   \n4   5  https://movie.douban.com/subject/1295644/   \n\n                                            pic_link    cname  \\\n0  https://img2.doubanio.com/view/photo/s_ratio_p...   肖申克的救赎   \n1  https://img3.doubanio.com/view/photo/s_ratio_p...     霸王别姬   \n2  https://img2.doubanio.com/view/photo/s_ratio_p...     阿甘正传   \n3  https://img9.doubanio.com/view/photo/s_ratio_p...    泰坦尼克号   \n4  https://img2.doubanio.com/view/photo/s_ratio_p...  这个杀手不太冷   \n\n                        ename  score    rated           instr  \\\n0    The Shawshank Redemption    9.7  2598133          希望让人自由   \n1                                9.6  1929614            风华绝代   \n2                Forrest Gump    9.5  1952565        一部美国近现代史   \n3                     Titanic    9.4  1913757       失去的才是永恒的    \n4                        Léon    9.4  2106540  怪蜀黍和小萝莉不得不说的故事   \n\n                                                info  \n0  导演: 弗兰克·德拉邦特 Frank Darabont   主演: 蒂姆·罗宾斯 Tim R...  \n1  导演: 陈凯歌 Kaige Chen   主演: 张国荣 Leslie Cheung   张...  \n2  导演: 罗伯特·泽米吉斯 Robert Zemeckis   主演: 汤姆·汉克斯 Tom ...  \n3  导演: 詹姆斯·卡梅隆 James Cameron   主演: 莱昂纳多·迪卡普里奥 Leo...  \n4  导演: 吕克·贝松 Luc Besson   主演: 让·雷诺 Jean Reno   娜塔...  ",
      "text/html": "<div>\n<style scoped>\n    .dataframe tbody tr th:only-of-type {\n        vertical-align: middle;\n    }\n\n    .dataframe tbody tr th {\n        vertical-align: top;\n    }\n\n    .dataframe thead th {\n        text-align: right;\n    }\n</style>\n<table border=\"1\" class=\"dataframe\">\n  <thead>\n    <tr style=\"text-align: right;\">\n      <th></th>\n      <th>id</th>\n      <th>info_link</th>\n      <th>pic_link</th>\n      <th>cname</th>\n      <th>ename</th>\n      <th>score</th>\n      <th>rated</th>\n      <th>instr</th>\n      <th>info</th>\n    </tr>\n  </thead>\n  <tbody>\n    <tr>\n      <th>0</th>\n      <td>1</td>\n      <td>https://movie.douban.com/subject/1292052/</td>\n      <td>https://img2.doubanio.com/view/photo/s_ratio_p...</td>\n      <td>肖申克的救赎</td>\n      <td>The Shawshank Redemption</td>\n      <td>9.7</td>\n      <td>2598133</td>\n      <td>希望让人自由</td>\n      <td>导演: 弗兰克·德拉邦特 Frank Darabont   主演: 蒂姆·罗宾斯 Tim R...</td>\n    </tr>\n    <tr>\n      <th>1</th>\n      <td>2</td>\n      <td>https://movie.douban.com/subject/1291546/</td>\n      <td>https://img3.doubanio.com/view/photo/s_ratio_p...</td>\n      <td>霸王别姬</td>\n      <td></td>\n      <td>9.6</td>\n      <td>1929614</td>\n      <td>风华绝代</td>\n      <td>导演: 陈凯歌 Kaige Chen   主演: 张国荣 Leslie Cheung   张...</td>\n    </tr>\n    <tr>\n      <th>2</th>\n      <td>3</td>\n      <td>https://movie.douban.com/subject/1292720/</td>\n      <td>https://img2.doubanio.com/view/photo/s_ratio_p...</td>\n      <td>阿甘正传</td>\n      <td>Forrest Gump</td>\n      <td>9.5</td>\n      <td>1952565</td>\n      <td>一部美国近现代史</td>\n      <td>导演: 罗伯特·泽米吉斯 Robert Zemeckis   主演: 汤姆·汉克斯 Tom ...</td>\n    </tr>\n    <tr>\n      <th>3</th>\n      <td>4</td>\n      <td>https://movie.douban.com/subject/1292722/</td>\n      <td>https://img9.doubanio.com/view/photo/s_ratio_p...</td>\n      <td>泰坦尼克号</td>\n      <td>Titanic</td>\n      <td>9.4</td>\n      <td>1913757</td>\n      <td>失去的才是永恒的</td>\n      <td>导演: 詹姆斯·卡梅隆 James Cameron   主演: 莱昂纳多·迪卡普里奥 Leo...</td>\n    </tr>\n    <tr>\n      <th>4</th>\n      <td>5</td>\n      <td>https://movie.douban.com/subject/1295644/</td>\n      <td>https://img2.doubanio.com/view/photo/s_ratio_p...</td>\n      <td>这个杀手不太冷</td>\n      <td>Léon</td>\n      <td>9.4</td>\n      <td>2106540</td>\n      <td>怪蜀黍和小萝莉不得不说的故事</td>\n      <td>导演: 吕克·贝松 Luc Besson   主演: 让·雷诺 Jean Reno   娜塔...</td>\n    </tr>\n  </tbody>\n</table>\n</div>"
     },
     "execution_count": 2,
     "metadata": {},
     "output_type": "execute_result"
    }
   ],
   "source": [
    "import sqlite3\n",
    "\n",
    "conn = sqlite3.connect('movie.db')\n",
    "db_data = pd.read_sql_query(\"select * from movie250\", conn)\n",
    "db_data.head()"
   ],
   "metadata": {
    "collapsed": false,
    "pycharm": {
     "name": "#%%\n"
    }
   }
  },
  {
   "cell_type": "code",
   "execution_count": 4,
   "outputs": [],
   "source": [
    "datas = pd.read_csv('HollywoodsMostProfitableStories.csv')"
   ],
   "metadata": {
    "collapsed": false,
    "pycharm": {
     "name": "#%%\n"
    }
   }
  },
  {
   "cell_type": "code",
   "execution_count": 7,
   "outputs": [
    {
     "data": {
      "text/plain": "Index(['Film', 'Genre', 'Lead Studio', 'Audience  score %', 'Profitability',\n       'Rotten Tomatoes %', 'Worldwide Gross'],\n      dtype='object')"
     },
     "execution_count": 7,
     "metadata": {},
     "output_type": "execute_result"
    }
   ],
   "source": [
    "datas.columns"
   ],
   "metadata": {
    "collapsed": false,
    "pycharm": {
     "name": "#%%\n"
    }
   }
  },
  {
   "cell_type": "code",
   "execution_count": 5,
   "outputs": [
    {
     "data": {
      "text/plain": "                   Film    Genre  Lead Studio  Audience  score %  \\\n0            27 Dresses   Comedy          Fox               71.0   \n1  (500) Days of Summer   Comedy          Fox               81.0   \n2    A Dangerous Method    Drama  Independent               89.0   \n3         A Serious Man    Drama    Universal               64.0   \n4   Across the Universe  Romance  Independent               84.0   \n\n   Profitability  Rotten Tomatoes %  Worldwide Gross  Year  \n0       5.343622               40.0       160.308654  2008  \n1       8.096000               87.0        60.720000  2009  \n2       0.448645               79.0         8.972895  2011  \n3       4.382857               89.0        30.680000  2009  \n4       0.652603               54.0        29.367143  2007  ",
      "text/html": "<div>\n<style scoped>\n    .dataframe tbody tr th:only-of-type {\n        vertical-align: middle;\n    }\n\n    .dataframe tbody tr th {\n        vertical-align: top;\n    }\n\n    .dataframe thead th {\n        text-align: right;\n    }\n</style>\n<table border=\"1\" class=\"dataframe\">\n  <thead>\n    <tr style=\"text-align: right;\">\n      <th></th>\n      <th>Film</th>\n      <th>Genre</th>\n      <th>Lead Studio</th>\n      <th>Audience  score %</th>\n      <th>Profitability</th>\n      <th>Rotten Tomatoes %</th>\n      <th>Worldwide Gross</th>\n      <th>Year</th>\n    </tr>\n  </thead>\n  <tbody>\n    <tr>\n      <th>0</th>\n      <td>27 Dresses</td>\n      <td>Comedy</td>\n      <td>Fox</td>\n      <td>71.0</td>\n      <td>5.343622</td>\n      <td>40.0</td>\n      <td>160.308654</td>\n      <td>2008</td>\n    </tr>\n    <tr>\n      <th>1</th>\n      <td>(500) Days of Summer</td>\n      <td>Comedy</td>\n      <td>Fox</td>\n      <td>81.0</td>\n      <td>8.096000</td>\n      <td>87.0</td>\n      <td>60.720000</td>\n      <td>2009</td>\n    </tr>\n    <tr>\n      <th>2</th>\n      <td>A Dangerous Method</td>\n      <td>Drama</td>\n      <td>Independent</td>\n      <td>89.0</td>\n      <td>0.448645</td>\n      <td>79.0</td>\n      <td>8.972895</td>\n      <td>2011</td>\n    </tr>\n    <tr>\n      <th>3</th>\n      <td>A Serious Man</td>\n      <td>Drama</td>\n      <td>Universal</td>\n      <td>64.0</td>\n      <td>4.382857</td>\n      <td>89.0</td>\n      <td>30.680000</td>\n      <td>2009</td>\n    </tr>\n    <tr>\n      <th>4</th>\n      <td>Across the Universe</td>\n      <td>Romance</td>\n      <td>Independent</td>\n      <td>84.0</td>\n      <td>0.652603</td>\n      <td>54.0</td>\n      <td>29.367143</td>\n      <td>2007</td>\n    </tr>\n  </tbody>\n</table>\n</div>"
     },
     "execution_count": 5,
     "metadata": {},
     "output_type": "execute_result"
    }
   ],
   "source": [
    "datas.head()"
   ],
   "metadata": {
    "collapsed": false,
    "pycharm": {
     "name": "#%%\n"
    }
   }
  },
  {
   "cell_type": "markdown",
   "source": [
    "# 查询相关"
   ],
   "metadata": {
    "collapsed": false
   }
  },
  {
   "cell_type": "code",
   "execution_count": 6,
   "outputs": [],
   "source": [
    "datas.set_index('Year', inplace=True)"
   ],
   "metadata": {
    "collapsed": false,
    "pycharm": {
     "name": "#%%\n"
    }
   }
  },
  {
   "cell_type": "code",
   "execution_count": 10,
   "outputs": [
    {
     "data": {
      "text/plain": "                   Film      Genre Lead Studio  Audience  score %  \\\nYear                                                                \n2007          Enchanted     Comedy      Disney               80.0   \n2007         Knocked Up     Comedy   Universal               83.0   \n2011  Midnight in Paris    Romance        Sony               84.0   \n2008             WALL-E  Animation      Disney               89.0   \n\n      Profitability  Rotten Tomatoes %  Worldwide Gross  \nYear                                                     \n2007       4.005737               93.0       340.487652  \n2007       6.636402               91.0       219.001261  \n2011       8.744706               93.0       148.660000  \n2008       2.896019               96.0       521.283432  ",
      "text/html": "<div>\n<style scoped>\n    .dataframe tbody tr th:only-of-type {\n        vertical-align: middle;\n    }\n\n    .dataframe tbody tr th {\n        vertical-align: top;\n    }\n\n    .dataframe thead th {\n        text-align: right;\n    }\n</style>\n<table border=\"1\" class=\"dataframe\">\n  <thead>\n    <tr style=\"text-align: right;\">\n      <th></th>\n      <th>Film</th>\n      <th>Genre</th>\n      <th>Lead Studio</th>\n      <th>Audience  score %</th>\n      <th>Profitability</th>\n      <th>Rotten Tomatoes %</th>\n      <th>Worldwide Gross</th>\n    </tr>\n    <tr>\n      <th>Year</th>\n      <th></th>\n      <th></th>\n      <th></th>\n      <th></th>\n      <th></th>\n      <th></th>\n      <th></th>\n    </tr>\n  </thead>\n  <tbody>\n    <tr>\n      <th>2007</th>\n      <td>Enchanted</td>\n      <td>Comedy</td>\n      <td>Disney</td>\n      <td>80.0</td>\n      <td>4.005737</td>\n      <td>93.0</td>\n      <td>340.487652</td>\n    </tr>\n    <tr>\n      <th>2007</th>\n      <td>Knocked Up</td>\n      <td>Comedy</td>\n      <td>Universal</td>\n      <td>83.0</td>\n      <td>6.636402</td>\n      <td>91.0</td>\n      <td>219.001261</td>\n    </tr>\n    <tr>\n      <th>2011</th>\n      <td>Midnight in Paris</td>\n      <td>Romance</td>\n      <td>Sony</td>\n      <td>84.0</td>\n      <td>8.744706</td>\n      <td>93.0</td>\n      <td>148.660000</td>\n    </tr>\n    <tr>\n      <th>2008</th>\n      <td>WALL-E</td>\n      <td>Animation</td>\n      <td>Disney</td>\n      <td>89.0</td>\n      <td>2.896019</td>\n      <td>96.0</td>\n      <td>521.283432</td>\n    </tr>\n  </tbody>\n</table>\n</div>"
     },
     "execution_count": 10,
     "metadata": {},
     "output_type": "execute_result"
    }
   ],
   "source": [
    "datas.loc[ (datas['Audience  score %']>=80) & (datas['Rotten Tomatoes %']>=90) , :]"
   ],
   "metadata": {
    "collapsed": false,
    "pycharm": {
     "name": "#%%\n"
    }
   }
  },
  {
   "cell_type": "code",
   "execution_count": 11,
   "outputs": [
    {
     "data": {
      "text/plain": "                                     Film    Genre   Lead Studio  \\\nYear                                                               \n2011                   A Dangerous Method    Drama   Independent   \n2007                  Across the Universe  Romance   Independent   \n2007                      P.S. I Love You  Romance   Independent   \n2008                     Sex and the City   Comedy  Warner Bros.   \n2008  The Curious Case of Benjamin Button  Fantasy  Warner Bros.   \n2008                             Twilight  Romance        Summit   \n\n      Audience  score %  Profitability  Rotten Tomatoes %  Worldwide Gross  \nYear                                                                        \n2011               89.0       0.448645               79.0         8.972895  \n2007               84.0       0.652603               54.0        29.367143  \n2007               82.0       5.103117               21.0       153.093505  \n2008               81.0       7.221796               49.0       415.253258  \n2008               81.0       1.783944               73.0       285.431000  \n2008               82.0      10.180027               49.0       376.661000  ",
      "text/html": "<div>\n<style scoped>\n    .dataframe tbody tr th:only-of-type {\n        vertical-align: middle;\n    }\n\n    .dataframe tbody tr th {\n        vertical-align: top;\n    }\n\n    .dataframe thead th {\n        text-align: right;\n    }\n</style>\n<table border=\"1\" class=\"dataframe\">\n  <thead>\n    <tr style=\"text-align: right;\">\n      <th></th>\n      <th>Film</th>\n      <th>Genre</th>\n      <th>Lead Studio</th>\n      <th>Audience  score %</th>\n      <th>Profitability</th>\n      <th>Rotten Tomatoes %</th>\n      <th>Worldwide Gross</th>\n    </tr>\n    <tr>\n      <th>Year</th>\n      <th></th>\n      <th></th>\n      <th></th>\n      <th></th>\n      <th></th>\n      <th></th>\n      <th></th>\n    </tr>\n  </thead>\n  <tbody>\n    <tr>\n      <th>2011</th>\n      <td>A Dangerous Method</td>\n      <td>Drama</td>\n      <td>Independent</td>\n      <td>89.0</td>\n      <td>0.448645</td>\n      <td>79.0</td>\n      <td>8.972895</td>\n    </tr>\n    <tr>\n      <th>2007</th>\n      <td>Across the Universe</td>\n      <td>Romance</td>\n      <td>Independent</td>\n      <td>84.0</td>\n      <td>0.652603</td>\n      <td>54.0</td>\n      <td>29.367143</td>\n    </tr>\n    <tr>\n      <th>2007</th>\n      <td>P.S. I Love You</td>\n      <td>Romance</td>\n      <td>Independent</td>\n      <td>82.0</td>\n      <td>5.103117</td>\n      <td>21.0</td>\n      <td>153.093505</td>\n    </tr>\n    <tr>\n      <th>2008</th>\n      <td>Sex and the City</td>\n      <td>Comedy</td>\n      <td>Warner Bros.</td>\n      <td>81.0</td>\n      <td>7.221796</td>\n      <td>49.0</td>\n      <td>415.253258</td>\n    </tr>\n    <tr>\n      <th>2008</th>\n      <td>The Curious Case of Benjamin Button</td>\n      <td>Fantasy</td>\n      <td>Warner Bros.</td>\n      <td>81.0</td>\n      <td>1.783944</td>\n      <td>73.0</td>\n      <td>285.431000</td>\n    </tr>\n    <tr>\n      <th>2008</th>\n      <td>Twilight</td>\n      <td>Romance</td>\n      <td>Summit</td>\n      <td>82.0</td>\n      <td>10.180027</td>\n      <td>49.0</td>\n      <td>376.661000</td>\n    </tr>\n  </tbody>\n</table>\n</div>"
     },
     "execution_count": 11,
     "metadata": {},
     "output_type": "execute_result"
    }
   ],
   "source": [
    "datas.loc[lambda df:(datas['Audience  score %']>=80) & (datas['Rotten Tomatoes %']<=80) , :]"
   ],
   "metadata": {
    "collapsed": false,
    "pycharm": {
     "name": "#%%\n"
    }
   }
  },
  {
   "cell_type": "markdown",
   "source": [
    "# 新增数据列的方式"
   ],
   "metadata": {
    "collapsed": false
   }
  },
  {
   "cell_type": "code",
   "execution_count": 17,
   "outputs": [
    {
     "data": {
      "text/plain": "Film                  object\nGenre                 object\nLead Studio           object\nAudience  score %    float64\nProfitability        float64\nRotten Tomatoes %    float64\nWorldwide Gross      float64\ndtype: object"
     },
     "execution_count": 17,
     "metadata": {},
     "output_type": "execute_result"
    }
   ],
   "source": [
    "datas.dtypes"
   ],
   "metadata": {
    "collapsed": false,
    "pycharm": {
     "name": "#%%\n"
    }
   }
  },
  {
   "cell_type": "code",
   "execution_count": 33,
   "outputs": [
    {
     "data": {
      "text/plain": "                    Film    Genre  Lead Studio  Audience  score %  \\\nYear                                                                \n2011  Something Borrowed  Romance  Independent                  0   \n\n      Profitability  Rotten Tomatoes %  Worldwide Gross  分差  \nYear                                                         \n2011       1.719514                  0           60.183   0  ",
      "text/html": "<div>\n<style scoped>\n    .dataframe tbody tr th:only-of-type {\n        vertical-align: middle;\n    }\n\n    .dataframe tbody tr th {\n        vertical-align: top;\n    }\n\n    .dataframe thead th {\n        text-align: right;\n    }\n</style>\n<table border=\"1\" class=\"dataframe\">\n  <thead>\n    <tr style=\"text-align: right;\">\n      <th></th>\n      <th>Film</th>\n      <th>Genre</th>\n      <th>Lead Studio</th>\n      <th>Audience  score %</th>\n      <th>Profitability</th>\n      <th>Rotten Tomatoes %</th>\n      <th>Worldwide Gross</th>\n      <th>分差</th>\n    </tr>\n    <tr>\n      <th>Year</th>\n      <th></th>\n      <th></th>\n      <th></th>\n      <th></th>\n      <th></th>\n      <th></th>\n      <th></th>\n      <th></th>\n    </tr>\n  </thead>\n  <tbody>\n    <tr>\n      <th>2011</th>\n      <td>Something Borrowed</td>\n      <td>Romance</td>\n      <td>Independent</td>\n      <td>0</td>\n      <td>1.719514</td>\n      <td>0</td>\n      <td>60.183</td>\n      <td>0</td>\n    </tr>\n  </tbody>\n</table>\n</div>"
     },
     "execution_count": 33,
     "metadata": {},
     "output_type": "execute_result"
    }
   ],
   "source": [
    "datas.loc[datas['Film'] == 'Something Borrowed']"
   ],
   "metadata": {
    "collapsed": false,
    "pycharm": {
     "name": "#%%\n"
    }
   }
  },
  {
   "cell_type": "code",
   "execution_count": 26,
   "outputs": [],
   "source": [
    "datas.loc[datas['Film']=='Something Borrowed', ['Audience  score %', 'Rotten Tomatoes %']] = [0, 0]"
   ],
   "metadata": {
    "collapsed": false,
    "pycharm": {
     "name": "#%%\n"
    }
   }
  },
  {
   "cell_type": "code",
   "execution_count": 30,
   "outputs": [
    {
     "data": {
      "text/plain": "Film                  object\nGenre                 object\nLead Studio           object\nAudience  score %      int32\nProfitability        float64\nRotten Tomatoes %      int32\nWorldwide Gross      float64\ndtype: object"
     },
     "execution_count": 30,
     "metadata": {},
     "output_type": "execute_result"
    }
   ],
   "source": [
    "datas.loc[:, 'Audience  score %'] = datas['Audience  score %'].astype('int32')\n",
    "datas.loc[:, 'Rotten Tomatoes %'] = datas['Rotten Tomatoes %'].astype('int32')\n",
    "datas.dtypes"
   ],
   "metadata": {
    "collapsed": false,
    "pycharm": {
     "name": "#%%\n"
    }
   }
  },
  {
   "cell_type": "code",
   "execution_count": 32,
   "outputs": [
    {
     "data": {
      "text/plain": "                      Film    Genre  Lead Studio  Audience  score %  \\\nYear                                                                  \n2008            27 Dresses   Comedy          Fox                 71   \n2009  (500) Days of Summer   Comedy          Fox                 81   \n2011    A Dangerous Method    Drama  Independent                 89   \n2009         A Serious Man    Drama    Universal                 64   \n2007   Across the Universe  Romance  Independent                 84   \n\n      Profitability  Rotten Tomatoes %  Worldwide Gross  分差  \nYear                                                         \n2008       5.343622                 40       160.308654  31  \n2009       8.096000                 87        60.720000  -6  \n2011       0.448645                 79         8.972895  10  \n2009       4.382857                 89        30.680000 -25  \n2007       0.652603                 54        29.367143  30  ",
      "text/html": "<div>\n<style scoped>\n    .dataframe tbody tr th:only-of-type {\n        vertical-align: middle;\n    }\n\n    .dataframe tbody tr th {\n        vertical-align: top;\n    }\n\n    .dataframe thead th {\n        text-align: right;\n    }\n</style>\n<table border=\"1\" class=\"dataframe\">\n  <thead>\n    <tr style=\"text-align: right;\">\n      <th></th>\n      <th>Film</th>\n      <th>Genre</th>\n      <th>Lead Studio</th>\n      <th>Audience  score %</th>\n      <th>Profitability</th>\n      <th>Rotten Tomatoes %</th>\n      <th>Worldwide Gross</th>\n      <th>分差</th>\n    </tr>\n    <tr>\n      <th>Year</th>\n      <th></th>\n      <th></th>\n      <th></th>\n      <th></th>\n      <th></th>\n      <th></th>\n      <th></th>\n      <th></th>\n    </tr>\n  </thead>\n  <tbody>\n    <tr>\n      <th>2008</th>\n      <td>27 Dresses</td>\n      <td>Comedy</td>\n      <td>Fox</td>\n      <td>71</td>\n      <td>5.343622</td>\n      <td>40</td>\n      <td>160.308654</td>\n      <td>31</td>\n    </tr>\n    <tr>\n      <th>2009</th>\n      <td>(500) Days of Summer</td>\n      <td>Comedy</td>\n      <td>Fox</td>\n      <td>81</td>\n      <td>8.096000</td>\n      <td>87</td>\n      <td>60.720000</td>\n      <td>-6</td>\n    </tr>\n    <tr>\n      <th>2011</th>\n      <td>A Dangerous Method</td>\n      <td>Drama</td>\n      <td>Independent</td>\n      <td>89</td>\n      <td>0.448645</td>\n      <td>79</td>\n      <td>8.972895</td>\n      <td>10</td>\n    </tr>\n    <tr>\n      <th>2009</th>\n      <td>A Serious Man</td>\n      <td>Drama</td>\n      <td>Universal</td>\n      <td>64</td>\n      <td>4.382857</td>\n      <td>89</td>\n      <td>30.680000</td>\n      <td>-25</td>\n    </tr>\n    <tr>\n      <th>2007</th>\n      <td>Across the Universe</td>\n      <td>Romance</td>\n      <td>Independent</td>\n      <td>84</td>\n      <td>0.652603</td>\n      <td>54</td>\n      <td>29.367143</td>\n      <td>30</td>\n    </tr>\n  </tbody>\n</table>\n</div>"
     },
     "execution_count": 32,
     "metadata": {},
     "output_type": "execute_result"
    }
   ],
   "source": [
    "datas.loc[:, \"分差\"] = datas['Audience  score %'] - datas['Rotten Tomatoes %']\n",
    "datas.head()"
   ],
   "metadata": {
    "collapsed": false,
    "pycharm": {
     "name": "#%%\n"
    }
   }
  },
  {
   "cell_type": "code",
   "execution_count": 34,
   "outputs": [
    {
     "data": {
      "text/plain": "Comedy       41\nRomance      15\nDrama        13\nAnimation     3\nAction        1\nFantasy       1\nName: Genre, dtype: int64"
     },
     "execution_count": 34,
     "metadata": {},
     "output_type": "execute_result"
    }
   ],
   "source": [
    "#对某列的值进行计数：\n",
    "datas['Genre'].value_counts()"
   ],
   "metadata": {
    "collapsed": false,
    "pycharm": {
     "name": "#%%\n"
    }
   }
  },
  {
   "cell_type": "markdown",
   "source": [
    "# 内置统计函数"
   ],
   "metadata": {
    "collapsed": false
   }
  },
  {
   "cell_type": "code",
   "execution_count": 36,
   "outputs": [],
   "source": [
    "datas = pd.read_csv('HollywoodsMostProfitableStories.csv')"
   ],
   "metadata": {
    "collapsed": false,
    "pycharm": {
     "name": "#%%\n"
    }
   }
  },
  {
   "cell_type": "code",
   "execution_count": 37,
   "outputs": [
    {
     "data": {
      "text/plain": "       Audience  score %  Profitability  Rotten Tomatoes %  Worldwide Gross  \\\ncount          73.000000      71.000000          73.000000        74.000000   \nmean           64.136986       4.741610          47.356164       136.351979   \nstd            13.647665       8.292017          26.242655       157.067561   \nmin            35.000000       0.005000           3.000000         0.025000   \n25%            52.000000       1.790680          27.000000        32.447500   \n50%            64.000000       2.642353          45.000000        73.198612   \n75%            76.000000       4.850958          65.000000       190.185250   \nmax            89.000000      66.934000          96.000000       709.820000   \n\n              Year  \ncount    74.000000  \nmean   2009.054054  \nstd       1.353756  \nmin    2007.000000  \n25%    2008.000000  \n50%    2009.000000  \n75%    2010.000000  \nmax    2011.000000  ",
      "text/html": "<div>\n<style scoped>\n    .dataframe tbody tr th:only-of-type {\n        vertical-align: middle;\n    }\n\n    .dataframe tbody tr th {\n        vertical-align: top;\n    }\n\n    .dataframe thead th {\n        text-align: right;\n    }\n</style>\n<table border=\"1\" class=\"dataframe\">\n  <thead>\n    <tr style=\"text-align: right;\">\n      <th></th>\n      <th>Audience  score %</th>\n      <th>Profitability</th>\n      <th>Rotten Tomatoes %</th>\n      <th>Worldwide Gross</th>\n      <th>Year</th>\n    </tr>\n  </thead>\n  <tbody>\n    <tr>\n      <th>count</th>\n      <td>73.000000</td>\n      <td>71.000000</td>\n      <td>73.000000</td>\n      <td>74.000000</td>\n      <td>74.000000</td>\n    </tr>\n    <tr>\n      <th>mean</th>\n      <td>64.136986</td>\n      <td>4.741610</td>\n      <td>47.356164</td>\n      <td>136.351979</td>\n      <td>2009.054054</td>\n    </tr>\n    <tr>\n      <th>std</th>\n      <td>13.647665</td>\n      <td>8.292017</td>\n      <td>26.242655</td>\n      <td>157.067561</td>\n      <td>1.353756</td>\n    </tr>\n    <tr>\n      <th>min</th>\n      <td>35.000000</td>\n      <td>0.005000</td>\n      <td>3.000000</td>\n      <td>0.025000</td>\n      <td>2007.000000</td>\n    </tr>\n    <tr>\n      <th>25%</th>\n      <td>52.000000</td>\n      <td>1.790680</td>\n      <td>27.000000</td>\n      <td>32.447500</td>\n      <td>2008.000000</td>\n    </tr>\n    <tr>\n      <th>50%</th>\n      <td>64.000000</td>\n      <td>2.642353</td>\n      <td>45.000000</td>\n      <td>73.198612</td>\n      <td>2009.000000</td>\n    </tr>\n    <tr>\n      <th>75%</th>\n      <td>76.000000</td>\n      <td>4.850958</td>\n      <td>65.000000</td>\n      <td>190.185250</td>\n      <td>2010.000000</td>\n    </tr>\n    <tr>\n      <th>max</th>\n      <td>89.000000</td>\n      <td>66.934000</td>\n      <td>96.000000</td>\n      <td>709.820000</td>\n      <td>2011.000000</td>\n    </tr>\n  </tbody>\n</table>\n</div>"
     },
     "execution_count": 37,
     "metadata": {},
     "output_type": "execute_result"
    }
   ],
   "source": [
    "datas.describe()"
   ],
   "metadata": {
    "collapsed": false,
    "pycharm": {
     "name": "#%%\n"
    }
   }
  },
  {
   "cell_type": "code",
   "execution_count": 38,
   "outputs": [
    {
     "data": {
      "text/plain": "                   Audience  score %  Profitability  Rotten Tomatoes %  \\\nAudience  score %         186.258752       4.745558         215.603311   \nProfitability               4.745558      68.757551           5.215481   \nRotten Tomatoes %         215.603311       5.215481         688.676941   \nWorldwide Gross           851.959076     193.237626          81.830037   \nYear                       -3.364916      -1.821011          -2.343227   \n\n                   Worldwide Gross       Year  \nAudience  score %       851.959076  -3.364916  \nProfitability           193.237626  -1.821011  \nRotten Tomatoes %        81.830037  -2.343227  \nWorldwide Gross       24670.218767 -26.912686  \nYear                    -26.912686   1.832655  ",
      "text/html": "<div>\n<style scoped>\n    .dataframe tbody tr th:only-of-type {\n        vertical-align: middle;\n    }\n\n    .dataframe tbody tr th {\n        vertical-align: top;\n    }\n\n    .dataframe thead th {\n        text-align: right;\n    }\n</style>\n<table border=\"1\" class=\"dataframe\">\n  <thead>\n    <tr style=\"text-align: right;\">\n      <th></th>\n      <th>Audience  score %</th>\n      <th>Profitability</th>\n      <th>Rotten Tomatoes %</th>\n      <th>Worldwide Gross</th>\n      <th>Year</th>\n    </tr>\n  </thead>\n  <tbody>\n    <tr>\n      <th>Audience  score %</th>\n      <td>186.258752</td>\n      <td>4.745558</td>\n      <td>215.603311</td>\n      <td>851.959076</td>\n      <td>-3.364916</td>\n    </tr>\n    <tr>\n      <th>Profitability</th>\n      <td>4.745558</td>\n      <td>68.757551</td>\n      <td>5.215481</td>\n      <td>193.237626</td>\n      <td>-1.821011</td>\n    </tr>\n    <tr>\n      <th>Rotten Tomatoes %</th>\n      <td>215.603311</td>\n      <td>5.215481</td>\n      <td>688.676941</td>\n      <td>81.830037</td>\n      <td>-2.343227</td>\n    </tr>\n    <tr>\n      <th>Worldwide Gross</th>\n      <td>851.959076</td>\n      <td>193.237626</td>\n      <td>81.830037</td>\n      <td>24670.218767</td>\n      <td>-26.912686</td>\n    </tr>\n    <tr>\n      <th>Year</th>\n      <td>-3.364916</td>\n      <td>-1.821011</td>\n      <td>-2.343227</td>\n      <td>-26.912686</td>\n      <td>1.832655</td>\n    </tr>\n  </tbody>\n</table>\n</div>"
     },
     "execution_count": 38,
     "metadata": {},
     "output_type": "execute_result"
    }
   ],
   "source": [
    "datas.cov()"
   ],
   "metadata": {
    "collapsed": false,
    "pycharm": {
     "name": "#%%\n"
    }
   }
  },
  {
   "cell_type": "code",
   "execution_count": 39,
   "outputs": [
    {
     "data": {
      "text/plain": "                   Audience  score %  Profitability  Rotten Tomatoes %  \\\nAudience  score %           1.000000       0.042083           0.601990   \nProfitability               0.042083       1.000000           0.024210   \nRotten Tomatoes %           0.601990       0.024210           1.000000   \nWorldwide Gross             0.395357       0.146705           0.019748   \nYear                       -0.183528      -0.162404          -0.066465   \n\n                   Worldwide Gross      Year  \nAudience  score %         0.395357 -0.183528  \nProfitability             0.146705 -0.162404  \nRotten Tomatoes %         0.019748 -0.066465  \nWorldwide Gross           1.000000 -0.126570  \nYear                     -0.126570  1.000000  ",
      "text/html": "<div>\n<style scoped>\n    .dataframe tbody tr th:only-of-type {\n        vertical-align: middle;\n    }\n\n    .dataframe tbody tr th {\n        vertical-align: top;\n    }\n\n    .dataframe thead th {\n        text-align: right;\n    }\n</style>\n<table border=\"1\" class=\"dataframe\">\n  <thead>\n    <tr style=\"text-align: right;\">\n      <th></th>\n      <th>Audience  score %</th>\n      <th>Profitability</th>\n      <th>Rotten Tomatoes %</th>\n      <th>Worldwide Gross</th>\n      <th>Year</th>\n    </tr>\n  </thead>\n  <tbody>\n    <tr>\n      <th>Audience  score %</th>\n      <td>1.000000</td>\n      <td>0.042083</td>\n      <td>0.601990</td>\n      <td>0.395357</td>\n      <td>-0.183528</td>\n    </tr>\n    <tr>\n      <th>Profitability</th>\n      <td>0.042083</td>\n      <td>1.000000</td>\n      <td>0.024210</td>\n      <td>0.146705</td>\n      <td>-0.162404</td>\n    </tr>\n    <tr>\n      <th>Rotten Tomatoes %</th>\n      <td>0.601990</td>\n      <td>0.024210</td>\n      <td>1.000000</td>\n      <td>0.019748</td>\n      <td>-0.066465</td>\n    </tr>\n    <tr>\n      <th>Worldwide Gross</th>\n      <td>0.395357</td>\n      <td>0.146705</td>\n      <td>0.019748</td>\n      <td>1.000000</td>\n      <td>-0.126570</td>\n    </tr>\n    <tr>\n      <th>Year</th>\n      <td>-0.183528</td>\n      <td>-0.162404</td>\n      <td>-0.066465</td>\n      <td>-0.126570</td>\n      <td>1.000000</td>\n    </tr>\n  </tbody>\n</table>\n</div>"
     },
     "execution_count": 39,
     "metadata": {},
     "output_type": "execute_result"
    }
   ],
   "source": [
    "datas.corr()"
   ],
   "metadata": {
    "collapsed": false,
    "pycharm": {
     "name": "#%%\n"
    }
   }
  },
  {
   "cell_type": "code",
   "execution_count": 40,
   "outputs": [
    {
     "data": {
      "text/plain": "-3.3649162861491626"
     },
     "execution_count": 40,
     "metadata": {},
     "output_type": "execute_result"
    }
   ],
   "source": [
    "datas['Audience  score %'].cov(datas['Year'])"
   ],
   "metadata": {
    "collapsed": false,
    "pycharm": {
     "name": "#%%\n"
    }
   }
  },
  {
   "cell_type": "code",
   "execution_count": null,
   "outputs": [],
   "source": [],
   "metadata": {
    "collapsed": false,
    "pycharm": {
     "name": "#%%\n"
    }
   }
  }
 ],
 "metadata": {
  "kernelspec": {
   "display_name": "Python 3",
   "language": "python",
   "name": "python3"
  },
  "language_info": {
   "codemirror_mode": {
    "name": "ipython",
    "version": 2
   },
   "file_extension": ".py",
   "mimetype": "text/x-python",
   "name": "python",
   "nbconvert_exporter": "python",
   "pygments_lexer": "ipython2",
   "version": "2.7.6"
  }
 },
 "nbformat": 4,
 "nbformat_minor": 0
}