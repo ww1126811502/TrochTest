{
 "cells": [
  {
   "cell_type": "markdown",
   "source": [
    "我们来训练一个简单的图像识别模型"
   ],
   "metadata": {
    "collapsed": false
   }
  },
  {
   "cell_type": "markdown",
   "source": [
    "一些前置准备："
   ],
   "metadata": {
    "collapsed": false
   }
  },
  {
   "cell_type": "code",
   "execution_count": 5,
   "metadata": {
    "collapsed": true
   },
   "outputs": [],
   "source": [
    "import torchvision\n",
    "import torch.nn\n",
    "import torch\n",
    "from torch.utils.data import DataLoader\n",
    "from torch.utils.tensorboard import SummaryWriter"
   ]
  },
  {
   "cell_type": "code",
   "execution_count": 6,
   "outputs": [
    {
     "name": "stdout",
     "output_type": "stream",
     "text": [
      "当前的device类型：cuda\n"
     ]
    }
   ],
   "source": [
    "#初始化一个device\n",
    "device = torch.device('cuda' if torch.cuda.is_available() else \"cpu\")\n",
    "print(f\"当前的device类型：{device}\")"
   ],
   "metadata": {
    "collapsed": false,
    "pycharm": {
     "name": "#%%\n"
    }
   }
  },
  {
   "cell_type": "code",
   "execution_count": 7,
   "outputs": [
    {
     "name": "stdout",
     "output_type": "stream",
     "text": [
      "Files already downloaded and verified\n",
      "Files already downloaded and verified\n"
     ]
    }
   ],
   "source": [
    "# 准备数据集\n",
    "train_data = torchvision.datasets.CIFAR10(\"datasets\", train=True, transform=torchvision.transforms.ToTensor(),\n",
    "                                          download=True)\n",
    "test_data = torchvision.datasets.CIFAR10(\"datasets\", train=False, transform=torchvision.transforms.ToTensor(),\n",
    "                                         download=True)"
   ],
   "metadata": {
    "collapsed": false,
    "pycharm": {
     "name": "#%%\n"
    }
   }
  },
  {
   "cell_type": "code",
   "execution_count": 8,
   "outputs": [
    {
     "name": "stdout",
     "output_type": "stream",
     "text": [
      "训练数据集的长度：10000\n",
      "测试数据集的长度：10000\n"
     ]
    }
   ],
   "source": [
    "train_data_size = len(train_data)\n",
    "test_data_size = len(test_data)\n",
    "print(f\"训练数据集的长度：{test_data_size}\\n测试数据集的长度：{test_data_size}\")"
   ],
   "metadata": {
    "collapsed": false,
    "pycharm": {
     "name": "#%%\n"
    }
   }
  },
  {
   "cell_type": "code",
   "execution_count": 9,
   "outputs": [],
   "source": [
    "# 准备dataloader：\n",
    "train_dataloader = DataLoader(train_data, 64)\n",
    "test_dataloader = DataLoader(test_data, 64)"
   ],
   "metadata": {
    "collapsed": false,
    "pycharm": {
     "name": "#%%\n"
    }
   }
  },
  {
   "cell_type": "markdown",
   "source": [
    "搭建一个神经网络"
   ],
   "metadata": {
    "collapsed": false
   }
  },
  {
   "cell_type": "code",
   "execution_count": 10,
   "outputs": [],
   "source": [
    "from torch import nn\n",
    "from torch.nn import Sequential, Conv2d, MaxPool2d, Flatten, Linear\n",
    "\n",
    "\n",
    "# 搭建神经网络：\n",
    "class MyModule(nn.Module):\n",
    "    \"\"\"搭建神经网络，用于处理CIFAR10\"\"\"\n",
    "\n",
    "    def __init__(self):\n",
    "        super(MyModule, self).__init__()\n",
    "        self.model1 = Sequential(\n",
    "            Conv2d(3, 32, 5, 1, padding=2),\n",
    "            MaxPool2d(2),\n",
    "            Conv2d(32, 32, 5, 1, padding=2),\n",
    "            MaxPool2d(2),\n",
    "            Conv2d(32, 64, 5, 1, padding=2),\n",
    "            MaxPool2d(2),\n",
    "            Flatten(),\n",
    "            Linear(1024, 64),\n",
    "            Linear(64, 10)\n",
    "        )\n",
    "        self.type = ['飞机', '手机', '鸟', '猫', '鹿', '狗', '青蛙', '马', '船', '树干']\n",
    "\n",
    "    def forward(self, x):\n",
    "        x = self.model1(x)\n",
    "        return x"
   ],
   "metadata": {
    "collapsed": false,
    "pycharm": {
     "name": "#%%\n"
    }
   }
  },
  {
   "cell_type": "code",
   "execution_count": 11,
   "outputs": [
    {
     "data": {
      "text/plain": "MyModule(\n  (model1): Sequential(\n    (0): Conv2d(3, 32, kernel_size=(5, 5), stride=(1, 1), padding=(2, 2))\n    (1): MaxPool2d(kernel_size=2, stride=2, padding=0, dilation=1, ceil_mode=False)\n    (2): Conv2d(32, 32, kernel_size=(5, 5), stride=(1, 1), padding=(2, 2))\n    (3): MaxPool2d(kernel_size=2, stride=2, padding=0, dilation=1, ceil_mode=False)\n    (4): Conv2d(32, 64, kernel_size=(5, 5), stride=(1, 1), padding=(2, 2))\n    (5): MaxPool2d(kernel_size=2, stride=2, padding=0, dilation=1, ceil_mode=False)\n    (6): Flatten(start_dim=1, end_dim=-1)\n    (7): Linear(in_features=1024, out_features=64, bias=True)\n    (8): Linear(in_features=64, out_features=10, bias=True)\n  )\n)"
     },
     "execution_count": 11,
     "metadata": {},
     "output_type": "execute_result"
    }
   ],
   "source": [
    "mymodle = MyModule()\n",
    "mymodle.to(device)"
   ],
   "metadata": {
    "collapsed": false,
    "pycharm": {
     "name": "#%%\n"
    }
   }
  },
  {
   "cell_type": "code",
   "execution_count": 12,
   "outputs": [],
   "source": [
    "# 损失函数：\n",
    "loss_fn = torch.nn.CrossEntropyLoss()\n",
    "loss_fn.to(device)\n",
    "# 优化器：\n",
    "learning_rate = 0.01\n",
    "optim = torch.optim.SGD(mymodle.parameters(), lr=learning_rate)"
   ],
   "metadata": {
    "collapsed": false,
    "pycharm": {
     "name": "#%%\n"
    }
   }
  },
  {
   "cell_type": "code",
   "execution_count": 13,
   "outputs": [],
   "source": [
    "# 声明一些计数变量\n",
    "total_train_step = 0\n",
    "total_test_step = 0\n",
    "epoch = 2\n",
    "# 添加tensorboard\n",
    "writer = SummaryWriter(\"logs\")"
   ],
   "metadata": {
    "collapsed": false,
    "pycharm": {
     "name": "#%%\n"
    }
   }
  },
  {
   "cell_type": "markdown",
   "source": [
    "上面都是一些准备模块，接下来是对模型的训练："
   ],
   "metadata": {
    "collapsed": false
   }
  },
  {
   "cell_type": "code",
   "execution_count": 15,
   "outputs": [
    {
     "name": "stdout",
     "output_type": "stream",
     "text": [
      "第1轮训练开始：\n",
      "训练次数1600,当前loss:1.710988998413086\n",
      "训练次数1700,当前loss:1.6389728784561157\n",
      "训练次数1800,当前loss:1.9491033554077148\n",
      "训练次数1900,当前loss:1.692307472229004\n",
      "训练次数2000,当前loss:1.9116666316986084\n",
      "训练次数2100,当前loss:1.5218448638916016\n",
      "训练次数2200,当前loss:1.47725248336792\n",
      "训练次数2300,当前loss:1.769529104232788\n",
      "第1轮训练结束，整体测试集上的loss:266.0967712402344\n",
      "第1轮训练结束，整体测试集上的正确率:0.3870999813079834\n",
      "第2轮训练开始：\n",
      "训练次数2400,当前loss:1.7246737480163574\n",
      "训练次数2500,当前loss:1.3543579578399658\n",
      "训练次数2600,当前loss:1.5739370584487915\n",
      "训练次数2700,当前loss:1.6835168600082397\n",
      "训练次数2800,当前loss:1.4994451999664307\n",
      "训练次数2900,当前loss:1.5783699750900269\n",
      "训练次数3000,当前loss:1.3887561559677124\n",
      "训练次数3100,当前loss:1.5180506706237793\n",
      "第2轮训练结束，整体测试集上的loss:264.96923828125\n",
      "第2轮训练结束，整体测试集上的正确率:0.38760000467300415\n",
      "训练已完成，模型已保存！\n"
     ]
    }
   ],
   "source": [
    "for i in range(epoch):\n",
    "    print(f\"第{i + 1}轮训练开始：\")\n",
    "    # 训练步骤:\n",
    "    for data in train_dataloader:\n",
    "        imgs, targets = data\n",
    "        imgs = imgs.to(device)\n",
    "        targets = targets.to(device)\n",
    "        outputs = mymodle(imgs)\n",
    "        # print(outputs)\n",
    "        result_loss = loss_fn(outputs, targets)  # 损失函数的计算\n",
    "        optim.zero_grad()  # 梯度归零\n",
    "        result_loss.backward()  # 梯度反向传播\n",
    "        optim.step()  # 优化器\n",
    "        total_train_step += 1\n",
    "\n",
    "        if total_train_step % 100 == 0:\n",
    "            print(f\"训练次数{total_train_step},当前loss:{result_loss.item()}\")\n",
    "            writer.add_scalar(\"train_loss\", result_loss.item(), total_train_step)\n",
    "\n",
    "    total_test_loss = 0\n",
    "    total_accuracy = 0\n",
    "    with torch.no_grad():\n",
    "        # 每次训练结束后用测试集验证一次结果，no_grad即不对梯度造成影响\n",
    "        for data in test_dataloader:\n",
    "            imgs, targets = data\n",
    "            imgs = imgs.to(device)\n",
    "            targets = targets.to(device)\n",
    "            outputs = mymodle(imgs)\n",
    "            loss = loss_fn(outputs, targets)\n",
    "            total_test_loss += loss\n",
    "\n",
    "            #正确率计算：\n",
    "            accuracy = (outputs.argmax(1) == targets).sum()\n",
    "            \"\"\"outputs.argmax(1)将每一行（原结构是对每一类的预测概率），改为每一行最大值的index，实际代表预测的类别\"\"\"\n",
    "            \"\"\"== targets即将预测结果与目标结果对比，得到true、false组成的数组\"\"\"\n",
    "            \"\"\".sum()即将结果求和，实际代表命中的次数\"\"\"\n",
    "            total_accuracy += accuracy\n",
    "            \"\"\"将本loader中数据的命中次数加至总和\"\"\"\n",
    "    print(f\"第{i + 1}轮训练结束，整体测试集上的loss:{total_test_loss}\")\n",
    "    print(f\"第{i + 1}轮训练结束，整体测试集上的正确率:{total_accuracy/test_data_size}\")\n",
    "    writer.add_scalar(\"test_loss\", loss.item(), total_test_step)\n",
    "    writer.add_scalar(\"test_accuracy\", total_accuracy/test_data_size, total_test_step)\n",
    "    total_test_step += 1\n",
    "\n",
    "writer.close()\n",
    "\n",
    "torch.save(mymodle.state_dict(), f\"mymodle-1.pth\")\n",
    "print(\"训练已完成，模型已保存！\")"
   ],
   "metadata": {
    "collapsed": false,
    "pycharm": {
     "name": "#%%\n"
    }
   }
  },
  {
   "cell_type": "markdown",
   "source": [
    "使用训练好的模型进行一下预测："
   ],
   "metadata": {
    "collapsed": false
   }
  },
  {
   "cell_type": "code",
   "execution_count": 22,
   "outputs": [],
   "source": [
    "import torchvision.transforms as trans\n",
    "from nn_CIFAR10 import MyModule\n",
    "from PIL import Image"
   ],
   "metadata": {
    "collapsed": false,
    "pycharm": {
     "name": "#%%\n"
    }
   }
  },
  {
   "cell_type": "code",
   "execution_count": 23,
   "outputs": [
    {
     "name": "stdout",
     "output_type": "stream",
     "text": [
      "PNG\n"
     ]
    }
   ],
   "source": [
    "img_path = 'imgs/qingwa.png'\n",
    "img = Image.open(img_path)\n",
    "print(img.format)\n",
    "#png是四通道，需要转通道\n",
    "if img.format == 'PNG':\n",
    "    img = img.convert(\"RGB\")"
   ],
   "metadata": {
    "collapsed": false,
    "pycharm": {
     "name": "#%%\n"
    }
   }
  },
  {
   "cell_type": "code",
   "execution_count": 24,
   "outputs": [
    {
     "name": "stdout",
     "output_type": "stream",
     "text": [
      "图片imgs/qingwa.png读取并转换成功\n"
     ]
    }
   ],
   "source": [
    "transform2 = trans.Compose([trans.Resize((32, 32)),\n",
    "                           trans.ToTensor()])\n",
    "img = transform2(img)\n",
    "#print(f\"img.shape={img.shape}\")\n",
    "print(f\"图片{img_path}读取并转换成功\")"
   ],
   "metadata": {
    "collapsed": false,
    "pycharm": {
     "name": "#%%\n"
    }
   }
  },
  {
   "cell_type": "code",
   "execution_count": 25,
   "outputs": [
    {
     "data": {
      "text/plain": "tensor([[[0.5529, 0.4941, 0.4902,  ..., 0.4745, 0.4824, 0.4902],\n         [0.4980, 0.4902, 0.4980,  ..., 0.4745, 0.4863, 0.4863],\n         [0.4902, 0.4824, 0.4784,  ..., 0.4824, 0.4824, 0.4941],\n         ...,\n         [0.5216, 0.5059, 0.4745,  ..., 0.5137, 0.5216, 0.5294],\n         [0.5451, 0.5098, 0.4980,  ..., 0.5176, 0.5216, 0.5373],\n         [0.5255, 0.4784, 0.5176,  ..., 0.5255, 0.5373, 0.5529]],\n\n        [[0.8392, 0.8235, 0.8157,  ..., 0.7961, 0.8000, 0.8000],\n         [0.8157, 0.8196, 0.8157,  ..., 0.7922, 0.8000, 0.8000],\n         [0.8196, 0.8157, 0.8118,  ..., 0.8000, 0.8000, 0.8118],\n         ...,\n         [0.8196, 0.8039, 0.7608,  ..., 0.8471, 0.8549, 0.8627],\n         [0.8549, 0.8353, 0.8039,  ..., 0.8471, 0.8549, 0.8667],\n         [0.8510, 0.8196, 0.8118,  ..., 0.8588, 0.8627, 0.8745]],\n\n        [[0.6392, 0.5569, 0.5569,  ..., 0.5647, 0.6039, 0.6431],\n         [0.5882, 0.5647, 0.5765,  ..., 0.6000, 0.6196, 0.6314],\n         [0.5647, 0.5529, 0.5529,  ..., 0.6078, 0.6157, 0.6078],\n         ...,\n         [0.6863, 0.6784, 0.6118,  ..., 0.5490, 0.5843, 0.6039],\n         [0.6784, 0.6431, 0.6275,  ..., 0.5529, 0.5608, 0.6000],\n         [0.6275, 0.5882, 0.6510,  ..., 0.5765, 0.5725, 0.5843]]])"
     },
     "execution_count": 25,
     "metadata": {},
     "output_type": "execute_result"
    }
   ],
   "source": [
    "img"
   ],
   "metadata": {
    "collapsed": false,
    "pycharm": {
     "name": "#%%\n"
    }
   }
  },
  {
   "cell_type": "code",
   "execution_count": 26,
   "outputs": [
    {
     "name": "stdout",
     "output_type": "stream",
     "text": [
      "模型加载成功\n"
     ]
    }
   ],
   "source": [
    "module = MyModule()\n",
    "module.load_state_dict(torch.load(\"mymodle.pth\"))\n",
    "print(\"模型加载成功\")"
   ],
   "metadata": {
    "collapsed": false,
    "pycharm": {
     "name": "#%%\n"
    }
   }
  },
  {
   "cell_type": "markdown",
   "source": [
    "把处理好的图片，输入到之前训练的模型中，得到识别结果"
   ],
   "metadata": {
    "collapsed": false
   }
  },
  {
   "cell_type": "code",
   "execution_count": 27,
   "outputs": [
    {
     "name": "stdout",
     "output_type": "stream",
     "text": [
      "预测的结果是：青蛙\n"
     ]
    }
   ],
   "source": [
    "img = torch.reshape(img, (1, 3, 32, 32))\n",
    "module.eval()   #转换至测试状态\n",
    "with torch.no_grad():\n",
    "    outputs = module(img)\n",
    "#转换一下测试结果\n",
    "print(f\"预测的结果是：{module.type[outputs.argmax(1)]}\")"
   ],
   "metadata": {
    "collapsed": false,
    "pycharm": {
     "name": "#%%\n"
    }
   }
  },
  {
   "cell_type": "markdown",
   "source": [],
   "metadata": {
    "collapsed": false
   }
  }
 ],
 "metadata": {
  "kernelspec": {
   "display_name": "Python 3",
   "language": "python",
   "name": "python3"
  },
  "language_info": {
   "codemirror_mode": {
    "name": "ipython",
    "version": 2
   },
   "file_extension": ".py",
   "mimetype": "text/x-python",
   "name": "python",
   "nbconvert_exporter": "python",
   "pygments_lexer": "ipython2",
   "version": "2.7.6"
  }
 },
 "nbformat": 4,
 "nbformat_minor": 0
}