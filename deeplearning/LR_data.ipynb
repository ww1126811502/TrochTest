{
 "cells": [
  {
   "cell_type": "code",
   "execution_count": 1,
   "metadata": {
    "collapsed": true
   },
   "outputs": [],
   "source": [
    "import torch\n",
    "import matplotlib.pyplot as plt"
   ]
  },
  {
   "cell_type": "code",
   "execution_count": 4,
   "outputs": [],
   "source": [
    "x = torch.Tensor([1.4, 5, 11, 16, 21])\n",
    "y = torch.Tensor([14.4, 29.6, 62, 85.5, 113.4])"
   ],
   "metadata": {
    "collapsed": false,
    "pycharm": {
     "name": "#%%\n"
    }
   }
  },
  {
   "cell_type": "code",
   "execution_count": 5,
   "outputs": [
    {
     "data": {
      "text/plain": "<Figure size 432x288 with 1 Axes>",
      "image/png": "[encoded data removed]"
     },
     "metadata": {},
     "output_type": "display_data"
    }
   ],
   "source": [
    "plt.scatter(x.numpy(), y.numpy())\n",
    "plt.show()"
   ],
   "metadata": {
    "collapsed": false,
    "pycharm": {
     "name": "#%%\n"
    }
   }
  },
  {
   "cell_type": "code",
   "execution_count": 6,
   "outputs": [],
   "source": [
    "def Produce_X(x):\n",
    "    x0 = torch.ones(x.numpy().size)\n",
    "    X = torch.stack((x, x0), dim=1)\n",
    "    return X"
   ],
   "metadata": {
    "collapsed": false,
    "pycharm": {
     "name": "#%%\n"
    }
   }
  },
  {
   "cell_type": "code",
   "execution_count": 7,
   "outputs": [
    {
     "data": {
      "text/plain": "tensor([[ 1.4000,  1.0000],\n        [ 5.0000,  1.0000],\n        [11.0000,  1.0000],\n        [16.0000,  1.0000],\n        [21.0000,  1.0000]])"
     },
     "execution_count": 7,
     "metadata": {},
     "output_type": "execute_result"
    }
   ],
   "source": [
    "X = Produce_X(x)\n",
    "X"
   ],
   "metadata": {
    "collapsed": false,
    "pycharm": {
     "name": "#%%\n"
    }
   }
  },
  {
   "cell_type": "code",
   "execution_count": 8,
   "outputs": [],
   "source": [
    "inputs = X\n",
    "target = y\n",
    "w = torch.rand(2, requires_grad=True)"
   ],
   "metadata": {
    "collapsed": false,
    "pycharm": {
     "name": "#%%\n"
    }
   }
  },
  {
   "cell_type": "code",
   "execution_count": 12,
   "outputs": [],
   "source": [
    "def train(epochs = 1, learning_rate = 0.01):\n",
    "    for epoch in range(epochs):\n",
    "        output = inputs.mv(w)\n",
    "        loss = (output - target).pow(2).sum()\n",
    "\n",
    "        loss.backward()\n",
    "        w.data -= learning_rate * w.grad\n",
    "        w.grad.zero_()\n",
    "        # if epoch % 80 == 0:\n",
    "        #     draw(output, loss)\n",
    "    return w, loss"
   ],
   "metadata": {
    "collapsed": false,
    "pycharm": {
     "name": "#%%\n"
    }
   }
  },
  {
   "cell_type": "code",
   "execution_count": 10,
   "outputs": [],
   "source": [
    "def draw(output, loss):\n",
    "    plt.cla()\n",
    "    plt.scatter(x.numpy(), y.numpy())\n",
    "    plt.plot(x.numpy(), output.data.numpy(), '-r', lw=5)\n",
    "    plt.text(0.5, 0, 'loss=%s'%(loss.item()), fontdict={'size':20, 'color':'red'})\n",
    "    plt.pause(0.005)"
   ],
   "metadata": {
    "collapsed": false,
    "pycharm": {
     "name": "#%%\n"
    }
   }
  },
  {
   "cell_type": "code",
   "execution_count": 13,
   "outputs": [
    {
     "name": "stdout",
     "output_type": "stream",
     "text": [
      "最终loss：8.132037162780762\n",
      "tensor([5.0673, 5.8440])\n"
     ]
    }
   ],
   "source": [
    "w, loss = train(10000, learning_rate=0.0001)\n",
    "print(f'最终loss：{loss.item()}')\n",
    "print(f'{w.data}')"
   ],
   "metadata": {
    "collapsed": false,
    "pycharm": {
     "name": "#%%\n"
    }
   }
  },
  {
   "cell_type": "code",
   "execution_count": null,
   "outputs": [],
   "source": [],
   "metadata": {
    "collapsed": false,
    "pycharm": {
     "name": "#%%\n"
    }
   }
  }
 ],
 "metadata": {
  "kernelspec": {
   "display_name": "Python 3",
   "language": "python",
   "name": "python3"
  },
  "language_info": {
   "codemirror_mode": {
    "name": "ipython",
    "version": 2
   },
   "file_extension": ".py",
   "mimetype": "text/x-python",
   "name": "python",
   "nbconvert_exporter": "python",
   "pygments_lexer": "ipython2",
   "version": "2.7.6"
  }
 },
 "nbformat": 4,
 "nbformat_minor": 0
}